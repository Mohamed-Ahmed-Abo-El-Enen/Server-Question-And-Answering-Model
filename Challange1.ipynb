{
 "cells": [
  {
   "cell_type": "code",
   "execution_count": 64,
   "metadata": {
    "ExecuteTime": {
     "end_time": "2020-12-15T11:46:19.460005Z",
     "start_time": "2020-12-15T11:46:19.445714Z"
    },
    "id": "ujiND6JMjs35"
   },
   "outputs": [],
   "source": [
    "import pandas as pd\n",
    "import warnings\n",
    "warnings.filterwarnings('ignore')\n",
    "import random\n",
    "random.seed(1)"
   ]
  },
  {
   "cell_type": "code",
   "execution_count": 65,
   "metadata": {
    "ExecuteTime": {
     "end_time": "2020-12-15T11:46:19.810286Z",
     "start_time": "2020-12-15T11:46:19.803634Z"
    },
    "colab": {
     "base_uri": "https://localhost:8080/"
    },
    "id": "DXLUsnTfSEQq",
    "outputId": "85b2d1ae-81ab-4971-c544-37cf7e6d3784"
   },
   "outputs": [],
   "source": [
    "#pip install paramiko"
   ]
  },
  {
   "cell_type": "code",
   "execution_count": 66,
   "metadata": {
    "ExecuteTime": {
     "end_time": "2020-12-15T11:46:20.088917Z",
     "start_time": "2020-12-15T11:46:20.080474Z"
    },
    "colab": {
     "base_uri": "https://localhost:8080/"
    },
    "id": "fxEwJQAJmqcr",
    "outputId": "573cd8ec-8fa5-4e7e-e89a-440d5ef92ab6"
   },
   "outputs": [],
   "source": [
    "#challange1_folder_path = \"EGYPTE-PUBLIC\\ChallengeNumber1\"\n",
    "\n",
    "#import paramiko\n",
    "#ssh_client =paramiko.SSHClient()\n",
    "#ssh_client.set_missing_host_key_policy(paramiko.AutoAddPolicy())\n",
    "#ssh_client.connect(hostname='193.93.8.65',username='DFI-Egypt124',password='j2h*cLXqYfa9')\n",
    "\n",
    "#sftp_client = ssh_client.open_sftp()\n",
    "\n",
    "#list_xlsx_files = []\n",
    "#for file_attributes in sftp_client.listdir_attr(challange1_folder_path):\n",
    "#    print(file_attributes)\n",
    "#    if file_attributes.filename.endswith('.xlsx'):\n",
    "#        list_xlsx_files.append(challange1_folder_path+\"\\\\\"+file_attributes.filename)\n",
    "\n",
    "#file = sftp_client.open(list_xlsx_files[0])\n",
    "\n",
    "#sftp_client.get(file,'')"
   ]
  },
  {
   "cell_type": "code",
   "execution_count": 67,
   "metadata": {
    "ExecuteTime": {
     "end_time": "2020-12-15T11:47:12.525117Z",
     "start_time": "2020-12-15T11:46:20.296462Z"
    },
    "colab": {
     "base_uri": "https://localhost:8080/",
     "height": 626
    },
    "id": "REnek71sj3F4",
    "outputId": "8d141682-3c0c-4047-ce88-dca8d4873a34"
   },
   "outputs": [
    {
     "data": {
      "text/html": [
       "<div>\n",
       "<style scoped>\n",
       "    .dataframe tbody tr th:only-of-type {\n",
       "        vertical-align: middle;\n",
       "    }\n",
       "\n",
       "    .dataframe tbody tr th {\n",
       "        vertical-align: top;\n",
       "    }\n",
       "\n",
       "    .dataframe thead th {\n",
       "        text-align: right;\n",
       "    }\n",
       "</style>\n",
       "<table border=\"1\" class=\"dataframe\">\n",
       "  <thead>\n",
       "    <tr style=\"text-align: right;\">\n",
       "      <th></th>\n",
       "      <th>ID</th>\n",
       "      <th>Structure</th>\n",
       "      <th>Team</th>\n",
       "      <th>Operator</th>\n",
       "      <th>Type</th>\n",
       "      <th>Status</th>\n",
       "      <th>Ticket Title</th>\n",
       "      <th>Incident-Subject</th>\n",
       "      <th>Ticket-Description</th>\n",
       "      <th>Number of Changes</th>\n",
       "      <th>...</th>\n",
       "      <th>Achievement%</th>\n",
       "      <th>Charge réelle</th>\n",
       "      <th>Charge estimée</th>\n",
       "      <th>SLA</th>\n",
       "      <th>Priority</th>\n",
       "      <th>Application</th>\n",
       "      <th>Environment</th>\n",
       "      <th>ServerName</th>\n",
       "      <th>Category</th>\n",
       "      <th>Sub-Category</th>\n",
       "    </tr>\n",
       "  </thead>\n",
       "  <tbody>\n",
       "    <tr>\n",
       "      <td>0</td>\n",
       "      <td>55019</td>\n",
       "      <td>NUTRITION ET SANTE</td>\n",
       "      <td>PILOTAGE</td>\n",
       "      <td>ADIL ABBOU</td>\n",
       "      <td>Incidents</td>\n",
       "      <td>Clôturé définitivement</td>\n",
       "      <td>[CRITICAL] () FRDAPLANIF1 / Service: _SMAOpCon...</td>\n",
       "      <td>Bonsoir     Notre outil de supervision a remo...</td>\n",
       "      <td>Bonsoir,     Le service Minos a redémarré aut...</td>\n",
       "      <td>2</td>\n",
       "      <td>...</td>\n",
       "      <td>100</td>\n",
       "      <td>00h 10min</td>\n",
       "      <td>NaN</td>\n",
       "      <td>SLA-INC-C1</td>\n",
       "      <td>C1</td>\n",
       "      <td>Système</td>\n",
       "      <td>Windows</td>\n",
       "      <td>FRDAPLANIF1 / C1</td>\n",
       "      <td>Supervision</td>\n",
       "      <td>NaN</td>\n",
       "    </tr>\n",
       "    <tr>\n",
       "      <td>1</td>\n",
       "      <td>55020</td>\n",
       "      <td>POCLAIN HYDRAULICS</td>\n",
       "      <td>PILOTAGE</td>\n",
       "      <td>ADIL ABBOU</td>\n",
       "      <td>Incidents</td>\n",
       "      <td>Clôturé définitivement</td>\n",
       "      <td>[CRITICAL] FRVE-SRV-PHIND-DB06 / Partition : E</td>\n",
       "      <td>Bonjour,     Notre plateforme de supervision ...</td>\n",
       "      <td>Bonjour,     Partition OK     E:\\ - total: 19...</td>\n",
       "      <td>4</td>\n",
       "      <td>...</td>\n",
       "      <td>100</td>\n",
       "      <td>00h 15min</td>\n",
       "      <td>NaN</td>\n",
       "      <td>SLA-INCIDENT-CRITICITE-2-HNO</td>\n",
       "      <td>C2-HNO</td>\n",
       "      <td>NaN</td>\n",
       "      <td>CEGID/LINKKI</td>\n",
       "      <td>NaN</td>\n",
       "      <td>NaN</td>\n",
       "      <td>NaN</td>\n",
       "    </tr>\n",
       "    <tr>\n",
       "      <td>2</td>\n",
       "      <td>55021</td>\n",
       "      <td>RATPDEV</td>\n",
       "      <td>PILOTAGE</td>\n",
       "      <td>PHILIPPE DUVAL</td>\n",
       "      <td>Incidents</td>\n",
       "      <td>Clôturé définitivement</td>\n",
       "      <td>Job RENUM.VAC en message</td>\n",
       "      <td>Bonjour,     Message reçu dans QSYSOPR      T...</td>\n",
       "      <td>Bonjour     Je clôture ce ticket :      Trava...</td>\n",
       "      <td>3</td>\n",
       "      <td>...</td>\n",
       "      <td>100</td>\n",
       "      <td>00h 23min</td>\n",
       "      <td>NaN</td>\n",
       "      <td>Incident sévérité 1</td>\n",
       "      <td>Incident Sévérité 2</td>\n",
       "      <td>AS400</td>\n",
       "      <td>AS/400</td>\n",
       "      <td>RATP-OPERA400 / C1</td>\n",
       "      <td>NaN</td>\n",
       "      <td>NaN</td>\n",
       "    </tr>\n",
       "    <tr>\n",
       "      <td>3</td>\n",
       "      <td>55023</td>\n",
       "      <td>D-FI</td>\n",
       "      <td>SUPPORT BT NETAPP</td>\n",
       "      <td>AURELIEN CHASSAIN</td>\n",
       "      <td>Incidents</td>\n",
       "      <td>Clôturé définitivement</td>\n",
       "      <td>srvsanrdcb // NetApp : Etat Filer</td>\n",
       "      <td>Bonjour,     Notre outil de supervision nous ...</td>\n",
       "      <td>bon pour cloture  Cordialement,  Aurélien Cha...</td>\n",
       "      <td>2</td>\n",
       "      <td>...</td>\n",
       "      <td>100</td>\n",
       "      <td>00h 15min</td>\n",
       "      <td>NaN</td>\n",
       "      <td>NaN</td>\n",
       "      <td>3-Haut</td>\n",
       "      <td>Autre</td>\n",
       "      <td>Autre</td>\n",
       "      <td>NaN</td>\n",
       "      <td>NaN</td>\n",
       "      <td>NaN</td>\n",
       "    </tr>\n",
       "    <tr>\n",
       "      <td>4</td>\n",
       "      <td>55024</td>\n",
       "      <td>POCLAIN HYDRAULICS</td>\n",
       "      <td>PILOTAGE</td>\n",
       "      <td>ADIL ABBOU</td>\n",
       "      <td>Incidents</td>\n",
       "      <td>Clôturé définitivement</td>\n",
       "      <td>[FRVE-SRV-H34VM] Service PeopleSoft_D__PS_HOME...</td>\n",
       "      <td>Bonjour,     Host: FRVE-SRV-H34VM  @NAT : 10....</td>\n",
       "      <td>Bonjour,     Le service a été relancé avec su...</td>\n",
       "      <td>2</td>\n",
       "      <td>...</td>\n",
       "      <td>100</td>\n",
       "      <td>00h 10min</td>\n",
       "      <td>NaN</td>\n",
       "      <td>SLA-INCIDENT-CRITICITE-2-HNO</td>\n",
       "      <td>C2-HNO</td>\n",
       "      <td>NaN</td>\n",
       "      <td>CEGID/LINKKI</td>\n",
       "      <td>NaN</td>\n",
       "      <td>NaN</td>\n",
       "      <td>NaN</td>\n",
       "    </tr>\n",
       "  </tbody>\n",
       "</table>\n",
       "<p>5 rows × 29 columns</p>\n",
       "</div>"
      ],
      "text/plain": [
       "      ID           Structure               Team           Operator       Type  \\\n",
       "0  55019  NUTRITION ET SANTE           PILOTAGE         ADIL ABBOU  Incidents   \n",
       "1  55020  POCLAIN HYDRAULICS           PILOTAGE         ADIL ABBOU  Incidents   \n",
       "2  55021             RATPDEV           PILOTAGE     PHILIPPE DUVAL  Incidents   \n",
       "3  55023                D-FI  SUPPORT BT NETAPP  AURELIEN CHASSAIN  Incidents   \n",
       "4  55024  POCLAIN HYDRAULICS           PILOTAGE         ADIL ABBOU  Incidents   \n",
       "\n",
       "                   Status                                       Ticket Title  \\\n",
       "0  Clôturé définitivement  [CRITICAL] () FRDAPLANIF1 / Service: _SMAOpCon...   \n",
       "1  Clôturé définitivement     [CRITICAL] FRVE-SRV-PHIND-DB06 / Partition : E   \n",
       "2  Clôturé définitivement                           Job RENUM.VAC en message   \n",
       "3  Clôturé définitivement                  srvsanrdcb // NetApp : Etat Filer   \n",
       "4  Clôturé définitivement  [FRVE-SRV-H34VM] Service PeopleSoft_D__PS_HOME...   \n",
       "\n",
       "                                    Incident-Subject  \\\n",
       "0   Bonsoir     Notre outil de supervision a remo...   \n",
       "1   Bonjour,     Notre plateforme de supervision ...   \n",
       "2   Bonjour,     Message reçu dans QSYSOPR      T...   \n",
       "3   Bonjour,     Notre outil de supervision nous ...   \n",
       "4   Bonjour,     Host: FRVE-SRV-H34VM  @NAT : 10....   \n",
       "\n",
       "                                  Ticket-Description  Number of Changes  ...  \\\n",
       "0   Bonsoir,     Le service Minos a redémarré aut...                  2  ...   \n",
       "1   Bonjour,     Partition OK     E:\\ - total: 19...                  4  ...   \n",
       "2   Bonjour     Je clôture ce ticket :      Trava...                  3  ...   \n",
       "3   bon pour cloture  Cordialement,  Aurélien Cha...                  2  ...   \n",
       "4   Bonjour,     Le service a été relancé avec su...                  2  ...   \n",
       "\n",
       "  Achievement% Charge réelle Charge estimée                           SLA  \\\n",
       "0          100     00h 10min            NaN                    SLA-INC-C1   \n",
       "1          100     00h 15min            NaN  SLA-INCIDENT-CRITICITE-2-HNO   \n",
       "2          100     00h 23min            NaN           Incident sévérité 1   \n",
       "3          100     00h 15min            NaN                           NaN   \n",
       "4          100     00h 10min            NaN  SLA-INCIDENT-CRITICITE-2-HNO   \n",
       "\n",
       "              Priority Application   Environment          ServerName  \\\n",
       "0                   C1     Système       Windows    FRDAPLANIF1 / C1   \n",
       "1               C2-HNO         NaN  CEGID/LINKKI                 NaN   \n",
       "2  Incident Sévérité 2       AS400        AS/400  RATP-OPERA400 / C1   \n",
       "3               3-Haut       Autre         Autre                 NaN   \n",
       "4               C2-HNO         NaN  CEGID/LINKKI                 NaN   \n",
       "\n",
       "      Category  Sub-Category  \n",
       "0  Supervision           NaN  \n",
       "1          NaN           NaN  \n",
       "2          NaN           NaN  \n",
       "3          NaN           NaN  \n",
       "4          NaN           NaN  \n",
       "\n",
       "[5 rows x 29 columns]"
      ]
     },
     "execution_count": 67,
     "metadata": {},
     "output_type": "execute_result"
    }
   ],
   "source": [
    "file = \"DFI -Ticketing.xlsx\"\n",
    "\n",
    "df = pd.read_excel(file)\n",
    "df.head()"
   ]
  },
  {
   "cell_type": "code",
   "execution_count": 69,
   "metadata": {
    "ExecuteTime": {
     "end_time": "2020-12-15T11:47:16.066114Z",
     "start_time": "2020-12-15T11:47:15.814971Z"
    },
    "colab": {
     "base_uri": "https://localhost:8080/"
    },
    "id": "yNeCg9Td3i3G",
    "outputId": "5fd5f438-6509-4b3b-a9ba-dc7f64051b76"
   },
   "outputs": [
    {
     "name": "stdout",
     "output_type": "stream",
     "text": [
      "<class 'pandas.core.frame.DataFrame'>\n",
      "RangeIndex: 89058 entries, 0 to 89057\n",
      "Data columns (total 29 columns):\n",
      "ID                    89058 non-null int64\n",
      "Structure             89058 non-null object\n",
      "Team                  89041 non-null object\n",
      "Operator              89009 non-null object\n",
      "Type                  89058 non-null object\n",
      "Status                89058 non-null object\n",
      "Ticket Title          89058 non-null object\n",
      "Incident-Subject      89058 non-null object\n",
      "Ticket-Description    89034 non-null object\n",
      "Number of Changes     89058 non-null int64\n",
      "Author                89058 non-null object\n",
      "Site                  89058 non-null object\n",
      "Creation-date         89058 non-null object\n",
      "update-date           89058 non-null object\n",
      "Validation Time       89058 non-null object\n",
      "Treatment Date        89056 non-null object\n",
      "Delay                 89058 non-null object\n",
      "Action-Time           77323 non-null object\n",
      "Wait Time             89058 non-null object\n",
      "Achievement%          89058 non-null int64\n",
      "Charge réelle         89056 non-null object\n",
      "Charge estimée        8 non-null object\n",
      "SLA                   77613 non-null object\n",
      "Priority              85960 non-null object\n",
      "Application           65932 non-null object\n",
      "Environment           84856 non-null object\n",
      "ServerName            28747 non-null object\n",
      "Category              57412 non-null object\n",
      "Sub-Category          12340 non-null object\n",
      "dtypes: int64(3), object(26)\n",
      "memory usage: 19.7+ MB\n"
     ]
    }
   ],
   "source": [
    "df.info()"
   ]
  },
  {
   "cell_type": "code",
   "execution_count": 70,
   "metadata": {
    "ExecuteTime": {
     "end_time": "2020-12-15T11:47:16.408297Z",
     "start_time": "2020-12-15T11:47:16.324293Z"
    },
    "colab": {
     "base_uri": "https://localhost:8080/",
     "height": 504
    },
    "id": "rvQK21Ps9AF2",
    "outputId": "06cbd3fb-66ec-4473-d1a5-b4521bae1dd4"
   },
   "outputs": [
    {
     "data": {
      "text/html": [
       "<div>\n",
       "<style scoped>\n",
       "    .dataframe tbody tr th:only-of-type {\n",
       "        vertical-align: middle;\n",
       "    }\n",
       "\n",
       "    .dataframe tbody tr th {\n",
       "        vertical-align: top;\n",
       "    }\n",
       "\n",
       "    .dataframe thead th {\n",
       "        text-align: right;\n",
       "    }\n",
       "</style>\n",
       "<table border=\"1\" class=\"dataframe\">\n",
       "  <thead>\n",
       "    <tr style=\"text-align: right;\">\n",
       "      <th></th>\n",
       "      <th>ID</th>\n",
       "      <th>Structure</th>\n",
       "      <th>Team</th>\n",
       "      <th>Operator</th>\n",
       "      <th>Type</th>\n",
       "      <th>Status</th>\n",
       "      <th>Ticket Title</th>\n",
       "      <th>Incident-Subject</th>\n",
       "      <th>Ticket-Description</th>\n",
       "      <th>Number of Changes</th>\n",
       "      <th>...</th>\n",
       "      <th>Achievement%</th>\n",
       "      <th>Charge réelle</th>\n",
       "      <th>Charge estimée</th>\n",
       "      <th>SLA</th>\n",
       "      <th>Priority</th>\n",
       "      <th>Application</th>\n",
       "      <th>Environment</th>\n",
       "      <th>ServerName</th>\n",
       "      <th>Category</th>\n",
       "      <th>Sub-Category</th>\n",
       "    </tr>\n",
       "  </thead>\n",
       "  <tbody>\n",
       "    <tr>\n",
       "      <td>37918</td>\n",
       "      <td>104446</td>\n",
       "      <td>POCLAIN HYDRAULICS</td>\n",
       "      <td>PILOTAGE</td>\n",
       "      <td>ZAKIA ELBAYAZ</td>\n",
       "      <td>Incidents</td>\n",
       "      <td>Clôturé définitivement</td>\n",
       "      <td>GAGGIO: PHGAGGIO-BACKUP.poclain-hydraulics.net...</td>\n",
       "      <td>Bonjour,     Lors de nos controles de sauvega...</td>\n",
       "      <td>Bonjour,     le fichier de contrôle. est actu...</td>\n",
       "      <td>5</td>\n",
       "      <td>...</td>\n",
       "      <td>100</td>\n",
       "      <td>00h 23min</td>\n",
       "      <td>NaN</td>\n",
       "      <td>SLA-INCIDENT-CRITICITE-1-HO</td>\n",
       "      <td>C1-HO</td>\n",
       "      <td>NaN</td>\n",
       "      <td>BACKUPEXEC</td>\n",
       "      <td>ITGA-SRV-PHGAGGIO-BACKUP/C2-HO</td>\n",
       "      <td>BACKUP</td>\n",
       "      <td>ERREUR DE SAUVEGARDE</td>\n",
       "    </tr>\n",
       "    <tr>\n",
       "      <td>62842</td>\n",
       "      <td>130251</td>\n",
       "      <td>CHABE</td>\n",
       "      <td>PILOTAGE</td>\n",
       "      <td>Amine BOUKHRISS</td>\n",
       "      <td>Incidents</td>\n",
       "      <td>Clôturé définitivement</td>\n",
       "      <td>[WARNING] EQ-CHA-AD02 : Memoire Physique</td>\n",
       "      <td>Bonjour,     Notre outil de supervision nous ...</td>\n",
       "      <td>Bonjour,     L'alerte n'est plus d'actualité....</td>\n",
       "      <td>2</td>\n",
       "      <td>...</td>\n",
       "      <td>100</td>\n",
       "      <td>00h 12min</td>\n",
       "      <td>NaN</td>\n",
       "      <td>SLA-INC-C1</td>\n",
       "      <td>C1</td>\n",
       "      <td>AUTRE</td>\n",
       "      <td>WINDOWS</td>\n",
       "      <td>EQ-CHA-AD02 - C1</td>\n",
       "      <td>Supervision</td>\n",
       "      <td>NaN</td>\n",
       "    </tr>\n",
       "    <tr>\n",
       "      <td>29269</td>\n",
       "      <td>94575</td>\n",
       "      <td>POCLAIN HYDRAULICS</td>\n",
       "      <td>PILOTAGE</td>\n",
       "      <td>JIHAD EL HADRI</td>\n",
       "      <td>Demandes</td>\n",
       "      <td>Clôturé définitivement</td>\n",
       "      <td>53232 - New security group for CZBR</td>\n",
       "      <td>Dominik DVORACEK  dominik.dvoracek  dominik.d...</td>\n",
       "      <td>Hello,     The group has been created, and th...</td>\n",
       "      <td>1</td>\n",
       "      <td>...</td>\n",
       "      <td>100</td>\n",
       "      <td>00h 15min</td>\n",
       "      <td>NaN</td>\n",
       "      <td>SLA-DEMANDE-CRITICITE-2-HO</td>\n",
       "      <td>C2-HO</td>\n",
       "      <td>NaN</td>\n",
       "      <td>LANDESK</td>\n",
       "      <td>NaN</td>\n",
       "      <td>LANDESK</td>\n",
       "      <td>NETWORK ACCESS</td>\n",
       "    </tr>\n",
       "    <tr>\n",
       "      <td>23372</td>\n",
       "      <td>87170</td>\n",
       "      <td>D-FI INTERNE</td>\n",
       "      <td>SUPPORT PLA</td>\n",
       "      <td>AURELIEN CHASSAIN</td>\n",
       "      <td>Incidents</td>\n",
       "      <td>Clôturé définitivement</td>\n",
       "      <td>Mail NAVISION AVIS DE VALIDATION D'AFFAIRE</td>\n",
       "      <td>Origine: Martine GOUZLAN - 2017-07-12 16:11  ...</td>\n",
       "      <td>validation de Martine. bon pour cloture  Cord...</td>\n",
       "      <td>4</td>\n",
       "      <td>...</td>\n",
       "      <td>100</td>\n",
       "      <td>00h 35min</td>\n",
       "      <td>NaN</td>\n",
       "      <td>NaN</td>\n",
       "      <td>2-Moyen</td>\n",
       "      <td>Bureautique hors Outlook</td>\n",
       "      <td>Autre</td>\n",
       "      <td>NaN</td>\n",
       "      <td>NaN</td>\n",
       "      <td>NaN</td>\n",
       "    </tr>\n",
       "    <tr>\n",
       "      <td>46857</td>\n",
       "      <td>113979</td>\n",
       "      <td>CARNIATO</td>\n",
       "      <td>PILOTAGE</td>\n",
       "      <td>OUSSAMA BENYUSEF</td>\n",
       "      <td>Incidents</td>\n",
       "      <td>Clôturé définitivement</td>\n",
       "      <td>CARNIATO : Job SOIR2 en message</td>\n",
       "      <td>Bonjour, Travail d'origine  . . . . . . :   SO...</td>\n",
       "      <td>Bonjour,     Job SOIR2 terminé; Bon pour clôt...</td>\n",
       "      <td>2</td>\n",
       "      <td>...</td>\n",
       "      <td>100</td>\n",
       "      <td>00h 22min</td>\n",
       "      <td>NaN</td>\n",
       "      <td>SLA-STANDARD-INC-BLOQUANT</td>\n",
       "      <td>P1</td>\n",
       "      <td>Autre</td>\n",
       "      <td>AS400</td>\n",
       "      <td>CARNIATO-  C1</td>\n",
       "      <td>NaN</td>\n",
       "      <td>NaN</td>\n",
       "    </tr>\n",
       "  </tbody>\n",
       "</table>\n",
       "<p>5 rows × 29 columns</p>\n",
       "</div>"
      ],
      "text/plain": [
       "           ID           Structure         Team           Operator       Type  \\\n",
       "37918  104446  POCLAIN HYDRAULICS     PILOTAGE      ZAKIA ELBAYAZ  Incidents   \n",
       "62842  130251               CHABE     PILOTAGE    Amine BOUKHRISS  Incidents   \n",
       "29269   94575  POCLAIN HYDRAULICS     PILOTAGE     JIHAD EL HADRI   Demandes   \n",
       "23372   87170        D-FI INTERNE  SUPPORT PLA  AURELIEN CHASSAIN  Incidents   \n",
       "46857  113979            CARNIATO     PILOTAGE   OUSSAMA BENYUSEF  Incidents   \n",
       "\n",
       "                       Status  \\\n",
       "37918  Clôturé définitivement   \n",
       "62842  Clôturé définitivement   \n",
       "29269  Clôturé définitivement   \n",
       "23372  Clôturé définitivement   \n",
       "46857  Clôturé définitivement   \n",
       "\n",
       "                                            Ticket Title  \\\n",
       "37918  GAGGIO: PHGAGGIO-BACKUP.poclain-hydraulics.net...   \n",
       "62842           [WARNING] EQ-CHA-AD02 : Memoire Physique   \n",
       "29269                53232 - New security group for CZBR   \n",
       "23372         Mail NAVISION AVIS DE VALIDATION D'AFFAIRE   \n",
       "46857                    CARNIATO : Job SOIR2 en message   \n",
       "\n",
       "                                        Incident-Subject  \\\n",
       "37918   Bonjour,     Lors de nos controles de sauvega...   \n",
       "62842   Bonjour,     Notre outil de supervision nous ...   \n",
       "29269   Dominik DVORACEK  dominik.dvoracek  dominik.d...   \n",
       "23372   Origine: Martine GOUZLAN - 2017-07-12 16:11  ...   \n",
       "46857  Bonjour, Travail d'origine  . . . . . . :   SO...   \n",
       "\n",
       "                                      Ticket-Description  Number of Changes  \\\n",
       "37918   Bonjour,     le fichier de contrôle. est actu...                  5   \n",
       "62842   Bonjour,     L'alerte n'est plus d'actualité....                  2   \n",
       "29269   Hello,     The group has been created, and th...                  1   \n",
       "23372   validation de Martine. bon pour cloture  Cord...                  4   \n",
       "46857   Bonjour,     Job SOIR2 terminé; Bon pour clôt...                  2   \n",
       "\n",
       "       ... Achievement% Charge réelle Charge estimée  \\\n",
       "37918  ...          100     00h 23min            NaN   \n",
       "62842  ...          100     00h 12min            NaN   \n",
       "29269  ...          100     00h 15min            NaN   \n",
       "23372  ...          100     00h 35min            NaN   \n",
       "46857  ...          100     00h 22min            NaN   \n",
       "\n",
       "                               SLA Priority               Application  \\\n",
       "37918  SLA-INCIDENT-CRITICITE-1-HO    C1-HO                       NaN   \n",
       "62842                   SLA-INC-C1       C1                     AUTRE   \n",
       "29269  SLA-DEMANDE-CRITICITE-2-HO     C2-HO                       NaN   \n",
       "23372                          NaN  2-Moyen  Bureautique hors Outlook   \n",
       "46857    SLA-STANDARD-INC-BLOQUANT       P1                     Autre   \n",
       "\n",
       "      Environment                      ServerName     Category  \\\n",
       "37918  BACKUPEXEC  ITGA-SRV-PHGAGGIO-BACKUP/C2-HO       BACKUP   \n",
       "62842     WINDOWS                EQ-CHA-AD02 - C1  Supervision   \n",
       "29269     LANDESK                             NaN      LANDESK   \n",
       "23372       Autre                             NaN          NaN   \n",
       "46857       AS400                   CARNIATO-  C1          NaN   \n",
       "\n",
       "               Sub-Category  \n",
       "37918  ERREUR DE SAUVEGARDE  \n",
       "62842                   NaN  \n",
       "29269        NETWORK ACCESS  \n",
       "23372                   NaN  \n",
       "46857                   NaN  \n",
       "\n",
       "[5 rows x 29 columns]"
      ]
     },
     "execution_count": 70,
     "metadata": {},
     "output_type": "execute_result"
    }
   ],
   "source": [
    "df.sample(5)"
   ]
  },
  {
   "cell_type": "code",
   "execution_count": 71,
   "metadata": {
    "ExecuteTime": {
     "end_time": "2020-12-15T11:47:17.236311Z",
     "start_time": "2020-12-15T11:47:17.180116Z"
    },
    "colab": {
     "base_uri": "https://localhost:8080/",
     "height": 206
    },
    "id": "XWclz8Q0DafQ",
    "outputId": "54c754b4-0338-42d6-86e2-65620db75ce1"
   },
   "outputs": [
    {
     "data": {
      "text/html": [
       "<div>\n",
       "<style scoped>\n",
       "    .dataframe tbody tr th:only-of-type {\n",
       "        vertical-align: middle;\n",
       "    }\n",
       "\n",
       "    .dataframe tbody tr th {\n",
       "        vertical-align: top;\n",
       "    }\n",
       "\n",
       "    .dataframe thead th {\n",
       "        text-align: right;\n",
       "    }\n",
       "</style>\n",
       "<table border=\"1\" class=\"dataframe\">\n",
       "  <thead>\n",
       "    <tr style=\"text-align: right;\">\n",
       "      <th></th>\n",
       "      <th>Type</th>\n",
       "      <th>Team</th>\n",
       "      <th>Incident-Subject</th>\n",
       "      <th>Ticket-Description</th>\n",
       "    </tr>\n",
       "  </thead>\n",
       "  <tbody>\n",
       "    <tr>\n",
       "      <td>49</td>\n",
       "      <td>Incidents</td>\n",
       "      <td>PILOTAGE</td>\n",
       "      <td>Bonjour,     Message relevé dans QSYSOPR :   ...</td>\n",
       "      <td>bonjour,     je cloture ce ticket           c...</td>\n",
       "    </tr>\n",
       "    <tr>\n",
       "      <td>46</td>\n",
       "      <td>Demandes</td>\n",
       "      <td>PILOTAGE</td>\n",
       "      <td>Bonjour,   Nous procédons au lancement de l'ép...</td>\n",
       "      <td>Epuration terminée:  Travail 382274/SABEXPLOI...</td>\n",
       "    </tr>\n",
       "    <tr>\n",
       "      <td>37</td>\n",
       "      <td>Incidents</td>\n",
       "      <td>PILOTAGE</td>\n",
       "      <td>Bonjour,     Notre plateforme de supervision ...</td>\n",
       "      <td>Service démarrer avec succès     Bon pour clo...</td>\n",
       "    </tr>\n",
       "    <tr>\n",
       "      <td>72</td>\n",
       "      <td>Demandes</td>\n",
       "      <td>RESEAUX</td>\n",
       "      <td>Bonjour,     J'ai une imprimante à changer po...</td>\n",
       "      <td>l'enrengistrement d'hote changé.     KYOCHT01...</td>\n",
       "    </tr>\n",
       "    <tr>\n",
       "      <td>31</td>\n",
       "      <td>Incidents</td>\n",
       "      <td>PILOTAGE</td>\n",
       "      <td>Bonjour,     Notre plateforme de supervision ...</td>\n",
       "      <td>Les services sont OK, je clôture ce ticket.  ...</td>\n",
       "    </tr>\n",
       "  </tbody>\n",
       "</table>\n",
       "</div>"
      ],
      "text/plain": [
       "         Type      Team                                   Incident-Subject  \\\n",
       "49  Incidents  PILOTAGE   Bonjour,     Message relevé dans QSYSOPR :   ...   \n",
       "46   Demandes  PILOTAGE  Bonjour,   Nous procédons au lancement de l'ép...   \n",
       "37  Incidents  PILOTAGE   Bonjour,     Notre plateforme de supervision ...   \n",
       "72   Demandes   RESEAUX   Bonjour,     J'ai une imprimante à changer po...   \n",
       "31  Incidents  PILOTAGE   Bonjour,     Notre plateforme de supervision ...   \n",
       "\n",
       "                                   Ticket-Description  \n",
       "49   bonjour,     je cloture ce ticket           c...  \n",
       "46   Epuration terminée:  Travail 382274/SABEXPLOI...  \n",
       "37   Service démarrer avec succès     Bon pour clo...  \n",
       "72   l'enrengistrement d'hote changé.     KYOCHT01...  \n",
       "31   Les services sont OK, je clôture ce ticket.  ...  "
      ]
     },
     "execution_count": 71,
     "metadata": {},
     "output_type": "execute_result"
    }
   ],
   "source": [
    "description_df = df[[\"Type\", \"Team\", \"Incident-Subject\", \"Ticket-Description\"]]\n",
    "\n",
    "\n",
    "description_df = description_df[:100]\n",
    "\n",
    "description_df.dropna(inplace=True)\n",
    "\n",
    "description_df.sample(5)"
   ]
  },
  {
   "cell_type": "code",
   "execution_count": 72,
   "metadata": {
    "ExecuteTime": {
     "end_time": "2020-12-15T11:47:17.447066Z",
     "start_time": "2020-12-15T11:47:17.439447Z"
    },
    "id": "njDK_H6MndVp"
   },
   "outputs": [],
   "source": [
    "useless_words = [u'\\xa0', \"bonsoir\", \"bonjour\", \"cordialement\", \"adil\", \"dear\", \"hi\", \"hello\", \"regards\", \"//\", \":\"]\n",
    "\n",
    "def revome_words(text):\n",
    "    text_word= map(lambda x: x.replace(',', ''), text.split())\n",
    "    result_word = [word for word in text_word if word.lower() not in useless_words]\n",
    "    return ' '.join(result_word)"
   ]
  },
  {
   "cell_type": "code",
   "execution_count": 73,
   "metadata": {
    "ExecuteTime": {
     "end_time": "2020-12-15T11:47:18.054268Z",
     "start_time": "2020-12-15T11:47:17.995131Z"
    },
    "colab": {
     "base_uri": "https://localhost:8080/",
     "height": 206
    },
    "id": "o42pEe8Mn7Sp",
    "outputId": "d7ff1ed8-d039-4bad-af70-b8894864bcf3"
   },
   "outputs": [
    {
     "data": {
      "text/html": [
       "<div>\n",
       "<style scoped>\n",
       "    .dataframe tbody tr th:only-of-type {\n",
       "        vertical-align: middle;\n",
       "    }\n",
       "\n",
       "    .dataframe tbody tr th {\n",
       "        vertical-align: top;\n",
       "    }\n",
       "\n",
       "    .dataframe thead th {\n",
       "        text-align: right;\n",
       "    }\n",
       "</style>\n",
       "<table border=\"1\" class=\"dataframe\">\n",
       "  <thead>\n",
       "    <tr style=\"text-align: right;\">\n",
       "      <th></th>\n",
       "      <th>Type</th>\n",
       "      <th>Team</th>\n",
       "      <th>Incident-Subject</th>\n",
       "      <th>Ticket-Description</th>\n",
       "    </tr>\n",
       "  </thead>\n",
       "  <tbody>\n",
       "    <tr>\n",
       "      <td>27</td>\n",
       "      <td>Demandes</td>\n",
       "      <td>PILOTAGE</td>\n",
       "      <td>Nous procédons au lancement de l'épuration DWH...</td>\n",
       "      <td>Travail 377567/SABEXPLOIT/SAB06501 démarré le ...</td>\n",
       "    </tr>\n",
       "    <tr>\n",
       "      <td>78</td>\n",
       "      <td>Incidents</td>\n",
       "      <td>PILOTAGE</td>\n",
       "      <td>sur remus alerte sur nombre de job dans SABREC...</td>\n",
       "      <td>je cloture ce ticket fin du job Message . . . ...</td>\n",
       "    </tr>\n",
       "    <tr>\n",
       "      <td>26</td>\n",
       "      <td>Incidents</td>\n",
       "      <td>PILOTAGE</td>\n",
       "      <td>Ces 3 alertes sont remontées sur sentinel: - j...</td>\n",
       "      <td>sauvegarde ok qinter ok bon pour cloture Aurél...</td>\n",
       "    </tr>\n",
       "    <tr>\n",
       "      <td>3</td>\n",
       "      <td>Incidents</td>\n",
       "      <td>SUPPORT BT NETAPP</td>\n",
       "      <td>Notre outil de supervision nous remonte l'aler...</td>\n",
       "      <td>bon pour cloture Aurélien Chassain Responsable...</td>\n",
       "    </tr>\n",
       "    <tr>\n",
       "      <td>82</td>\n",
       "      <td>Incidents</td>\n",
       "      <td>PILOTAGE</td>\n",
       "      <td>Notre plateforme de supervision nous remonte c...</td>\n",
       "      <td>Les services sont *OK je clôture ce ticket.</td>\n",
       "    </tr>\n",
       "  </tbody>\n",
       "</table>\n",
       "</div>"
      ],
      "text/plain": [
       "         Type               Team  \\\n",
       "27   Demandes           PILOTAGE   \n",
       "78  Incidents           PILOTAGE   \n",
       "26  Incidents           PILOTAGE   \n",
       "3   Incidents  SUPPORT BT NETAPP   \n",
       "82  Incidents           PILOTAGE   \n",
       "\n",
       "                                     Incident-Subject  \\\n",
       "27  Nous procédons au lancement de l'épuration DWH...   \n",
       "78  sur remus alerte sur nombre de job dans SABREC...   \n",
       "26  Ces 3 alertes sont remontées sur sentinel: - j...   \n",
       "3   Notre outil de supervision nous remonte l'aler...   \n",
       "82  Notre plateforme de supervision nous remonte c...   \n",
       "\n",
       "                                   Ticket-Description  \n",
       "27  Travail 377567/SABEXPLOIT/SAB06501 démarré le ...  \n",
       "78  je cloture ce ticket fin du job Message . . . ...  \n",
       "26  sauvegarde ok qinter ok bon pour cloture Aurél...  \n",
       "3   bon pour cloture Aurélien Chassain Responsable...  \n",
       "82        Les services sont *OK je clôture ce ticket.  "
      ]
     },
     "execution_count": 73,
     "metadata": {},
     "output_type": "execute_result"
    }
   ],
   "source": [
    "description_df[\"Incident-Subject\"] = description_df[\"Incident-Subject\"].apply(lambda x: revome_words(x))\n",
    "description_df[\"Ticket-Description\"] = description_df[\"Ticket-Description\"].apply(lambda x: revome_words(x))\n",
    "description_df.sample(5)"
   ]
  },
  {
   "cell_type": "code",
   "execution_count": 74,
   "metadata": {
    "ExecuteTime": {
     "end_time": "2020-12-15T11:47:20.301755Z",
     "start_time": "2020-12-15T11:47:18.764261Z"
    },
    "id": "ChTT2Y3V--jc"
   },
   "outputs": [],
   "source": [
    "import pandas as pd\n",
    "import numpy as np\n",
    "import nltk\n",
    "from nltk.stem.snowball import SnowballStemmer\n",
    "from nltk.tokenize import word_tokenize\n",
    "from nltk import pos_tag\n",
    "from nltk.corpus import stopwords\n",
    "from nltk.stem import WordNetLemmatizer\n",
    "from sklearn.preprocessing import LabelEncoder\n",
    "from sklearn.metrics.pairwise import cosine_similarity\n",
    "from sklearn.feature_extraction.text import CountVectorizer\n",
    "from collections import defaultdict\n",
    "from nltk.corpus import wordnet as wn\n",
    "from sklearn.feature_extraction.text import TfidfVectorizer\n",
    "from sklearn import model_selection, naive_bayes, svm\n",
    "from sklearn.metrics import accuracy_score"
   ]
  },
  {
   "cell_type": "code",
   "execution_count": 75,
   "metadata": {
    "ExecuteTime": {
     "end_time": "2020-12-15T11:47:25.266085Z",
     "start_time": "2020-12-15T11:47:24.527339Z"
    },
    "colab": {
     "base_uri": "https://localhost:8080/"
    },
    "id": "PMcYnX9o_KgN",
    "outputId": "3c7c179c-457c-4ced-d736-badabfed38e4"
   },
   "outputs": [
    {
     "name": "stderr",
     "output_type": "stream",
     "text": [
      "[nltk_data] Downloading package punkt to /root/nltk_data...\n",
      "[nltk_data]   Package punkt is already up-to-date!\n",
      "[nltk_data] Downloading package wordnet to /root/nltk_data...\n",
      "[nltk_data]   Package wordnet is already up-to-date!\n",
      "[nltk_data] Downloading package averaged_perceptron_tagger to\n",
      "[nltk_data]     /root/nltk_data...\n",
      "[nltk_data]   Package averaged_perceptron_tagger is already up-to-\n",
      "[nltk_data]       date!\n",
      "[nltk_data] Downloading package stopwords to /root/nltk_data...\n",
      "[nltk_data]   Package stopwords is already up-to-date!\n"
     ]
    },
    {
     "data": {
      "text/plain": [
       "True"
      ]
     },
     "execution_count": 75,
     "metadata": {},
     "output_type": "execute_result"
    }
   ],
   "source": [
    "nltk.download('punkt')\n",
    "nltk.download('wordnet')\n",
    "nltk.download('averaged_perceptron_tagger')\n",
    "nltk.download('stopwords')"
   ]
  },
  {
   "cell_type": "code",
   "execution_count": 76,
   "metadata": {
    "ExecuteTime": {
     "end_time": "2020-12-15T11:47:25.429331Z",
     "start_time": "2020-12-15T11:47:25.420240Z"
    },
    "id": "O-UqWmEJki39"
   },
   "outputs": [],
   "source": [
    "# Step - 1 : Remove blank rows if any.\n",
    "word_Lemmatized_fre = SnowballStemmer(\"french\", ignore_stopwords=True)\n",
    "stop_word = stopwords.words('french')\n",
    "#stop_word.extend([\"bonsoir\", \"bonjour\", \"cordialement\", \"adil\"])\n",
    "\n",
    "word_Lemmatized_rus = SnowballStemmer(\"russian\", ignore_stopwords=True)\n",
    "stop_word.extend(stopwords.words('russian'))\n",
    "\n",
    "word_Lemmatized_eng = WordNetLemmatizer()\n",
    "stop_word.extend(stopwords.words('english'))\n",
    "#stop_word.extend([\"hi\", \"hello\", \"regards\"])"
   ]
  },
  {
   "cell_type": "code",
   "execution_count": 77,
   "metadata": {
    "ExecuteTime": {
     "end_time": "2020-12-15T11:47:25.580227Z",
     "start_time": "2020-12-15T11:47:25.573232Z"
    },
    "id": "UQkND5uekIUn"
   },
   "outputs": [],
   "source": [
    "def get_word_Lemmatized_french(word):\n",
    "    val = word_Lemmatized_fre.stem(word)\n",
    "    return val\n",
    "\n",
    "def get_word_Lemmatized_russian(word):\n",
    "    val = word_Lemmatized_rus.stem(word)\n",
    "    return val\n",
    "\n",
    "def get_word_Lemmatized_english(word):\n",
    "    val = word_Lemmatized_eng.lemmatize(word)\n",
    "    return val"
   ]
  },
  {
   "cell_type": "code",
   "execution_count": 78,
   "metadata": {
    "ExecuteTime": {
     "end_time": "2020-12-15T11:47:25.743138Z",
     "start_time": "2020-12-15T11:47:25.731464Z"
    },
    "id": "5c9UKmVHkkHr"
   },
   "outputs": [],
   "source": [
    "def ticket_text_preprocessing(tiket):\n",
    " \n",
    "    # Step - 2 : Change all the text to lower case. \n",
    "    temp = tiket.lower()\n",
    " \n",
    "    # Step - 3 : Tokenization : In this each entry in the corpus will be broken into set of words\n",
    "    #temp = [word_tokenize(entry, language='french') for entry in temp]\n",
    "    entry = word_tokenize(temp)\n",
    "\n",
    "    # Empty List to store the words that follow the rules for this step\n",
    "    Final_words = []\n",
    "    # Initializing WordNetLemmatizer()\n",
    "    \n",
    "    for word in entry:\n",
    "        # Below condition is to check for Stop words and consider only alphabets\n",
    "        if word in stop_word or len(word) <= 3:\n",
    "            continue\n",
    "\n",
    "        word_Final = ''\n",
    "        word_Final = get_word_Lemmatized_french(word)\n",
    "        if word_Final != '' and word_Final is not None:\n",
    "            Final_words.append(word_Final)\n",
    "            continue\n",
    "   \n",
    "        word_Final = get_word_Lemmatized_russian(word)   \n",
    "        if word_Final != '' and word_Final is not None:\n",
    "            Final_words.append(word_Final)\n",
    "            continue \n",
    "\n",
    "        word_Final = get_word_Lemmatized_english(word)\n",
    "        if word_Final != '' and word_Final is not None:\n",
    "            Final_words.append(word_Final)\n",
    "            continue \n",
    "\n",
    "        if word.isdigit() or word.isalpha():\n",
    "            Final_words.append(word_Final)\n",
    "            \n",
    "    return ' '.join(Final_words)"
   ]
  },
  {
   "cell_type": "code",
   "execution_count": 79,
   "metadata": {
    "ExecuteTime": {
     "end_time": "2020-12-15T11:47:26.453026Z",
     "start_time": "2020-12-15T11:47:25.906958Z"
    },
    "colab": {
     "base_uri": "https://localhost:8080/"
    },
    "id": "RQxk35_sssiR",
    "outputId": "fb02f542-77fa-4f89-9e6f-481e2aab7c25"
   },
   "outputs": [
    {
     "data": {
      "text/plain": [
       "0     outil supervis remont l'alert suiv client serv...\n",
       "1     plateform supervis nousz remont l'alert suiv h...\n",
       "2     messag reçu qsysopr travail d'origin renum.vac...\n",
       "3     outil supervis remont l'alert suiv host srvsan...\n",
       "4     host frve-srv-h34vm 10.224.23.116 servic peopl...\n",
       "                            ...                        \n",
       "95    reçu cet alert typ notif problem etat servic w...\n",
       "96    messag relev qsysopr travail d'origin qijsccc ...\n",
       "97    outil supervis remont l'alert suiv anomal répl...\n",
       "98    messag relev qsysopr travail d'origin moc103jb...\n",
       "99    messag relev qsysopr travail d'origin envoiap ...\n",
       "Name: Tokens_Incident-Subject, Length: 100, dtype: object"
      ]
     },
     "execution_count": 79,
     "metadata": {},
     "output_type": "execute_result"
    }
   ],
   "source": [
    "# Step - 1 : Remove blank rows if any.\n",
    "description_df['Tokens_Incident-Subject'] = description_df['Incident-Subject'].apply(lambda x: ticket_text_preprocessing(x))\n",
    "description_df['Tokens_Incident-Subject'] "
   ]
  },
  {
   "cell_type": "code",
   "execution_count": 80,
   "metadata": {
    "ExecuteTime": {
     "end_time": "2020-12-15T11:47:27.744696Z",
     "start_time": "2020-12-15T11:47:27.721509Z"
    },
    "colab": {
     "base_uri": "https://localhost:8080/"
    },
    "id": "nPs-8g4aD0mi",
    "outputId": "9c11ce0c-da2d-4284-a3f1-c2c22fb955a5"
   },
   "outputs": [
    {
     "name": "stdout",
     "output_type": "stream",
     "text": [
      "<class 'pandas.core.frame.DataFrame'>\n",
      "Int64Index: 100 entries, 0 to 99\n",
      "Data columns (total 5 columns):\n",
      "Type                       100 non-null object\n",
      "Team                       100 non-null object\n",
      "Incident-Subject           100 non-null object\n",
      "Ticket-Description         100 non-null object\n",
      "Tokens_Incident-Subject    100 non-null object\n",
      "dtypes: object(5)\n",
      "memory usage: 4.7+ KB\n"
     ]
    }
   ],
   "source": [
    "description_df.info()"
   ]
  },
  {
   "cell_type": "code",
   "execution_count": 81,
   "metadata": {
    "ExecuteTime": {
     "end_time": "2020-12-15T11:47:28.221731Z",
     "start_time": "2020-12-15T11:47:28.198827Z"
    },
    "colab": {
     "base_uri": "https://localhost:8080/"
    },
    "id": "qXQjKsOj41PY",
    "outputId": "be8f5cc3-d97f-4397-d031-517d4a50f077"
   },
   "outputs": [
    {
     "name": "stdout",
     "output_type": "stream",
     "text": [
      "(100,)\n",
      "(100,)\n",
      "<class 'pandas.core.frame.DataFrame'>\n",
      "Int64Index: 100 entries, 0 to 99\n",
      "Data columns (total 5 columns):\n",
      "Type                       100 non-null object\n",
      "Team                       100 non-null object\n",
      "Incident-Subject           100 non-null object\n",
      "Ticket-Description         100 non-null object\n",
      "Tokens_Incident-Subject    100 non-null object\n",
      "dtypes: object(5)\n",
      "memory usage: 4.7+ KB\n"
     ]
    }
   ],
   "source": [
    "print(description_df['Incident-Subject'].shape)\n",
    "print(description_df['Tokens_Incident-Subject'].shape)\n",
    "description_df.info()"
   ]
  },
  {
   "cell_type": "code",
   "execution_count": 82,
   "metadata": {
    "ExecuteTime": {
     "end_time": "2020-12-15T11:47:30.494391Z",
     "start_time": "2020-12-15T11:47:30.454624Z"
    },
    "colab": {
     "base_uri": "https://localhost:8080/",
     "height": 424
    },
    "id": "_cO94W0BMTSd",
    "outputId": "b6f6554f-14d1-4229-e56f-1746c92f5b83"
   },
   "outputs": [
    {
     "data": {
      "text/html": [
       "<div>\n",
       "<style scoped>\n",
       "    .dataframe tbody tr th:only-of-type {\n",
       "        vertical-align: middle;\n",
       "    }\n",
       "\n",
       "    .dataframe tbody tr th {\n",
       "        vertical-align: top;\n",
       "    }\n",
       "\n",
       "    .dataframe thead th {\n",
       "        text-align: right;\n",
       "    }\n",
       "</style>\n",
       "<table border=\"1\" class=\"dataframe\">\n",
       "  <thead>\n",
       "    <tr style=\"text-align: right;\">\n",
       "      <th></th>\n",
       "      <th>Type</th>\n",
       "      <th>Tokens_Incident-Subject</th>\n",
       "    </tr>\n",
       "  </thead>\n",
       "  <tbody>\n",
       "    <tr>\n",
       "      <td>0</td>\n",
       "      <td>Incidents</td>\n",
       "      <td>outil supervis remont l'alert suiv client serv...</td>\n",
       "    </tr>\n",
       "    <tr>\n",
       "      <td>1</td>\n",
       "      <td>Incidents</td>\n",
       "      <td>plateform supervis nousz remont l'alert suiv h...</td>\n",
       "    </tr>\n",
       "    <tr>\n",
       "      <td>2</td>\n",
       "      <td>Incidents</td>\n",
       "      <td>messag reçu qsysopr travail d'origin renum.vac...</td>\n",
       "    </tr>\n",
       "    <tr>\n",
       "      <td>3</td>\n",
       "      <td>Incidents</td>\n",
       "      <td>outil supervis remont l'alert suiv host srvsan...</td>\n",
       "    </tr>\n",
       "    <tr>\n",
       "      <td>4</td>\n",
       "      <td>Incidents</td>\n",
       "      <td>host frve-srv-h34vm 10.224.23.116 servic peopl...</td>\n",
       "    </tr>\n",
       "    <tr>\n",
       "      <td>...</td>\n",
       "      <td>...</td>\n",
       "      <td>...</td>\n",
       "    </tr>\n",
       "    <tr>\n",
       "      <td>95</td>\n",
       "      <td>Incidents</td>\n",
       "      <td>reçu cet alert typ notif problem etat servic w...</td>\n",
       "    </tr>\n",
       "    <tr>\n",
       "      <td>96</td>\n",
       "      <td>Incidents</td>\n",
       "      <td>messag relev qsysopr travail d'origin qijsccc ...</td>\n",
       "    </tr>\n",
       "    <tr>\n",
       "      <td>97</td>\n",
       "      <td>Incidents</td>\n",
       "      <td>outil supervis remont l'alert suiv anomal répl...</td>\n",
       "    </tr>\n",
       "    <tr>\n",
       "      <td>98</td>\n",
       "      <td>Incidents</td>\n",
       "      <td>messag relev qsysopr travail d'origin moc103jb...</td>\n",
       "    </tr>\n",
       "    <tr>\n",
       "      <td>99</td>\n",
       "      <td>Incidents</td>\n",
       "      <td>messag relev qsysopr travail d'origin envoiap ...</td>\n",
       "    </tr>\n",
       "  </tbody>\n",
       "</table>\n",
       "<p>71 rows × 2 columns</p>\n",
       "</div>"
      ],
      "text/plain": [
       "         Type                            Tokens_Incident-Subject\n",
       "0   Incidents  outil supervis remont l'alert suiv client serv...\n",
       "1   Incidents  plateform supervis nousz remont l'alert suiv h...\n",
       "2   Incidents  messag reçu qsysopr travail d'origin renum.vac...\n",
       "3   Incidents  outil supervis remont l'alert suiv host srvsan...\n",
       "4   Incidents  host frve-srv-h34vm 10.224.23.116 servic peopl...\n",
       "..        ...                                                ...\n",
       "95  Incidents  reçu cet alert typ notif problem etat servic w...\n",
       "96  Incidents  messag relev qsysopr travail d'origin qijsccc ...\n",
       "97  Incidents  outil supervis remont l'alert suiv anomal répl...\n",
       "98  Incidents  messag relev qsysopr travail d'origin moc103jb...\n",
       "99  Incidents  messag relev qsysopr travail d'origin envoiap ...\n",
       "\n",
       "[71 rows x 2 columns]"
      ]
     },
     "execution_count": 82,
     "metadata": {},
     "output_type": "execute_result"
    }
   ],
   "source": [
    "# Features Vector With Incidents Type\n",
    "description_df[description_df[\"Type\"]==\"Incidents\"][[\"Type\", \"Tokens_Incident-Subject\"]]"
   ]
  },
  {
   "cell_type": "code",
   "execution_count": 83,
   "metadata": {
    "ExecuteTime": {
     "end_time": "2020-12-15T11:47:31.898108Z",
     "start_time": "2020-12-15T11:47:31.834139Z"
    },
    "colab": {
     "base_uri": "https://localhost:8080/",
     "height": 959
    },
    "id": "bcLTHVqIMmmj",
    "outputId": "0ea40311-3f74-45c9-a74d-41af61b57071"
   },
   "outputs": [
    {
     "data": {
      "text/html": [
       "<div>\n",
       "<style scoped>\n",
       "    .dataframe tbody tr th:only-of-type {\n",
       "        vertical-align: middle;\n",
       "    }\n",
       "\n",
       "    .dataframe tbody tr th {\n",
       "        vertical-align: top;\n",
       "    }\n",
       "\n",
       "    .dataframe thead th {\n",
       "        text-align: right;\n",
       "    }\n",
       "</style>\n",
       "<table border=\"1\" class=\"dataframe\">\n",
       "  <thead>\n",
       "    <tr style=\"text-align: right;\">\n",
       "      <th></th>\n",
       "      <th>Type</th>\n",
       "      <th>Tokens_Incident-Subject</th>\n",
       "    </tr>\n",
       "  </thead>\n",
       "  <tbody>\n",
       "    <tr>\n",
       "      <td>21</td>\n",
       "      <td>Demandes</td>\n",
       "      <td>procédon lanc épur rentabl activ suiv planning</td>\n",
       "    </tr>\n",
       "    <tr>\n",
       "      <td>23</td>\n",
       "      <td>Demandes</td>\n",
       "      <td>procédon lanc l'épur suiv planning</td>\n",
       "    </tr>\n",
       "    <tr>\n",
       "      <td>27</td>\n",
       "      <td>Demandes</td>\n",
       "      <td>procédon lanc l'épur suiv planning</td>\n",
       "    </tr>\n",
       "    <tr>\n",
       "      <td>46</td>\n",
       "      <td>Demandes</td>\n",
       "      <td>procédon lanc l'épur mouv comptabl histor suiv...</td>\n",
       "    </tr>\n",
       "    <tr>\n",
       "      <td>54</td>\n",
       "      <td>Demandes</td>\n",
       "      <td>commençon trait tricp cordial</td>\n",
       "    </tr>\n",
       "    <tr>\n",
       "      <td>55</td>\n",
       "      <td>Demandes</td>\n",
       "      <td>proced lanc vacat swift remus cordial</td>\n",
       "    </tr>\n",
       "    <tr>\n",
       "      <td>58</td>\n",
       "      <td>Demandes</td>\n",
       "      <td>début trait ficoba2 demand dépôt cordial duval</td>\n",
       "    </tr>\n",
       "    <tr>\n",
       "      <td>61</td>\n",
       "      <td>Demandes</td>\n",
       "      <td>commençon trait mensuel édit compt débiteur cr...</td>\n",
       "    </tr>\n",
       "    <tr>\n",
       "      <td>62</td>\n",
       "      <td>Demandes</td>\n",
       "      <td>pouvez-vous mont band suiv franj2-1</td>\n",
       "    </tr>\n",
       "    <tr>\n",
       "      <td>63</td>\n",
       "      <td>Demandes</td>\n",
       "      <td>mount following tap pleas esscd2-1 esscd2-2 es...</td>\n",
       "    </tr>\n",
       "    <tr>\n",
       "      <td>64</td>\n",
       "      <td>Demandes</td>\n",
       "      <td>mount following tap pleas itord1 thank</td>\n",
       "    </tr>\n",
       "    <tr>\n",
       "      <td>65</td>\n",
       "      <td>Demandes</td>\n",
       "      <td>pouvez-vous mont band suiv bevid2</td>\n",
       "    </tr>\n",
       "    <tr>\n",
       "      <td>68</td>\n",
       "      <td>Demandes</td>\n",
       "      <td>concern ticket n°55013 constat machin pixel sa...</td>\n",
       "    </tr>\n",
       "    <tr>\n",
       "      <td>69</td>\n",
       "      <td>Demandes</td>\n",
       "      <td>origin ggraux montepaschi-banque.fr 2016-01-04...</td>\n",
       "    </tr>\n",
       "    <tr>\n",
       "      <td>70</td>\n",
       "      <td>Demandes</td>\n",
       "      <td>pouvez-vous mettr product pasten suiv bpi432 c...</td>\n",
       "    </tr>\n",
       "    <tr>\n",
       "      <td>72</td>\n",
       "      <td>Demandes</td>\n",
       "      <td>j'ai imprim chang problem qualit d'impress sit...</td>\n",
       "    </tr>\n",
       "    <tr>\n",
       "      <td>74</td>\n",
       "      <td>Demandes</td>\n",
       "      <td>personal fil disappeared \\service\\personnel en...</td>\n",
       "    </tr>\n",
       "    <tr>\n",
       "      <td>75</td>\n",
       "      <td>Demandes</td>\n",
       "      <td>\\civ répertoir 08-09-10-12-13 disparus pouvez-...</td>\n",
       "    </tr>\n",
       "    <tr>\n",
       "      <td>76</td>\n",
       "      <td>Demandes</td>\n",
       "      <td>rais user sebastien brussel bonjour dossi diri...</td>\n",
       "    </tr>\n",
       "    <tr>\n",
       "      <td>77</td>\n",
       "      <td>Demandes</td>\n",
       "      <td>rais user beatric thibaut access denied \\dirin...</td>\n",
       "    </tr>\n",
       "    <tr>\n",
       "      <td>79</td>\n",
       "      <td>Demandes</td>\n",
       "      <td>read/writ right serv \\\\h61sys\\dirtec \\service\\...</td>\n",
       "    </tr>\n",
       "    <tr>\n",
       "      <td>80</td>\n",
       "      <td>Demandes</td>\n",
       "      <td>l'utilis goncalv parvient connect appliqu méti...</td>\n",
       "    </tr>\n",
       "    <tr>\n",
       "      <td>81</td>\n",
       "      <td>Demandes</td>\n",
       "      <td>bas don rebut l'usinag n'est plus accessibl in...</td>\n",
       "    </tr>\n",
       "    <tr>\n",
       "      <td>84</td>\n",
       "      <td>Demandes</td>\n",
       "      <td>giv read writ creat access following driv are ...</td>\n",
       "    </tr>\n",
       "    <tr>\n",
       "      <td>85</td>\n",
       "      <td>Demandes</td>\n",
       "      <td>origin fadim kandem 2016-01-04 14:49 messag se...</td>\n",
       "    </tr>\n",
       "    <tr>\n",
       "      <td>86</td>\n",
       "      <td>Demandes</td>\n",
       "      <td>pouv supprim serveur h17sy supervis serveur n'...</td>\n",
       "    </tr>\n",
       "    <tr>\n",
       "      <td>87</td>\n",
       "      <td>Demandes</td>\n",
       "      <td>ticket fait suit ticket 54455. suit coupur éle...</td>\n",
       "    </tr>\n",
       "    <tr>\n",
       "      <td>88</td>\n",
       "      <td>Demandes</td>\n",
       "      <td>pouvez-vous proced création d'un compt monsieu...</td>\n",
       "    </tr>\n",
       "    <tr>\n",
       "      <td>93</td>\n",
       "      <td>Demandes</td>\n",
       "      <td>effectu lanc batch épur dac400 marc toutain..</td>\n",
       "    </tr>\n",
       "  </tbody>\n",
       "</table>\n",
       "</div>"
      ],
      "text/plain": [
       "        Type                            Tokens_Incident-Subject\n",
       "21  Demandes     procédon lanc épur rentabl activ suiv planning\n",
       "23  Demandes                 procédon lanc l'épur suiv planning\n",
       "27  Demandes                 procédon lanc l'épur suiv planning\n",
       "46  Demandes  procédon lanc l'épur mouv comptabl histor suiv...\n",
       "54  Demandes                      commençon trait tricp cordial\n",
       "55  Demandes              proced lanc vacat swift remus cordial\n",
       "58  Demandes     début trait ficoba2 demand dépôt cordial duval\n",
       "61  Demandes  commençon trait mensuel édit compt débiteur cr...\n",
       "62  Demandes                pouvez-vous mont band suiv franj2-1\n",
       "63  Demandes  mount following tap pleas esscd2-1 esscd2-2 es...\n",
       "64  Demandes             mount following tap pleas itord1 thank\n",
       "65  Demandes                  pouvez-vous mont band suiv bevid2\n",
       "68  Demandes  concern ticket n°55013 constat machin pixel sa...\n",
       "69  Demandes  origin ggraux montepaschi-banque.fr 2016-01-04...\n",
       "70  Demandes  pouvez-vous mettr product pasten suiv bpi432 c...\n",
       "72  Demandes  j'ai imprim chang problem qualit d'impress sit...\n",
       "74  Demandes  personal fil disappeared \\service\\personnel en...\n",
       "75  Demandes  \\civ répertoir 08-09-10-12-13 disparus pouvez-...\n",
       "76  Demandes  rais user sebastien brussel bonjour dossi diri...\n",
       "77  Demandes  rais user beatric thibaut access denied \\dirin...\n",
       "79  Demandes  read/writ right serv \\\\h61sys\\dirtec \\service\\...\n",
       "80  Demandes  l'utilis goncalv parvient connect appliqu méti...\n",
       "81  Demandes  bas don rebut l'usinag n'est plus accessibl in...\n",
       "84  Demandes  giv read writ creat access following driv are ...\n",
       "85  Demandes  origin fadim kandem 2016-01-04 14:49 messag se...\n",
       "86  Demandes  pouv supprim serveur h17sy supervis serveur n'...\n",
       "87  Demandes  ticket fait suit ticket 54455. suit coupur éle...\n",
       "88  Demandes  pouvez-vous proced création d'un compt monsieu...\n",
       "93  Demandes      effectu lanc batch épur dac400 marc toutain.."
      ]
     },
     "execution_count": 83,
     "metadata": {},
     "output_type": "execute_result"
    }
   ],
   "source": [
    "# Features Vector With Demandes Type\n",
    "description_df[description_df[\"Type\"]!=\"Incidents\"][[\"Type\", \"Tokens_Incident-Subject\"]]"
   ]
  },
  {
   "cell_type": "code",
   "execution_count": 84,
   "metadata": {
    "ExecuteTime": {
     "end_time": "2020-12-15T11:47:32.726322Z",
     "start_time": "2020-12-15T11:47:32.712861Z"
    }
   },
   "outputs": [
    {
     "data": {
      "text/plain": [
       "pandas.core.series.Series"
      ]
     },
     "execution_count": 84,
     "metadata": {},
     "output_type": "execute_result"
    }
   ],
   "source": [
    "type(description_df[\"Tokens_Incident-Subject\"])"
   ]
  },
  {
   "cell_type": "code",
   "execution_count": 85,
   "metadata": {
    "ExecuteTime": {
     "end_time": "2020-12-15T11:47:34.284579Z",
     "start_time": "2020-12-15T11:47:34.249072Z"
    }
   },
   "outputs": [],
   "source": [
    "from sklearn.feature_extraction.text import CountVectorizer\n",
    "vectorizer = CountVectorizer(max_features=1500, min_df=5, max_df=0.7)\n",
    "\n",
    "Vec_Incident_Subject = vectorizer.fit_transform(description_df[\"Tokens_Incident-Subject\"]).toarray()\n"
   ]
  },
  {
   "cell_type": "code",
   "execution_count": 86,
   "metadata": {
    "ExecuteTime": {
     "end_time": "2020-12-15T11:47:34.700624Z",
     "start_time": "2020-12-15T11:47:34.680932Z"
    },
    "id": "tNMpzX3VD2E2"
   },
   "outputs": [],
   "source": [
    "\n",
    "from sklearn.feature_extraction.text import TfidfTransformer\n",
    "tfidfconverter = TfidfTransformer()\n",
    "features = tfidfconverter.fit_transform(Vec_Incident_Subject).toarray()"
   ]
  },
  {
   "cell_type": "code",
   "execution_count": 87,
   "metadata": {
    "ExecuteTime": {
     "end_time": "2020-12-15T11:47:35.388162Z",
     "start_time": "2020-12-15T11:47:35.368886Z"
    },
    "id": "SVGn4rIyvsIx"
   },
   "outputs": [],
   "source": [
    "Train_X, Test_X, Train_Y, Test_Y = model_selection.train_test_split(features, description_df[[\"Type\", \"Incident-Subject\", \"Ticket-Description\", \"Team\"]],test_size=0.3, random_state=1)"
   ]
  },
  {
   "cell_type": "code",
   "execution_count": 88,
   "metadata": {
    "ExecuteTime": {
     "end_time": "2020-12-15T11:47:35.973405Z",
     "start_time": "2020-12-15T11:47:35.960404Z"
    },
    "id": "1wc9sON6KqSi"
   },
   "outputs": [
    {
     "name": "stdout",
     "output_type": "stream",
     "text": [
      "131\n"
     ]
    }
   ],
   "source": [
    "max_vec_len = max(len(vec) for vec in Train_X)\n",
    "print(max_vec_len)"
   ]
  },
  {
   "cell_type": "code",
   "execution_count": 89,
   "metadata": {
    "ExecuteTime": {
     "end_time": "2020-12-15T11:47:36.915854Z",
     "start_time": "2020-12-15T11:47:36.902973Z"
    }
   },
   "outputs": [
    {
     "name": "stdout",
     "output_type": "stream",
     "text": [
      "dict_items([('outil', 82), ('supervis', 110), ('remont', 94), ('alert', 14), ('suiv', 109), ('serveur', 102), ('adress', 12), ('servic', 103), ('not', 78), ('window', 129), ('stopped', 108), ('plateform', 86), ('host', 61), ('frve', 56), ('srv', 106), ('phind', 84), ('http', 62), ('supervision', 111), ('infogerance', 66), ('fi', 51), ('fr', 54), ('thruk', 114), ('cgi', 27), ('bin', 22), ('extinfo', 46), ('cg', 26), ('type', 120), ('partit', 83), ('service', 104), ('backend', 18), ('status', 107), ('inform', 67), ('total', 115), ('used', 122), ('fre', 55), ('messag', 77), ('reçu', 98), ('qsysopr', 93), ('travail', 117), ('origin', 81), ('utilis', 124), ('numéro', 79), ('gravit', 57), ('typ', 119), ('interrog', 69), ('dat', 35), ('envoi', 43), ('01', 1), ('16', 8), ('heur', 60), ('02', 2), ('caus', 23), ('programm', 91), ('instruct', 68), ('il', 64), ('trait', 116), ('fair', 50), ('répons', 99), ('possibl', 88), ('clich', 28), ('system', 112), ('fil', 53), ('critical', 34), ('00', 0), ('10', 6), ('contrôl', 32), ('backup', 19), ('sauvegard', 100), ('failed', 49), ('pilotag', 85), ('détect', 39), ('erreur', 44), ('12', 7), ('lor', 73), ('problem', 90), ('don', 37), ('aucun', 16), ('warning', 128), ('memory', 75), ('user', 123), ('cet', 25), ('bibliothequ', 20), ('trouv', 118), ('text', 113), ('command', 30), ('serv', 101), ('ahmed', 13), ('inact', 65), ('sous', 105), ('absent', 11), ('environ', 42), ('lanc', 70), ('épur', 130), ('mch1202', 74), ('fac158xls3', 48), ('arbez', 15), ('lbe7200', 71), ('cobol', 29), ('028d', 3), ('entrez', 41), ('reprendr', 97), ('exécu', 47), ('voul', 126), ('obten', 80), ('uniqu', 121), ('list', 72), ('identif', 63), ('variabl', 125), ('géner', 58), ('compil', 31), ('décimale', 38), ('ensembl', 40), ('reprend', 96), ('31', 10), ('2016', 9), ('03', 4), ('cordial', 33), ('error', 45), ('destin', 36), ('remus', 95), ('fichi', 52), ('ccsid', 24), ('qsy', 92), ('pouvez', 89), ('vous', 127), ('pleas', 87), ('bien', 21), ('04', 5), ('merc', 76), ('avanc', 17), ('h61sys', 59)])\n"
     ]
    }
   ],
   "source": [
    "print(vectorizer.vocabulary_.items())"
   ]
  },
  {
   "cell_type": "code",
   "execution_count": 90,
   "metadata": {
    "ExecuteTime": {
     "end_time": "2020-12-15T11:47:37.779802Z",
     "start_time": "2020-12-15T11:47:37.753063Z"
    },
    "colab": {
     "base_uri": "https://localhost:8080/"
    },
    "id": "eEfSjvwlN43f",
    "outputId": "4b8b8ad7-1aa4-485c-e9b6-fa53168044b8"
   },
   "outputs": [
    {
     "data": {
      "text/plain": [
       "{'épur': 130,\n",
       " 'window': 129,\n",
       " 'warning': 128,\n",
       " 'vous': 127,\n",
       " 'voul': 126,\n",
       " 'variabl': 125,\n",
       " 'utilis': 124,\n",
       " 'user': 123,\n",
       " 'used': 122,\n",
       " 'uniqu': 121,\n",
       " 'type': 120,\n",
       " 'typ': 119,\n",
       " 'trouv': 118,\n",
       " 'travail': 117,\n",
       " 'trait': 116,\n",
       " 'total': 115,\n",
       " 'thruk': 114,\n",
       " 'text': 113,\n",
       " 'system': 112,\n",
       " 'supervision': 111,\n",
       " 'supervis': 110,\n",
       " 'suiv': 109,\n",
       " 'stopped': 108,\n",
       " 'status': 107,\n",
       " 'srv': 106,\n",
       " 'sous': 105,\n",
       " 'service': 104,\n",
       " 'servic': 103,\n",
       " 'serveur': 102,\n",
       " 'serv': 101,\n",
       " 'sauvegard': 100,\n",
       " 'répons': 99,\n",
       " 'reçu': 98,\n",
       " 'reprendr': 97,\n",
       " 'reprend': 96,\n",
       " 'remus': 95,\n",
       " 'remont': 94,\n",
       " 'qsysopr': 93,\n",
       " 'qsy': 92,\n",
       " 'programm': 91,\n",
       " 'problem': 90,\n",
       " 'pouvez': 89,\n",
       " 'possibl': 88,\n",
       " 'pleas': 87,\n",
       " 'plateform': 86,\n",
       " 'pilotag': 85,\n",
       " 'phind': 84,\n",
       " 'partit': 83,\n",
       " 'outil': 82,\n",
       " 'origin': 81,\n",
       " 'obten': 80,\n",
       " 'numéro': 79,\n",
       " 'not': 78,\n",
       " 'messag': 77,\n",
       " 'merc': 76,\n",
       " 'memory': 75,\n",
       " 'mch1202': 74,\n",
       " 'lor': 73,\n",
       " 'list': 72,\n",
       " 'lbe7200': 71,\n",
       " 'lanc': 70,\n",
       " 'interrog': 69,\n",
       " 'instruct': 68,\n",
       " 'inform': 67,\n",
       " 'infogerance': 66,\n",
       " 'inact': 65,\n",
       " 'il': 64,\n",
       " 'identif': 63,\n",
       " 'http': 62,\n",
       " 'host': 61,\n",
       " 'heur': 60,\n",
       " 'h61sys': 59,\n",
       " 'géner': 58,\n",
       " 'gravit': 57,\n",
       " 'frve': 56,\n",
       " 'fre': 55,\n",
       " 'fr': 54,\n",
       " 'fil': 53,\n",
       " 'fichi': 52,\n",
       " 'fi': 51,\n",
       " 'fair': 50,\n",
       " 'failed': 49,\n",
       " 'fac158xls3': 48,\n",
       " 'exécu': 47,\n",
       " 'extinfo': 46,\n",
       " 'error': 45,\n",
       " 'erreur': 44,\n",
       " 'envoi': 43,\n",
       " 'environ': 42,\n",
       " 'entrez': 41,\n",
       " 'ensembl': 40,\n",
       " 'détect': 39,\n",
       " 'décimale': 38,\n",
       " 'don': 37,\n",
       " 'destin': 36,\n",
       " 'dat': 35,\n",
       " 'critical': 34,\n",
       " 'cordial': 33,\n",
       " 'contrôl': 32,\n",
       " 'compil': 31,\n",
       " 'command': 30,\n",
       " 'cobol': 29,\n",
       " 'clich': 28,\n",
       " 'cgi': 27,\n",
       " 'cg': 26,\n",
       " 'cet': 25,\n",
       " 'ccsid': 24,\n",
       " 'caus': 23,\n",
       " 'bin': 22,\n",
       " 'bien': 21,\n",
       " 'bibliothequ': 20,\n",
       " 'backup': 19,\n",
       " 'backend': 18,\n",
       " 'avanc': 17,\n",
       " 'aucun': 16,\n",
       " 'arbez': 15,\n",
       " 'alert': 14,\n",
       " 'ahmed': 13,\n",
       " 'adress': 12,\n",
       " 'absent': 11,\n",
       " '31': 10,\n",
       " '2016': 9,\n",
       " '16': 8,\n",
       " '12': 7,\n",
       " '10': 6,\n",
       " '04': 5,\n",
       " '03': 4,\n",
       " '028d': 3,\n",
       " '02': 2,\n",
       " '01': 1,\n",
       " '00': 0}"
      ]
     },
     "execution_count": 90,
     "metadata": {},
     "output_type": "execute_result"
    }
   ],
   "source": [
    "#Quetion - 1 Sort out the most used keywords\n",
    "\n",
    "# Sorted Most Frequanced words \n",
    "sorted_words = {k: v for k, v in sorted(vectorizer.vocabulary_.items(), key=lambda item: item[1], reverse=True)}\n",
    "sorted_words"
   ]
  },
  {
   "cell_type": "code",
   "execution_count": 91,
   "metadata": {
    "ExecuteTime": {
     "end_time": "2020-12-15T11:47:39.296337Z",
     "start_time": "2020-12-15T11:47:38.553246Z"
    },
    "colab": {
     "base_uri": "https://localhost:8080/",
     "height": 297
    },
    "id": "RqX0g9Y2f0tL",
    "outputId": "a2ef6281-676e-4e9c-e07d-e40dc1555b42"
   },
   "outputs": [
    {
     "data": {
      "text/plain": [
       "<matplotlib.legend.Legend at 0x7f4234c8d8d0>"
      ]
     },
     "execution_count": 91,
     "metadata": {},
     "output_type": "execute_result"
    },
    {
     "data": {
      "image/png": "[encoded data removed]",
      "text/plain": [
       "<Figure size 432x288 with 1 Axes>"
      ]
     },
     "metadata": {
      "needs_background": "light"
     },
     "output_type": "display_data"
    }
   ],
   "source": [
    "import numpy as np\n",
    "import matplotlib.pyplot as plt\n",
    "from itertools import islice\n",
    "\n",
    "def take(n, iterable):\n",
    "    return list(islice(iterable, n))\n",
    "\n",
    "fig, ax = plt.subplots()\n",
    "for key, value in take(10, sorted_words.items()):\n",
    "    ax.scatter(key, value,label=key)\n",
    "plt.xlabel('x-axis')\n",
    "plt.ylabel('y-axis')\n",
    "plt.legend()"
   ]
  },
  {
   "cell_type": "code",
   "execution_count": 92,
   "metadata": {
    "ExecuteTime": {
     "end_time": "2020-12-15T11:47:39.468690Z",
     "start_time": "2020-12-15T11:47:39.460586Z"
    }
   },
   "outputs": [
    {
     "data": {
      "text/plain": [
       "array([[0.        , 0.        , 0.        , ..., 0.35674981, 0.        ,\n",
       "        0.        ],\n",
       "       [0.        , 0.0742403 , 0.        , ..., 0.        , 0.        ,\n",
       "        0.        ],\n",
       "       [0.        , 0.        , 0.        , ..., 0.        , 0.        ,\n",
       "        0.        ],\n",
       "       ...,\n",
       "       [0.        , 0.        , 0.        , ..., 0.        , 0.        ,\n",
       "        0.        ],\n",
       "       [0.        , 0.        , 0.        , ..., 0.        , 0.        ,\n",
       "        0.        ],\n",
       "       [0.        , 0.        , 0.        , ..., 0.        , 0.        ,\n",
       "        0.        ]])"
      ]
     },
     "execution_count": 92,
     "metadata": {},
     "output_type": "execute_result"
    }
   ],
   "source": [
    "Train_X"
   ]
  },
  {
   "cell_type": "code",
   "execution_count": 93,
   "metadata": {
    "ExecuteTime": {
     "end_time": "2020-12-15T11:47:41.588933Z",
     "start_time": "2020-12-15T11:47:40.024273Z"
    }
   },
   "outputs": [
    {
     "data": {
      "text/plain": [
       "array(['Demandes', 'Demandes', 'Incidents', 'Demandes', 'Demandes',\n",
       "       'Incidents', 'Incidents', 'Incidents', 'Incidents', 'Demandes',\n",
       "       'Incidents', 'Incidents', 'Incidents', 'Incidents', 'Incidents',\n",
       "       'Incidents', 'Incidents', 'Incidents', 'Incidents', 'Incidents',\n",
       "       'Incidents', 'Incidents', 'Incidents', 'Demandes', 'Incidents',\n",
       "       'Incidents', 'Incidents', 'Demandes', 'Demandes', 'Incidents'],\n",
       "      dtype=object)"
      ]
     },
     "execution_count": 93,
     "metadata": {},
     "output_type": "execute_result"
    }
   ],
   "source": [
    "from sklearn.ensemble import RandomForestClassifier\n",
    "\n",
    "classifier = RandomForestClassifier(n_estimators=1000, random_state=0)\n",
    "classifier.fit(Train_X, Train_Y[\"Type\"].values) \n",
    "Y_Predict = classifier.predict(Test_X)\n",
    "\n",
    "Y_Predict"
   ]
  },
  {
   "cell_type": "code",
   "execution_count": 94,
   "metadata": {
    "ExecuteTime": {
     "end_time": "2020-12-15T11:47:41.780164Z",
     "start_time": "2020-12-15T11:47:41.756921Z"
    }
   },
   "outputs": [
    {
     "name": "stdout",
     "output_type": "stream",
     "text": [
      "[[ 8  1]\n",
      " [ 0 21]]\n",
      "              precision    recall  f1-score   support\n",
      "\n",
      "    Demandes       1.00      0.89      0.94         9\n",
      "   Incidents       0.95      1.00      0.98        21\n",
      "\n",
      "    accuracy                           0.97        30\n",
      "   macro avg       0.98      0.94      0.96        30\n",
      "weighted avg       0.97      0.97      0.97        30\n",
      "\n",
      "0.9666666666666667\n"
     ]
    }
   ],
   "source": [
    "# Qusetion - 2 Classify tickets by type (identify types of tickets)\n",
    "\n",
    "from sklearn.metrics import classification_report, confusion_matrix, accuracy_score\n",
    "\n",
    "print(confusion_matrix(Test_Y[\"Type\"].values,Y_Predict))\n",
    "print(classification_report(Test_Y[\"Type\"].values,Y_Predict))\n",
    "print(accuracy_score(Test_Y[\"Type\"].values, Y_Predict))"
   ]
  },
  {
   "cell_type": "code",
   "execution_count": 95,
   "metadata": {
    "ExecuteTime": {
     "end_time": "2020-12-15T11:47:42.100431Z",
     "start_time": "2020-12-15T11:47:42.080580Z"
    },
    "id": "YuEF6eEaDf5O"
   },
   "outputs": [
    {
     "data": {
      "text/plain": [
       "array([1, 1, 0, 1, 0, 1, 1, 1, 0, 1, 0, 1, 0, 1, 1, 1, 1, 1, 1, 1, 1, 0,\n",
       "       1, 1, 0, 1, 0, 0, 1, 0, 1, 1, 0, 1, 1, 1, 1, 1, 1, 1, 1, 1, 0, 0,\n",
       "       1, 1, 1, 0, 0, 1, 1, 1, 1, 1, 1, 1, 1, 1, 1, 0, 1, 1, 0, 0, 1, 0,\n",
       "       1, 0, 1, 1])"
      ]
     },
     "execution_count": 95,
     "metadata": {},
     "output_type": "execute_result"
    }
   ],
   "source": [
    "Encoder = LabelEncoder()\n",
    "\n",
    "Encoder = LabelEncoder()\n",
    "Train_Y_Encoded = Encoder.fit_transform(Train_Y[\"Type\"].values)\n",
    "Test_Y_Encoded = Encoder.fit_transform(Test_Y[\"Type\"].values)\n",
    "Train_Y_Encoded"
   ]
  },
  {
   "cell_type": "code",
   "execution_count": 96,
   "metadata": {
    "ExecuteTime": {
     "end_time": "2020-12-15T11:47:42.773546Z",
     "start_time": "2020-12-15T11:47:42.759405Z"
    }
   },
   "outputs": [],
   "source": [
    "from sklearn import svm\n",
    "\n",
    "SVM = svm.SVC(C=1.0, kernel='linear', degree=3, gamma='auto')\n",
    "SVM.fit(Train_X,Train_Y_Encoded)# predict the labels on validation dataset\n",
    "Y_Predict_SVM = SVM.predict(Test_X)\n",
    "\n",
    "#Y_Predict_SVM = list(Encoder.inverse_transform(Y_Predict_SVM))\n",
    "#Y_Predict_SVM"
   ]
  },
  {
   "cell_type": "code",
   "execution_count": 97,
   "metadata": {
    "ExecuteTime": {
     "end_time": "2020-12-15T11:47:49.913037Z",
     "start_time": "2020-12-15T11:47:49.866599Z"
    }
   },
   "outputs": [
    {
     "name": "stdout",
     "output_type": "stream",
     "text": [
      "[[ 7  2]\n",
      " [ 0 21]]\n",
      "              precision    recall  f1-score   support\n",
      "\n",
      "           0       1.00      0.78      0.88         9\n",
      "           1       0.91      1.00      0.95        21\n",
      "\n",
      "    accuracy                           0.93        30\n",
      "   macro avg       0.96      0.89      0.91        30\n",
      "weighted avg       0.94      0.93      0.93        30\n",
      "\n",
      "0.9333333333333333\n"
     ]
    }
   ],
   "source": [
    "print(confusion_matrix(Test_Y_Encoded,Y_Predict_SVM))\n",
    "print(classification_report(Test_Y_Encoded,Y_Predict_SVM))\n",
    "print(accuracy_score(Test_Y_Encoded, Y_Predict_SVM))"
   ]
  },
  {
   "cell_type": "code",
   "execution_count": 98,
   "metadata": {
    "ExecuteTime": {
     "end_time": "2020-12-15T11:47:50.446618Z",
     "start_time": "2020-12-15T11:47:50.389830Z"
    },
    "colab": {
     "base_uri": "https://localhost:8080/",
     "height": 206
    },
    "id": "52xyR9bxGwEz",
    "outputId": "f7f8086a-4998-41fb-c697-8e11b48ad782"
   },
   "outputs": [
    {
     "data": {
      "text/html": [
       "<div>\n",
       "<style scoped>\n",
       "    .dataframe tbody tr th:only-of-type {\n",
       "        vertical-align: middle;\n",
       "    }\n",
       "\n",
       "    .dataframe tbody tr th {\n",
       "        vertical-align: top;\n",
       "    }\n",
       "\n",
       "    .dataframe thead th {\n",
       "        text-align: right;\n",
       "    }\n",
       "</style>\n",
       "<table border=\"1\" class=\"dataframe\">\n",
       "  <thead>\n",
       "    <tr style=\"text-align: right;\">\n",
       "      <th></th>\n",
       "      <th>Type</th>\n",
       "      <th>Creation-date</th>\n",
       "      <th>update-date</th>\n",
       "      <th>Validation Time</th>\n",
       "      <th>Treatment Date</th>\n",
       "      <th>Action-Time</th>\n",
       "      <th>Wait Time</th>\n",
       "    </tr>\n",
       "  </thead>\n",
       "  <tbody>\n",
       "    <tr>\n",
       "      <td>0</td>\n",
       "      <td>Incidents</td>\n",
       "      <td>01/01/2016 00:28 [CET]</td>\n",
       "      <td>01/04/2016 10:53 [CET]</td>\n",
       "      <td>00h 00min</td>\n",
       "      <td>01/01/2016 00:29 [CET]</td>\n",
       "      <td>00h 00min</td>\n",
       "      <td>00h 00min</td>\n",
       "    </tr>\n",
       "    <tr>\n",
       "      <td>1</td>\n",
       "      <td>Incidents</td>\n",
       "      <td>01/01/2016 01:23 [CET]</td>\n",
       "      <td>06/19/2016 03:30 [CEST]</td>\n",
       "      <td>00h 00min</td>\n",
       "      <td>01/01/2016 01:24 [CET]</td>\n",
       "      <td>00h 01min</td>\n",
       "      <td>3 904h 48min</td>\n",
       "    </tr>\n",
       "    <tr>\n",
       "      <td>2</td>\n",
       "      <td>Incidents</td>\n",
       "      <td>01/01/2016 02:25 [CET]</td>\n",
       "      <td>02/03/2016 03:30 [CET]</td>\n",
       "      <td>00h 00min</td>\n",
       "      <td>01/01/2016 02:26 [CET]</td>\n",
       "      <td>-66h 42min</td>\n",
       "      <td>77h 52min</td>\n",
       "    </tr>\n",
       "    <tr>\n",
       "      <td>3</td>\n",
       "      <td>Incidents</td>\n",
       "      <td>01/01/2016 05:30 [CET]</td>\n",
       "      <td>02/03/2016 03:30 [CET]</td>\n",
       "      <td>00h 00min</td>\n",
       "      <td>01/01/2016 05:32 [CET]</td>\n",
       "      <td>NaN</td>\n",
       "      <td>00h 00min</td>\n",
       "    </tr>\n",
       "    <tr>\n",
       "      <td>4</td>\n",
       "      <td>Incidents</td>\n",
       "      <td>01/01/2016 06:13 [CET]</td>\n",
       "      <td>01/04/2016 08:44 [CET]</td>\n",
       "      <td>00h 00min</td>\n",
       "      <td>01/01/2016 06:14 [CET]</td>\n",
       "      <td>00h 02min</td>\n",
       "      <td>00h 00min</td>\n",
       "    </tr>\n",
       "  </tbody>\n",
       "</table>\n",
       "</div>"
      ],
      "text/plain": [
       "        Type           Creation-date              update-date Validation Time  \\\n",
       "0  Incidents  01/01/2016 00:28 [CET]   01/04/2016 10:53 [CET]       00h 00min   \n",
       "1  Incidents  01/01/2016 01:23 [CET]  06/19/2016 03:30 [CEST]       00h 00min   \n",
       "2  Incidents  01/01/2016 02:25 [CET]   02/03/2016 03:30 [CET]       00h 00min   \n",
       "3  Incidents  01/01/2016 05:30 [CET]   02/03/2016 03:30 [CET]       00h 00min   \n",
       "4  Incidents  01/01/2016 06:13 [CET]   01/04/2016 08:44 [CET]       00h 00min   \n",
       "\n",
       "           Treatment Date Action-Time     Wait Time  \n",
       "0  01/01/2016 00:29 [CET]   00h 00min     00h 00min  \n",
       "1  01/01/2016 01:24 [CET]   00h 01min  3 904h 48min  \n",
       "2  01/01/2016 02:26 [CET]  -66h 42min     77h 52min  \n",
       "3  01/01/2016 05:32 [CET]         NaN     00h 00min  \n",
       "4  01/01/2016 06:14 [CET]   00h 02min     00h 00min  "
      ]
     },
     "execution_count": 98,
     "metadata": {},
     "output_type": "execute_result"
    }
   ],
   "source": [
    "Time_df = df[[\"Type\", \"Creation-date\", \"update-date\", \"Validation Time\", \"Treatment Date\", \"Action-Time\", \"Wait Time\"]]\n",
    "Time_df.head()"
   ]
  },
  {
   "cell_type": "code",
   "execution_count": 99,
   "metadata": {
    "ExecuteTime": {
     "end_time": "2020-12-15T11:47:51.151288Z",
     "start_time": "2020-12-15T11:47:51.047734Z"
    },
    "colab": {
     "base_uri": "https://localhost:8080/"
    },
    "id": "etC3KjrW9cUf",
    "outputId": "a0360dca-4ec0-4961-cf1c-7347328e447b"
   },
   "outputs": [],
   "source": [
    "Time_df.dropna(inplace=True)"
   ]
  },
  {
   "cell_type": "code",
   "execution_count": 100,
   "metadata": {
    "ExecuteTime": {
     "end_time": "2020-12-15T11:48:21.043191Z",
     "start_time": "2020-12-15T11:47:51.511309Z"
    },
    "colab": {
     "base_uri": "https://localhost:8080/"
    },
    "id": "UCITx0AKKug-",
    "outputId": "fda0fdea-f816-45af-da1e-419aeceeddb1"
   },
   "outputs": [],
   "source": [
    "Time_df[\"Creation-date\"] = pd.to_datetime(Time_df[\"Creation-date\"].apply(lambda x: str(x)[:16]))\n",
    "Time_df[\"update-date\"] = pd.to_datetime(Time_df[\"update-date\"].apply(lambda x: str(x)[:16]))\n",
    "Time_df[\"Treatment Date\"] = pd.to_datetime(Time_df[\"Treatment Date\"].apply(lambda x: str(x)[:16]))\n",
    "\n",
    "Time_df[\"Time-Diff\"] = Time_df[\"Treatment Date\"] - Time_df[\"Creation-date\"]\n",
    "\n"
   ]
  },
  {
   "cell_type": "code",
   "execution_count": 101,
   "metadata": {
    "ExecuteTime": {
     "end_time": "2020-12-15T11:48:21.411495Z",
     "start_time": "2020-12-15T11:48:21.379131Z"
    },
    "colab": {
     "base_uri": "https://localhost:8080/"
    },
    "id": "7YxkE5iy0OVK",
    "outputId": "02f99425-1ea7-4940-b2e5-a1890191214c"
   },
   "outputs": [
    {
     "name": "stdout",
     "output_type": "stream",
     "text": [
      "<class 'pandas.core.frame.DataFrame'>\n",
      "Int64Index: 77323 entries, 0 to 89057\n",
      "Data columns (total 8 columns):\n",
      "Type               77323 non-null object\n",
      "Creation-date      77323 non-null datetime64[ns]\n",
      "update-date        77323 non-null datetime64[ns]\n",
      "Validation Time    77323 non-null object\n",
      "Treatment Date     77323 non-null datetime64[ns]\n",
      "Action-Time        77323 non-null object\n",
      "Wait Time          77323 non-null object\n",
      "Time-Diff          77323 non-null timedelta64[ns]\n",
      "dtypes: datetime64[ns](3), object(4), timedelta64[ns](1)\n",
      "memory usage: 5.3+ MB\n"
     ]
    }
   ],
   "source": [
    "Time_df.info()\n"
   ]
  },
  {
   "cell_type": "code",
   "execution_count": 102,
   "metadata": {
    "ExecuteTime": {
     "end_time": "2020-12-15T11:48:21.815471Z",
     "start_time": "2020-12-15T11:48:21.601228Z"
    },
    "colab": {
     "base_uri": "https://localhost:8080/"
    },
    "id": "DgNacgJ88oa4",
    "outputId": "55c394ef-a89e-4a0a-eff9-8cd7587f9fac"
   },
   "outputs": [],
   "source": [
    "Time_df[\"Action-Time\"] = Time_df[\"Action-Time\"].apply(lambda x: x.replace(u'\\xa0', ' '))\n",
    "\n",
    "Time_df[\"Wait Time\"] = Time_df[\"Wait Time\"].apply(lambda x: x.replace(u'\\xa0', ' '))\n",
    "\n",
    "Time_df[\"Validation Time\"] = Time_df[\"Validation Time\"].apply(lambda x: x.replace(u'\\xa0', ' '))"
   ]
  },
  {
   "cell_type": "code",
   "execution_count": 103,
   "metadata": {
    "ExecuteTime": {
     "end_time": "2020-12-15T11:50:42.800583Z",
     "start_time": "2020-12-15T11:50:42.780173Z"
    },
    "id": "GxO98LnmUiTn"
   },
   "outputs": [],
   "source": [
    "def get_time_in_minutes(time):\n",
    "    min = 0\n",
    "    minus_sign = time.split('-')\n",
    "    fact = 1\n",
    "    if len(minus_sign) > 1:\n",
    "        fact = -1\n",
    "        time = minus_sign[1]\n",
    " \n",
    "    time_days = time.split(' ')\n",
    "    if len(time_days) > 2:\n",
    "        min += int(time_days[0].replace(' ', '')) *24*60\n",
    "        time = ' '.join(time_days)\n",
    "\n",
    "    time = time.split('h')\n",
    "    if len(time_days) > 1:\n",
    "        min += int(time[0].replace(' ', '')) * 60\n",
    "        time = time[1]\n",
    "\n",
    "    time = time.split('min')\n",
    "    if len(time_days) > 1:\n",
    "        min += int(time[0].replace(' ', ''))\n",
    "        \n",
    "    return min*fact"
   ]
  },
  {
   "cell_type": "code",
   "execution_count": 104,
   "metadata": {
    "ExecuteTime": {
     "end_time": "2020-12-15T11:50:44.337620Z",
     "start_time": "2020-12-15T11:50:43.359509Z"
    },
    "colab": {
     "base_uri": "https://localhost:8080/"
    },
    "id": "OzFCefLJTHiE",
    "outputId": "1a42023b-d06d-4895-b0be-7803684bf743"
   },
   "outputs": [],
   "source": [
    "Time_df[\"Action-Time\"] = Time_df[\"Action-Time\"].apply(lambda x: get_time_in_minutes(x))\n",
    "\n",
    "Time_df[\"Wait Time\"] = Time_df[\"Wait Time\"].apply(lambda x: get_time_in_minutes(x))\n",
    "\n",
    "Time_df[\"Validation Time\"] = Time_df[\"Validation Time\"].apply(lambda x: get_time_in_minutes(x))"
   ]
  },
  {
   "cell_type": "code",
   "execution_count": 105,
   "metadata": {
    "ExecuteTime": {
     "end_time": "2020-12-15T11:50:45.226585Z",
     "start_time": "2020-12-15T11:50:45.183009Z"
    },
    "colab": {
     "base_uri": "https://localhost:8080/",
     "height": 206
    },
    "id": "n_7B5slzJOnK",
    "outputId": "5b5677e7-42c0-4f6d-82b2-da08326d45fb"
   },
   "outputs": [
    {
     "data": {
      "text/html": [
       "<div>\n",
       "<style scoped>\n",
       "    .dataframe tbody tr th:only-of-type {\n",
       "        vertical-align: middle;\n",
       "    }\n",
       "\n",
       "    .dataframe tbody tr th {\n",
       "        vertical-align: top;\n",
       "    }\n",
       "\n",
       "    .dataframe thead th {\n",
       "        text-align: right;\n",
       "    }\n",
       "</style>\n",
       "<table border=\"1\" class=\"dataframe\">\n",
       "  <thead>\n",
       "    <tr style=\"text-align: right;\">\n",
       "      <th></th>\n",
       "      <th>Type</th>\n",
       "      <th>Creation-date</th>\n",
       "      <th>update-date</th>\n",
       "      <th>Validation Time</th>\n",
       "      <th>Treatment Date</th>\n",
       "      <th>Action-Time</th>\n",
       "      <th>Wait Time</th>\n",
       "      <th>Time-Diff</th>\n",
       "    </tr>\n",
       "  </thead>\n",
       "  <tbody>\n",
       "    <tr>\n",
       "      <td>0</td>\n",
       "      <td>Incidents</td>\n",
       "      <td>2016-01-01 00:28:00</td>\n",
       "      <td>2016-01-04 10:53:00</td>\n",
       "      <td>0</td>\n",
       "      <td>2016-01-01 00:29:00</td>\n",
       "      <td>0</td>\n",
       "      <td>0</td>\n",
       "      <td>00:01:00</td>\n",
       "    </tr>\n",
       "    <tr>\n",
       "      <td>1</td>\n",
       "      <td>Incidents</td>\n",
       "      <td>2016-01-01 01:23:00</td>\n",
       "      <td>2016-06-19 03:30:00</td>\n",
       "      <td>0</td>\n",
       "      <td>2016-01-01 01:24:00</td>\n",
       "      <td>1</td>\n",
       "      <td>238608</td>\n",
       "      <td>00:01:00</td>\n",
       "    </tr>\n",
       "    <tr>\n",
       "      <td>2</td>\n",
       "      <td>Incidents</td>\n",
       "      <td>2016-01-01 02:25:00</td>\n",
       "      <td>2016-02-03 03:30:00</td>\n",
       "      <td>0</td>\n",
       "      <td>2016-01-01 02:26:00</td>\n",
       "      <td>-4002</td>\n",
       "      <td>4672</td>\n",
       "      <td>00:01:00</td>\n",
       "    </tr>\n",
       "    <tr>\n",
       "      <td>4</td>\n",
       "      <td>Incidents</td>\n",
       "      <td>2016-01-01 06:13:00</td>\n",
       "      <td>2016-01-04 08:44:00</td>\n",
       "      <td>0</td>\n",
       "      <td>2016-01-01 06:14:00</td>\n",
       "      <td>2</td>\n",
       "      <td>0</td>\n",
       "      <td>00:01:00</td>\n",
       "    </tr>\n",
       "    <tr>\n",
       "      <td>5</td>\n",
       "      <td>Incidents</td>\n",
       "      <td>2016-01-01 09:19:00</td>\n",
       "      <td>2016-01-05 09:32:00</td>\n",
       "      <td>0</td>\n",
       "      <td>2016-01-01 09:23:00</td>\n",
       "      <td>-3178</td>\n",
       "      <td>4347</td>\n",
       "      <td>00:04:00</td>\n",
       "    </tr>\n",
       "  </tbody>\n",
       "</table>\n",
       "</div>"
      ],
      "text/plain": [
       "        Type       Creation-date         update-date  Validation Time  \\\n",
       "0  Incidents 2016-01-01 00:28:00 2016-01-04 10:53:00                0   \n",
       "1  Incidents 2016-01-01 01:23:00 2016-06-19 03:30:00                0   \n",
       "2  Incidents 2016-01-01 02:25:00 2016-02-03 03:30:00                0   \n",
       "4  Incidents 2016-01-01 06:13:00 2016-01-04 08:44:00                0   \n",
       "5  Incidents 2016-01-01 09:19:00 2016-01-05 09:32:00                0   \n",
       "\n",
       "       Treatment Date  Action-Time  Wait Time Time-Diff  \n",
       "0 2016-01-01 00:29:00            0          0  00:01:00  \n",
       "1 2016-01-01 01:24:00            1     238608  00:01:00  \n",
       "2 2016-01-01 02:26:00        -4002       4672  00:01:00  \n",
       "4 2016-01-01 06:14:00            2          0  00:01:00  \n",
       "5 2016-01-01 09:23:00        -3178       4347  00:04:00  "
      ]
     },
     "execution_count": 105,
     "metadata": {},
     "output_type": "execute_result"
    }
   ],
   "source": [
    "Time_df.head()"
   ]
  },
  {
   "cell_type": "code",
   "execution_count": 106,
   "metadata": {
    "ExecuteTime": {
     "end_time": "2020-12-15T11:50:46.378842Z",
     "start_time": "2020-12-15T11:50:46.260426Z"
    },
    "colab": {
     "base_uri": "https://localhost:8080/",
     "height": 300
    },
    "id": "N0qyIELg8V6f",
    "outputId": "d852a7eb-38d6-4847-eee8-f6f67101adcf"
   },
   "outputs": [
    {
     "data": {
      "text/html": [
       "<div>\n",
       "<style scoped>\n",
       "    .dataframe tbody tr th:only-of-type {\n",
       "        vertical-align: middle;\n",
       "    }\n",
       "\n",
       "    .dataframe tbody tr th {\n",
       "        vertical-align: top;\n",
       "    }\n",
       "\n",
       "    .dataframe thead th {\n",
       "        text-align: right;\n",
       "    }\n",
       "</style>\n",
       "<table border=\"1\" class=\"dataframe\">\n",
       "  <thead>\n",
       "    <tr style=\"text-align: right;\">\n",
       "      <th></th>\n",
       "      <th>Validation Time</th>\n",
       "      <th>Action-Time</th>\n",
       "      <th>Wait Time</th>\n",
       "      <th>Time-Diff</th>\n",
       "    </tr>\n",
       "  </thead>\n",
       "  <tbody>\n",
       "    <tr>\n",
       "      <td>count</td>\n",
       "      <td>40866.0</td>\n",
       "      <td>40866.000000</td>\n",
       "      <td>40866.000000</td>\n",
       "      <td>40866</td>\n",
       "    </tr>\n",
       "    <tr>\n",
       "      <td>mean</td>\n",
       "      <td>0.0</td>\n",
       "      <td>-446.712034</td>\n",
       "      <td>3330.292982</td>\n",
       "      <td>0 days 00:13:15.803846</td>\n",
       "    </tr>\n",
       "    <tr>\n",
       "      <td>std</td>\n",
       "      <td>0.0</td>\n",
       "      <td>7592.633892</td>\n",
       "      <td>15945.111833</td>\n",
       "      <td>0 days 07:42:21.100600</td>\n",
       "    </tr>\n",
       "    <tr>\n",
       "      <td>min</td>\n",
       "      <td>0.0</td>\n",
       "      <td>-364520.000000</td>\n",
       "      <td>0.000000</td>\n",
       "      <td>-1 days +23:59:00</td>\n",
       "    </tr>\n",
       "    <tr>\n",
       "      <td>25%</td>\n",
       "      <td>0.0</td>\n",
       "      <td>0.000000</td>\n",
       "      <td>0.000000</td>\n",
       "      <td>0 days 00:00:00</td>\n",
       "    </tr>\n",
       "    <tr>\n",
       "      <td>50%</td>\n",
       "      <td>0.0</td>\n",
       "      <td>0.000000</td>\n",
       "      <td>222.000000</td>\n",
       "      <td>0 days 00:00:00</td>\n",
       "    </tr>\n",
       "    <tr>\n",
       "      <td>75%</td>\n",
       "      <td>0.0</td>\n",
       "      <td>7.000000</td>\n",
       "      <td>1437.750000</td>\n",
       "      <td>0 days 00:00:00</td>\n",
       "    </tr>\n",
       "    <tr>\n",
       "      <td>max</td>\n",
       "      <td>0.0</td>\n",
       "      <td>260657.000000</td>\n",
       "      <td>601674.000000</td>\n",
       "      <td>18 days 04:04:00</td>\n",
       "    </tr>\n",
       "  </tbody>\n",
       "</table>\n",
       "</div>"
      ],
      "text/plain": [
       "       Validation Time    Action-Time      Wait Time               Time-Diff\n",
       "count          40866.0   40866.000000   40866.000000                   40866\n",
       "mean               0.0    -446.712034    3330.292982  0 days 00:13:15.803846\n",
       "std                0.0    7592.633892   15945.111833  0 days 07:42:21.100600\n",
       "min                0.0 -364520.000000       0.000000       -1 days +23:59:00\n",
       "25%                0.0       0.000000       0.000000         0 days 00:00:00\n",
       "50%                0.0       0.000000     222.000000         0 days 00:00:00\n",
       "75%                0.0       7.000000    1437.750000         0 days 00:00:00\n",
       "max                0.0  260657.000000  601674.000000        18 days 04:04:00"
      ]
     },
     "execution_count": 106,
     "metadata": {},
     "output_type": "execute_result"
    }
   ],
   "source": [
    "Time_df[Time_df[\"Type\"]==\"Incidents\"].describe()"
   ]
  },
  {
   "cell_type": "code",
   "execution_count": 107,
   "metadata": {
    "ExecuteTime": {
     "end_time": "2020-12-15T11:50:47.259368Z",
     "start_time": "2020-12-15T11:50:47.151793Z"
    },
    "colab": {
     "base_uri": "https://localhost:8080/",
     "height": 300
    },
    "id": "U_t1DYnsKuos",
    "outputId": "df5fdaa0-f06a-433c-ea14-bdeb432f082e"
   },
   "outputs": [
    {
     "data": {
      "text/html": [
       "<div>\n",
       "<style scoped>\n",
       "    .dataframe tbody tr th:only-of-type {\n",
       "        vertical-align: middle;\n",
       "    }\n",
       "\n",
       "    .dataframe tbody tr th {\n",
       "        vertical-align: top;\n",
       "    }\n",
       "\n",
       "    .dataframe thead th {\n",
       "        text-align: right;\n",
       "    }\n",
       "</style>\n",
       "<table border=\"1\" class=\"dataframe\">\n",
       "  <thead>\n",
       "    <tr style=\"text-align: right;\">\n",
       "      <th></th>\n",
       "      <th>Validation Time</th>\n",
       "      <th>Action-Time</th>\n",
       "      <th>Wait Time</th>\n",
       "      <th>Time-Diff</th>\n",
       "    </tr>\n",
       "  </thead>\n",
       "  <tbody>\n",
       "    <tr>\n",
       "      <td>count</td>\n",
       "      <td>36457.0</td>\n",
       "      <td>36457.000000</td>\n",
       "      <td>36457.000000</td>\n",
       "      <td>36457</td>\n",
       "    </tr>\n",
       "    <tr>\n",
       "      <td>mean</td>\n",
       "      <td>0.0</td>\n",
       "      <td>-195.677291</td>\n",
       "      <td>3692.691637</td>\n",
       "      <td>0 days 00:41:40.308308</td>\n",
       "    </tr>\n",
       "    <tr>\n",
       "      <td>std</td>\n",
       "      <td>0.0</td>\n",
       "      <td>12713.763379</td>\n",
       "      <td>19376.169158</td>\n",
       "      <td>0 days 17:55:30.647640</td>\n",
       "    </tr>\n",
       "    <tr>\n",
       "      <td>min</td>\n",
       "      <td>0.0</td>\n",
       "      <td>-557278.000000</td>\n",
       "      <td>0.000000</td>\n",
       "      <td>-1 days +23:59:00</td>\n",
       "    </tr>\n",
       "    <tr>\n",
       "      <td>25%</td>\n",
       "      <td>0.0</td>\n",
       "      <td>0.000000</td>\n",
       "      <td>0.000000</td>\n",
       "      <td>0 days 00:00:00</td>\n",
       "    </tr>\n",
       "    <tr>\n",
       "      <td>50%</td>\n",
       "      <td>0.0</td>\n",
       "      <td>19.000000</td>\n",
       "      <td>0.000000</td>\n",
       "      <td>0 days 00:00:00</td>\n",
       "    </tr>\n",
       "    <tr>\n",
       "      <td>75%</td>\n",
       "      <td>0.0</td>\n",
       "      <td>156.000000</td>\n",
       "      <td>1135.000000</td>\n",
       "      <td>0 days 00:02:00</td>\n",
       "    </tr>\n",
       "    <tr>\n",
       "      <td>max</td>\n",
       "      <td>0.0</td>\n",
       "      <td>556051.000000</td>\n",
       "      <td>944664.000000</td>\n",
       "      <td>85 days 02:51:00</td>\n",
       "    </tr>\n",
       "  </tbody>\n",
       "</table>\n",
       "</div>"
      ],
      "text/plain": [
       "       Validation Time    Action-Time      Wait Time               Time-Diff\n",
       "count          36457.0   36457.000000   36457.000000                   36457\n",
       "mean               0.0    -195.677291    3692.691637  0 days 00:41:40.308308\n",
       "std                0.0   12713.763379   19376.169158  0 days 17:55:30.647640\n",
       "min                0.0 -557278.000000       0.000000       -1 days +23:59:00\n",
       "25%                0.0       0.000000       0.000000         0 days 00:00:00\n",
       "50%                0.0      19.000000       0.000000         0 days 00:00:00\n",
       "75%                0.0     156.000000    1135.000000         0 days 00:02:00\n",
       "max                0.0  556051.000000  944664.000000        85 days 02:51:00"
      ]
     },
     "execution_count": 107,
     "metadata": {},
     "output_type": "execute_result"
    }
   ],
   "source": [
    "Time_df[Time_df[\"Type\"]!=\"Incidents\"].describe()"
   ]
  },
  {
   "cell_type": "code",
   "execution_count": 108,
   "metadata": {
    "ExecuteTime": {
     "end_time": "2020-12-15T11:50:50.284238Z",
     "start_time": "2020-12-15T11:50:48.031980Z"
    },
    "colab": {
     "base_uri": "https://localhost:8080/"
    },
    "id": "DyXJV5ilCze0",
    "outputId": "18233b0d-5bb7-4d1f-cac6-965e60e4ebde"
   },
   "outputs": [],
   "source": [
    "Time_df[\"Time-Diff_inMin\"] = Time_df[\"Time-Diff\"].apply(lambda x: x.total_seconds()/60)"
   ]
  },
  {
   "cell_type": "code",
   "execution_count": 109,
   "metadata": {
    "ExecuteTime": {
     "end_time": "2020-12-15T11:50:50.895471Z",
     "start_time": "2020-12-15T11:50:50.466904Z"
    },
    "colab": {
     "base_uri": "https://localhost:8080/",
     "height": 299
    },
    "id": "ADvarYNnJgz-",
    "outputId": "4e0cc943-9640-4f90-c603-20cb2c0ffc29"
   },
   "outputs": [
    {
     "data": {
      "text/plain": [
       "<matplotlib.legend.Legend at 0x7f4234d12550>"
      ]
     },
     "execution_count": 109,
     "metadata": {},
     "output_type": "execute_result"
    },
    {
     "data": {
      "image/png": "[encoded data removed]",
      "text/plain": [
       "<Figure size 432x288 with 1 Axes>"
      ]
     },
     "metadata": {
      "needs_background": "light"
     },
     "output_type": "display_data"
    }
   ],
   "source": [
    "import matplotlib.pyplot as plt\n",
    "\n",
    "plt.hist( Time_df[Time_df[\"Type\"]==\"Incidents\"][\"Time-Diff_inMin\"][:100], color=\"skyblue\", label=\"Incidents Time-Diff\")\n",
    "plt.hist( Time_df[Time_df[\"Type\"]!=\"Incidents\"][\"Time-Diff_inMin\"][:100], alpha=0.2, color=\"red\", label=\"Demandes Time-Diff\")\n",
    "plt.legend()"
   ]
  },
  {
   "cell_type": "code",
   "execution_count": 110,
   "metadata": {
    "ExecuteTime": {
     "end_time": "2020-12-15T11:50:51.916418Z",
     "start_time": "2020-12-15T11:50:51.903283Z"
    }
   },
   "outputs": [
    {
     "data": {
      "text/plain": [
       "'Notre plateforme de supervision nous a remonté les alertes suivantes Serveur V002 Service Partition C Startus information C:\\\\ Label:Sys Serial Number b69c6172: 90%used(46125MB/51097MB) (>90%) WARNING Cordialement. Pilotage D-FI'"
      ]
     },
     "execution_count": 110,
     "metadata": {},
     "output_type": "execute_result"
    }
   ],
   "source": [
    "Train_Y[\"Incident-Subject\"].iloc[0]"
   ]
  },
  {
   "cell_type": "code",
   "execution_count": 111,
   "metadata": {
    "ExecuteTime": {
     "end_time": "2020-12-15T11:50:52.571783Z",
     "start_time": "2020-12-15T11:50:52.558840Z"
    }
   },
   "outputs": [
    {
     "data": {
      "text/plain": [
       "'Alerte OK sur la supervision: Partition: C: <http://supervision.infogerance.d-fi.fr/thruk/cgi-bin/extinfo.cgi?type=2&host=V002&service=Partition%3A%20C%3A&backend=d8966> OK12:03:240d 20h 31m 36s1/3C:\\\\ Label:Sys Serial Number b69c6172: 85%used(43521MB/51097MB) (<90%) OK Bon pour clôture. Pilotage D-FI'"
      ]
     },
     "execution_count": 111,
     "metadata": {},
     "output_type": "execute_result"
    }
   ],
   "source": [
    "Train_Y[\"Ticket-Description\"].iloc[0]"
   ]
  },
  {
   "cell_type": "code",
   "execution_count": 112,
   "metadata": {
    "ExecuteTime": {
     "end_time": "2020-12-15T11:50:53.069528Z",
     "start_time": "2020-12-15T11:50:53.057777Z"
    },
    "id": "CxHLUbraufLJ"
   },
   "outputs": [],
   "source": [
    "def get_ticket_Tfidf_vect(ticket):\n",
    "    ticket_list = []\n",
    "    ticket_list.append(ticket)\n",
    "    vec_ticket = vectorizer.transform(ticket_list).toarray()\n",
    "    ticket_features = tfidfconverter.transform(vec_ticket).toarray()\n",
    "    return ticket_features"
   ]
  },
  {
   "cell_type": "code",
   "execution_count": 113,
   "metadata": {
    "ExecuteTime": {
     "end_time": "2020-12-15T11:50:53.808360Z",
     "start_time": "2020-12-15T11:50:53.793632Z"
    },
    "id": "ImTNeD4wx5ze"
   },
   "outputs": [],
   "source": [
    "def cosine_sim(text1, text2):\n",
    "    return ((tfidf * tfidf.T).A)[0,1]\n",
    "\n",
    "def similar_ticket(ticket):\n",
    "    ticket_tfidf = get_ticket_Tfidf_vect(ticket)\n",
    "    vals = cosine_similarity(ticket_tfidf, Train_X)\n",
    "    vals = vals[0]\n",
    "    idx = vals.argmax()\n",
    "    print(\"The Most Similar Ticket index : \", idx)\n",
    "    print(\"Solution : \",end=\"\")\n",
    "    return Train_Y[\"Ticket-Description\"].iloc[idx]"
   ]
  },
  {
   "cell_type": "code",
   "execution_count": 114,
   "metadata": {
    "ExecuteTime": {
     "end_time": "2020-12-15T11:51:19.581750Z",
     "start_time": "2020-12-15T11:51:03.103824Z"
    },
    "colab": {
     "base_uri": "https://localhost:8080/"
    },
    "id": "4FC9VK3AxKv4",
    "outputId": "6910f737-0211-4a88-8e2d-9d989986adcc"
   },
   "outputs": [
    {
     "name": "stdout",
     "output_type": "stream",
     "text": [
      "insert your ticket: \n",
      "Notre plateforme de supervision nous a remonté les alertes suivantes Serveur V002 Service Partition C Startus information C:\\\\ Label:Sys Serial Number b69c6172: 90%used(46125MB/51097MB) (>90%) WARNING Cordialement. Pilotage D-FI\n",
      "The Most Similar Ticket index :  0\n",
      "Solution : Alerte OK sur la supervision: Partition: C: <http://supervision.infogerance.d-fi.fr/thruk/cgi-bin/extinfo.cgi?type=2&host=V002&service=Partition%3A%20C%3A&backend=d8966> OK12:03:240d 20h 31m 36s1/3C:\\ Label:Sys Serial Number b69c6172: 85%used(43521MB/51097MB) (<90%) OK Bon pour clôture. Pilotage D-FI\n",
      "insert your ticket: \n",
      "bye\n"
     ]
    }
   ],
   "source": [
    "flag=True\n",
    "while(flag==True):\n",
    "    print(\"insert your ticket: \")\n",
    "    ticket = input()\n",
    "    if ticket!='bye':        \n",
    "        print(similar_ticket(ticket))\n",
    "    else:\n",
    "        flag=False"
   ]
  },
  {
   "cell_type": "code",
   "execution_count": 116,
   "metadata": {
    "ExecuteTime": {
     "end_time": "2020-12-15T11:52:04.507236Z",
     "start_time": "2020-12-15T11:52:04.493576Z"
    },
    "id": "D3CAVgDnNY0k"
   },
   "outputs": [],
   "source": [
    "from sklearn.neighbors import KNeighborsClassifier\n",
    "\n",
    "knn = KNeighborsClassifier(n_neighbors=5)\n",
    "\n",
    "clf_knn = knn.fit(Train_X, Train_Y[\"Team\"])"
   ]
  },
  {
   "cell_type": "code",
   "execution_count": 118,
   "metadata": {
    "ExecuteTime": {
     "end_time": "2020-12-15T11:52:30.749890Z",
     "start_time": "2020-12-15T11:52:30.735528Z"
    },
    "id": "I8jJ9yxENp6J"
   },
   "outputs": [],
   "source": [
    "def predict_similar_ticket_with_KNN(ticket):\n",
    "    ticket_tfidf = get_ticket_Tfidf_vect(ticket)\n",
    "    predicted = clf_knn.predict(ticket_tfidf)\n",
    "    print(\"most perfect team for work : \", predicted[0])\n",
    "    distances, indices = clf_knn.kneighbors(ticket_tfidf)\n",
    "    for i in range(len(indices[0])):\n",
    "        print(\"index: \", indices[0][i], \"Ticket: \",Test_Y[\"Incident-Subject\"].iloc[i]+'\\n\\n')"
   ]
  },
  {
   "cell_type": "code",
   "execution_count": 119,
   "metadata": {
    "ExecuteTime": {
     "end_time": "2020-12-15T11:52:32.092053Z",
     "start_time": "2020-12-15T11:52:32.077078Z"
    }
   },
   "outputs": [
    {
     "data": {
      "text/plain": [
       "'L\\'utilisateur \"goncalves\" ne parvient pas à se connecter à notre application métier. Une session \"goncalves\" est impossible à déconnecter sur EQ-CHA-TSE2 (que ce soit via le Gestionnaire de Tâches de TSE2 ou via le BROKER). Comment déconnecter l\\'utilisateur pour qu\\'il puisse ouvrir une nouvelle session ? Merci. Maxime VIRETal'"
      ]
     },
     "execution_count": 119,
     "metadata": {},
     "output_type": "execute_result"
    }
   ],
   "source": [
    "# As Our Input \n",
    "\n",
    "Test_Y[\"Incident-Subject\"].iloc[0]"
   ]
  },
  {
   "cell_type": "code",
   "execution_count": 120,
   "metadata": {
    "ExecuteTime": {
     "end_time": "2020-12-15T11:52:34.510984Z",
     "start_time": "2020-12-15T11:52:34.475584Z"
    },
    "colab": {
     "base_uri": "https://localhost:8080/"
    },
    "id": "9yIbwUv7VRjn",
    "outputId": "ec8a7665-e790-4bb3-e765-25580951c80a"
   },
   "outputs": [
    {
     "name": "stdout",
     "output_type": "stream",
     "text": [
      "L'utilisateur \"goncalves\" ne parvient pas à se connecter à notre application métier. Une session \"goncalves\" est impossible à déconnecter sur EQ-CHA-TSE2 (que ce soit via le Gestionnaire de Tâches de TSE2 ou via le BROKER). Comment déconnecter l'utilisateur pour qu'il puisse ouvrir une nouvelle session ? Merci. Maxime VIRETal\n",
      "most perfect team for work :  PILOTAGE\n",
      "index:  18 Ticket:  L'utilisateur \"goncalves\" ne parvient pas à se connecter à notre application métier. Une session \"goncalves\" est impossible à déconnecter sur EQ-CHA-TSE2 (que ce soit via le Gestionnaire de Tâches de TSE2 ou via le BROKER). Comment déconnecter l'utilisateur pour qu'il puisse ouvrir une nouvelle session ? Merci. Maxime VIRETal\n",
      "\n",
      "\n",
      "index:  48 Ticket:  can you give \"read write and create\" access to following net drives for our new \"area manager\" JOERG BOWE please: \\\\PHGMB-DC1\\verkauf$ and \\\\PHGMB-DC1\\allgemein$ and \\\\PHGMB-DC1\\technik$\n",
      "\n",
      "\n",
      "index:  58 Ticket:  Notre plateforme de supervision nous a remonté l'alerte suivante: FRVE-SRV-H11SYS Serveur Windows Partition H Status CRITICAL Status information: H:\\ - total: 1878.47 Gb - used: 1808.84 Gb (96%) - free 69.63 Gb (4%) Cordialement.\n",
      "\n",
      "\n",
      "index:  61 Ticket:  La base des données des rebuts de l'usinage n'est plus accessible et elle est introuvable sur le réseau: \"G:\\DIRIND\\UAPM\\BDD DE GESTION DES NC\" \\\\H61sys\\transverse$\\DIRIND\\UAPM\\BDD DE GESTION DES NC Merci.\n",
      "\n",
      "\n",
      "index:  28 Ticket:  Nous avons effectué le lancement du batch épuration DAC400. Marc TOUTAIN..\n",
      "\n",
      "\n"
     ]
    }
   ],
   "source": [
    "ticket = Test_Y[\"Incident-Subject\"].iloc[0]\n",
    "print(ticket)\n",
    "\n",
    "predict_similar_ticket_with_KNN(ticket)"
   ]
  },
  {
   "cell_type": "code",
   "execution_count": 62,
   "metadata": {
    "ExecuteTime": {
     "end_time": "2020-12-15T08:26:14.670027Z",
     "start_time": "2020-12-15T08:26:14.664964Z"
    },
    "colab": {
     "base_uri": "https://localhost:8080/"
    },
    "id": "_9dvWo9_Wtcc",
    "outputId": "a4b93f9d-2d0b-408e-8943-41b9eea0253e"
   },
   "outputs": [],
   "source": [
    "#pip install SpeechRecognition\n"
   ]
  },
  {
   "cell_type": "code",
   "execution_count": 63,
   "metadata": {
    "ExecuteTime": {
     "end_time": "2020-12-15T08:26:15.604857Z",
     "start_time": "2020-12-15T08:26:15.599916Z"
    }
   },
   "outputs": [],
   "source": [
    "#pip install pyaudio"
   ]
  },
  {
   "cell_type": "code",
   "execution_count": 64,
   "metadata": {
    "ExecuteTime": {
     "end_time": "2020-12-15T08:26:16.530371Z",
     "start_time": "2020-12-15T08:26:16.513349Z"
    },
    "id": "C0SuG49nOAZD"
   },
   "outputs": [],
   "source": [
    "import speech_recognition as sr\n",
    "\n",
    "def audio_text(audio_file):\n",
    "    r = sr.Recognizer()\n",
    "    with sr.AudioFile(audio_file) as source:\n",
    "        audio_text = r.listen(source)\n",
    "        try:        \n",
    "            text = r.recognize_google(audio_text)\n",
    "            print('text : ')\n",
    "            print(text)\n",
    "            return text\n",
    "        except:\n",
    "            return None\n"
   ]
  },
  {
   "cell_type": "code",
   "execution_count": 66,
   "metadata": {
    "ExecuteTime": {
     "end_time": "2020-12-15T08:26:22.558702Z",
     "start_time": "2020-12-15T08:26:21.902133Z"
    },
    "colab": {
     "base_uri": "https://localhost:8080/"
    },
    "id": "J97WPhMBjPwp",
    "outputId": "91605eb1-1c27-489d-8d1f-5c4e0967554d"
   },
   "outputs": [
    {
     "name": "stdout",
     "output_type": "stream",
     "text": [
      "Enter ticket :\n",
      " 1- for insert ticket from audio \n",
      " 2- for insert ticket from text ? \n",
      " (else for exit) \n",
      "\n",
      "\n"
     ]
    },
    {
     "ename": "ValueError",
     "evalue": "invalid literal for int() with base 10: ''",
     "output_type": "error",
     "traceback": [
      "\u001b[0;31m---------------------------------------------------------------------------\u001b[0m",
      "\u001b[0;31mValueError\u001b[0m                                Traceback (most recent call last)",
      "\u001b[0;32m<ipython-input-66-b0ea658bca4f>\u001b[0m in \u001b[0;36m<module>\u001b[0;34m\u001b[0m\n\u001b[1;32m      5\u001b[0m     \u001b[0mprint\u001b[0m\u001b[0;34m(\u001b[0m\u001b[0;34m\"Enter ticket :\\n 1- for insert ticket from audio \\n 2- for insert ticket from text ? \\n (else for exit) \\n\"\u001b[0m\u001b[0;34m)\u001b[0m\u001b[0;34m\u001b[0m\u001b[0;34m\u001b[0m\u001b[0m\n\u001b[1;32m      6\u001b[0m     \u001b[0moption\u001b[0m \u001b[0;34m=\u001b[0m \u001b[0minput\u001b[0m\u001b[0;34m(\u001b[0m\u001b[0;34m)\u001b[0m\u001b[0;34m\u001b[0m\u001b[0;34m\u001b[0m\u001b[0m\n\u001b[0;32m----> 7\u001b[0;31m     \u001b[0;32mif\u001b[0m \u001b[0mint\u001b[0m\u001b[0;34m(\u001b[0m\u001b[0moption\u001b[0m\u001b[0;34m)\u001b[0m \u001b[0;34m==\u001b[0m \u001b[0;36m1\u001b[0m\u001b[0;34m:\u001b[0m\u001b[0;34m\u001b[0m\u001b[0;34m\u001b[0m\u001b[0m\n\u001b[0m\u001b[1;32m      8\u001b[0m         \u001b[0mticket\u001b[0m\u001b[0;34m=\u001b[0m\u001b[0maudio_text\u001b[0m\u001b[0;34m(\u001b[0m\u001b[0maudio_file\u001b[0m\u001b[0;34m)\u001b[0m\u001b[0;34m\u001b[0m\u001b[0;34m\u001b[0m\u001b[0m\n\u001b[1;32m      9\u001b[0m         \u001b[0mpredict_similar_ticket_with_KNN\u001b[0m\u001b[0;34m(\u001b[0m\u001b[0mticket\u001b[0m\u001b[0;34m)\u001b[0m\u001b[0;34m\u001b[0m\u001b[0;34m\u001b[0m\u001b[0m\n",
      "\u001b[0;31mValueError\u001b[0m: invalid literal for int() with base 10: ''"
     ]
    }
   ],
   "source": [
    "#audio_file = \"/content/drive/MyDrive/DFI Challanges/Challange 1/male.wav\"\n",
    "\n",
    "flag=True\n",
    "while(flag==True):\n",
    "    print(\"Enter ticket :\\n 1- for insert ticket from audio \\n 2- for insert ticket from text ? \\n (else for exit) \\n\")\n",
    "    option = input()\n",
    "    if int(option) == 1:\n",
    "        ticket=audio_text(audio_file)\n",
    "        predict_similar_ticket_with_KNN(ticket)\n",
    "    elif int(option) == 2:\n",
    "        print(\"insert your ticket: \")\n",
    "        ticket = input()\n",
    "        predict_similar_ticket_with_KNN(ticket)\n",
    "    else:\n",
    "        flag=False"
   ]
  },
  {
   "cell_type": "code",
   "execution_count": null,
   "metadata": {
    "id": "cYx0XHb84VLQ"
   },
   "outputs": [],
   "source": []
  },
  {
   "cell_type": "code",
   "execution_count": null,
   "metadata": {
    "colab": {
     "base_uri": "https://localhost:8080/",
     "height": 209
    },
    "id": "xJVQfcHX4aIE",
    "outputId": "abd14c39-436e-4efd-8575-84b65312511b"
   },
   "outputs": [],
   "source": []
  },
  {
   "cell_type": "code",
   "execution_count": null,
   "metadata": {
    "colab": {
     "base_uri": "https://localhost:8080/",
     "height": 209
    },
    "id": "TRChLvDo4dtj",
    "outputId": "02198ac2-3ced-4dc4-8da3-d1bb729ef450"
   },
   "outputs": [],
   "source": []
  },
  {
   "cell_type": "code",
   "execution_count": 15,
   "metadata": {
    "ExecuteTime": {
     "end_time": "2020-12-15T10:25:55.650166Z",
     "start_time": "2020-12-15T10:25:55.637998Z"
    },
    "colab": {
     "base_uri": "https://localhost:8080/",
     "height": 209
    },
    "id": "_zgd2QBF4itp",
    "outputId": "0a852b2c-9450-4210-c9a6-e42a7c7f56ff"
   },
   "outputs": [],
   "source": [
    "from keras import models\n",
    "from keras import layers\n",
    "from keras import optimizers, losses, metrics\n",
    "from keras import preprocessing\n",
    "\n",
    "import numpy as np\n",
    "import pandas as pd\n",
    "import matplotlib.pyplot as plt\n",
    "import os\n",
    "import re"
   ]
  },
  {
   "cell_type": "code",
   "execution_count": 16,
   "metadata": {
    "ExecuteTime": {
     "end_time": "2020-12-15T10:25:56.428977Z",
     "start_time": "2020-12-15T10:25:56.421041Z"
    },
    "id": "DmlJjG8l4oxa"
   },
   "outputs": [],
   "source": [
    "PAD = \"<PADDING>\"   \n",
    "STA = \"<START>\"     \n",
    "END = \"<END>\"       \n",
    "OOV = \"<OOV>\"       \n",
    "\n",
    "PAD_INDEX = 0\n",
    "STA_INDEX = 1\n",
    "END_INDEX = 2\n",
    "OOV_INDEX = 3\n",
    "\n",
    "ENCODER_INPUT  = 0\n",
    "DECODER_INPUT  = 1\n",
    "DECODER_TARGET = 2\n",
    "\n",
    "max_sequences = 30\n",
    "\n",
    "embedding_dim = 100\n",
    "\n",
    "lstm_hidden_dim = 128\n",
    "\n",
    "RE_FILTER = re.compile(\"[.,!?\\\"':;~()]\")"
   ]
  },
  {
   "cell_type": "code",
   "execution_count": 17,
   "metadata": {
    "ExecuteTime": {
     "end_time": "2020-12-15T10:25:57.084370Z",
     "start_time": "2020-12-15T10:25:57.076824Z"
    }
   },
   "outputs": [],
   "source": [
    "question = description_df[\"Incident-Subject\"].tolist()[:100]\n",
    "answer = description_df[\"Ticket-Description\"].tolist()[:100]"
   ]
  },
  {
   "cell_type": "code",
   "execution_count": 18,
   "metadata": {
    "ExecuteTime": {
     "end_time": "2020-12-15T10:25:57.836939Z",
     "start_time": "2020-12-15T10:25:57.826655Z"
    }
   },
   "outputs": [
    {
     "data": {
      "text/plain": [
       "100"
      ]
     },
     "execution_count": 18,
     "metadata": {},
     "output_type": "execute_result"
    }
   ],
   "source": [
    "len(question)"
   ]
  },
  {
   "cell_type": "code",
   "execution_count": 19,
   "metadata": {
    "ExecuteTime": {
     "end_time": "2020-12-15T10:25:58.521311Z",
     "start_time": "2020-12-15T10:25:58.497366Z"
    }
   },
   "outputs": [
    {
     "name": "stdout",
     "output_type": "stream",
     "text": [
      "Q :  Bonsoir     Notre outil de supervision a remonté l'alerte suivante:     Client:  Serveur: FRDAPLANIF1  Adresse IP: 170.237.25.77  Service: Service: _SMAOpConMinosService_   Note: Serveur Windows     Retour du check: SMAOpConMinosService: Stopped        Cordialement, Adil  \n",
      "A :  Bonsoir,     Le service Minos a redémarré automatiquement à la fin du sauvegarde      0d 0h 1m 12s1/3SMAOpConMinosService: Started     ' Travail Opcon Start service Minos ok aussi '     Je clos ce ticket        Cordialement, Adil  \n",
      "\n",
      "Q :  Bonjour,     Notre plateforme de supervision nousz remonte l'alerte suivante:     Host:FRVE-SRV-PHIND-DB06 <http://supervision.infogerance.d-fi.fr/thruk/cgi-bin/extinfo.cgi?type=1&host=FRVE-SRV-PHIND-DB06>  Service: Partition : E <http://supervision.infogerance.d-fi.fr/thruk/cgi-bin/extinfo.cgi?type=2&host=FRVE-SRV-PHIND-DB06&service=Partition%20%3A%20E&backend=d8969>  Status information: E:\\ - total: 1996.80 Gb - used: 1904.39 Gb (95%) - free 92.40 Gb (5%)        Cordialement, Adil  \n",
      "A :  Bonjour,     Partition OK     E:\\ - total: 1996.80 Gb - used: 1642.72 Gb (82%) - free 354.07 Gb (18%)     Je clos ce ticket     Cordialment      Adil    \n",
      "\n",
      "Q :  Bonjour,     Message reçu dans QSYSOPR      Travail d'origine  . . . . . . :   RENUM.VAC    Utilisateur  . . . . . . . . :     BBELLEGUE    Numéro . . . . . . . . . . . :     091375        ID message . . . . . . :   RNQ0103       Gravité  . . . . . . . :   99 Type de message  . . . :   Interrogation Date d'envoi . . . . . :   01/01/16      Heure d'envoi  . . . . :   02:18:39      Message . . . . :   (C G D F) Cible pour opération numérique trop petite pour   contenir résultat. Cause . . . . . : La procédure RPG OQGOCNV1 du programme KAORAS/OQGOCNV1, à   l'instruction 971, a effectué une opération arithmétique dont le résultat   est trop grand pour tenir dans la cible. S'il s'agit d'une expression   numérique, le dépassement peut être dû au traitement de résultats   intermédiaires. Que faire . . . : Prenez contact avec le responsable de la maintenance   logicielle afin d'identifier la cause de l'incident. Réponses possibles . . . . . . . . . . . . . . . :   D -- Cliché RPG formaté.  S -- Cliché système. F -- Cliché formaté complet. C -- Annulation G -- Reprise du traitement à *GETIN.              Cordialement, Adil  \n",
      "A :  Bonjour     Je clôture ce ticket :      Travail 091375/BBELLEGUE/RENUM.VAC arrêté le 02/01/16 à 02:09:0     Cordialement.     Ph. Duval   \n",
      "\n",
      "Q :  Bonjour,     Notre outil de supervision nous remonte l'alerte suivante:     Host : srvsanrdcb  Member of : les_echos_general <http://supervision.infogerance.d-fi.fr/thruk/cgi-bin/status.cgi?hostgroup=les_echos_general&style=overview> , les_echos_serveurs <http://supervision.infogerance.d-fi.fr/thruk/cgi-bin/status.cgi?hostgroup=les_echos_serveurs&style=overview> , netapp <http://supervision.infogerance.d-fi.fr/thruk/cgi-bin/status.cgi?hostgroup=netapp&style=overview> , snmp <http://supervision.infogerance.d-fi.fr/thruk/cgi-bin/status.cgi?hostgroup=snmp&style=overview>  @IP: 192.168.53.141      >> NetApp : Etat Filer <http://supervision.infogerance.d-fi.fr/thruk/cgi-bin/extinfo.cgi?type=2&host=srvsanrdcb&service=NetApp%20%3A%20Etat%20Filer&backend=d8966>    //      FAS3220 Status: fsOverallStatus full (100%) raidPStates OK power supplies OK fans OK electronics OK temperature OK hard quotas OK soft quotas OK threshold exceeded for Volume '/vol/vol_B_BUR2/dbusers012' (467101240/440401920) threshold exceeded for Volume '/vol/vol_B_BUR2/dbusers07' (162991328/157286400) threshold exceeded for Volume '/vol/vol_B_BUR2/dbusers010' (702238708/692060160) threshold exceeded for Volume '/vol/vol_B_BUR2/dbusers02' (72681624/68157440) threshold exceeded for Volume '/vol/vol_B_BUR2/dbusers04' (238490612/235929600) threshold exceeded for Volume '/vol/vol_B_BUR2/dbusers05' (314536360/304087040)      >>  NetApp : Volume /vol/vol_B_MGTSONTGATE/ <http://supervision.infogerance.d-fi.fr/thruk/cgi-bin/extinfo.cgi?type=2&host=srvsanrdcb&service=NetApp%20%3A%20Volume%20%2Fvol%2Fvol_B_MGTSONTGATE%2F&backend=d8966>   CRITICAL - /vol/vol_B_MGTSONTGATE/ usage: 90.00 / 90.00 GB (100.00% full), 40127 / 3112959 files (1.29%)              Cordialement, Adil  \n",
      "A :  bon pour cloture  Cordialement,  Aurélien Chassain Responsable Production \n",
      "\n",
      "Q :  Bonjour,     Host: FRVE-SRV-H34VM  @NAT : 10.224.23.116     Service:  PeopleSoft_D__PS_HOME_FIN: Stopped        Cordialement, Adil  \n",
      "A :  Bonjour,     Le service a été relancé avec succès        Je clos ce ticket           Cordialement, Adil  \n",
      "\n",
      "Q :  Bonjour,      Suite à notre contrôle Backup Exec Les jobs de sauvegardes ESBANS03-Yearly sont FAILED.  Nous allons relancer toutes les sauvegardes.     Cordialement  Pilotage D-FI   \n",
      "A :  Dear Jorge,     Happy new year for you and all your families.     ESBAWSUS1 yearly backup has just finished.     You can add tapes for the daily backup.     Many thanks.        Nabil AMER  Administrateur Sauvegarde     nam@d-fi.fr <mailto:nam@d-fi.fr>           2 rue de Paris 92190 MEUDON  RCS NANTERRE 333903128  Site web : www.d-fi.fr <http://www.d-fi.fr/>      \n",
      "\n",
      "Q :  Bonjour,      Suite à notre contrôle nous avons détecté l'erreur suivante:  TENDRIADE    TEN_JOUR    \\VMFULL-EQ-TEN-SAGEP02     1 15-12-30 23:52:47     Cordialement  Pilotage D-FI   \n",
      "A :  La sauvegarde de cette nuit est bien effectuée.     Je clos ce ticket.     Nabil   \n",
      "\n",
      "Q :     Bonjour,     Notre outil de supervision nous remonte l'alerte suivante sur: REMUSBKP   % ASP système utilisé  :  82 %    Cordialement  Amal   \n",
      "A :  réguliérement l'ASP de REMUSBKP    dépasse les 80% :     au 12/11/2015 --> 81,91%  au 18/11/2015 --> 81,73%  au 04/01/2016 -->  81,64%     Un archivage du RTVDSKINF  en hebdomadaire a été fait.     Fichier multi membres a consulter -->  BIBSIZPF de DFI_PROD   \n",
      "\n",
      "Q :  Bonjour,      Lors de l'opération de changement de mot de passe mensuelle, du compte SAP FR018188,l'ancien MDP ne fonctionne pas, un appel vers Wieze (0032 476466400) le lundi matin.     Cordialement  Pilotage D-FI   \n",
      "A :  Bonjour     Le mot de passe pour janvier 2016 a été changé.     Cordialement.     Ph. Duval   \n",
      "\n",
      "Q :  Bonjour,     Nous avon un problème de transfert de données QUICKEDD entre la PROD (TECHM3) et le backup(BKTECHM3).  Aucun transfert ne s'effectue et nous avons 18h00 de retard. \n",
      "A :  Bonsoir,     L'alerte n'est pas d'actualité, La réplication est de nouveau active.  Je clôture ce ticket.     Cordialement,  Pilotage D-FI     \n",
      "\n"
     ]
    }
   ],
   "source": [
    "for i in range(10):\n",
    "    print('Q : ' + question[i])\n",
    "    print('A : ' + answer[i])\n",
    "    print()"
   ]
  },
  {
   "cell_type": "code",
   "execution_count": 20,
   "metadata": {
    "ExecuteTime": {
     "end_time": "2020-12-15T10:26:01.647428Z",
     "start_time": "2020-12-15T10:26:01.618980Z"
    }
   },
   "outputs": [],
   "source": [
    "sentences = []\n",
    "sentences.extend(question)\n",
    "sentences.extend(answer)\n",
    "\n",
    "words = []\n",
    "\n",
    "for sentence in sentences:\n",
    "    for word in sentence.split():\n",
    "        words.append(word)\n",
    "\n",
    "words = [word for word in words if len(word) > 0]\n",
    "\n",
    "words = list(set(words))\n",
    "\n",
    "words[:0] = [PAD, STA, END, OOV]"
   ]
  },
  {
   "cell_type": "code",
   "execution_count": 21,
   "metadata": {
    "ExecuteTime": {
     "end_time": "2020-12-15T10:26:02.513853Z",
     "start_time": "2020-12-15T10:26:02.505524Z"
    }
   },
   "outputs": [
    {
     "data": {
      "text/plain": [
       "2323"
      ]
     },
     "execution_count": 21,
     "metadata": {},
     "output_type": "execute_result"
    }
   ],
   "source": [
    "len(words)"
   ]
  },
  {
   "cell_type": "code",
   "execution_count": 22,
   "metadata": {
    "ExecuteTime": {
     "end_time": "2020-12-15T10:26:03.261002Z",
     "start_time": "2020-12-15T10:26:03.254560Z"
    }
   },
   "outputs": [
    {
     "data": {
      "text/plain": [
       "['<PADDING>',\n",
       " '<START>',\n",
       " '<END>',\n",
       " '<OOV>',\n",
       " 'désactivé',\n",
       " 'avons',\n",
       " 'corrigez',\n",
       " 'traité',\n",
       " '6',\n",
       " 'Sincerely',\n",
       " 'Merci.',\n",
       " 'net',\n",
       " 'envoyée',\n",
       " 'Managed',\n",
       " '*Pgm',\n",
       " 'détectées.',\n",
       " 'erreur',\n",
       " \"d'une\",\n",
       " '02/01/16',\n",
       " \"l'astreinte\"]"
      ]
     },
     "execution_count": 22,
     "metadata": {},
     "output_type": "execute_result"
    }
   ],
   "source": [
    "words[:20]"
   ]
  },
  {
   "cell_type": "code",
   "execution_count": 23,
   "metadata": {
    "ExecuteTime": {
     "end_time": "2020-12-15T10:26:03.942788Z",
     "start_time": "2020-12-15T10:26:03.936654Z"
    }
   },
   "outputs": [],
   "source": [
    "word_to_index = {word: index for index, word in enumerate(words)}\n",
    "index_to_word = {index: word for index, word in enumerate(words)}"
   ]
  },
  {
   "cell_type": "code",
   "execution_count": 24,
   "metadata": {
    "ExecuteTime": {
     "end_time": "2020-12-15T10:26:04.702641Z",
     "start_time": "2020-12-15T10:26:04.694637Z"
    }
   },
   "outputs": [
    {
     "data": {
      "text/plain": [
       "{'<PADDING>': 0,\n",
       " '<START>': 1,\n",
       " '<END>': 2,\n",
       " '<OOV>': 3,\n",
       " 'désactivé': 4,\n",
       " 'avons': 5,\n",
       " 'corrigez': 6,\n",
       " 'traité': 7,\n",
       " '6': 8,\n",
       " 'Sincerely': 9,\n",
       " 'Merci.': 10,\n",
       " 'net': 11,\n",
       " 'envoyée': 12,\n",
       " 'Managed': 13,\n",
       " '*Pgm': 14,\n",
       " 'détectées.': 15,\n",
       " 'erreur': 16,\n",
       " \"d'une\": 17,\n",
       " '02/01/16': 18,\n",
       " \"l'astreinte\": 19}"
      ]
     },
     "execution_count": 24,
     "metadata": {},
     "output_type": "execute_result"
    }
   ],
   "source": [
    "dict(list(word_to_index.items())[:20])"
   ]
  },
  {
   "cell_type": "code",
   "execution_count": 25,
   "metadata": {
    "ExecuteTime": {
     "end_time": "2020-12-15T10:26:06.305955Z",
     "start_time": "2020-12-15T10:26:06.290957Z"
    }
   },
   "outputs": [
    {
     "data": {
      "text/plain": [
       "{0: '<PADDING>',\n",
       " 1: '<START>',\n",
       " 2: '<END>',\n",
       " 3: '<OOV>',\n",
       " 4: 'désactivé',\n",
       " 5: 'avons',\n",
       " 6: 'corrigez',\n",
       " 7: 'traité',\n",
       " 8: '6',\n",
       " 9: 'Sincerely',\n",
       " 10: 'Merci.',\n",
       " 11: 'net',\n",
       " 12: 'envoyée',\n",
       " 13: 'Managed',\n",
       " 14: '*Pgm',\n",
       " 15: 'détectées.',\n",
       " 16: 'erreur',\n",
       " 17: \"d'une\",\n",
       " 18: '02/01/16',\n",
       " 19: \"l'astreinte\"}"
      ]
     },
     "execution_count": 25,
     "metadata": {},
     "output_type": "execute_result"
    }
   ],
   "source": [
    "dict(list(index_to_word.items())[:20])"
   ]
  },
  {
   "cell_type": "code",
   "execution_count": 32,
   "metadata": {
    "ExecuteTime": {
     "end_time": "2020-12-15T10:34:17.449300Z",
     "start_time": "2020-12-15T10:34:17.427036Z"
    }
   },
   "outputs": [],
   "source": [
    "def convert_text_to_index(sentences, vocabulary, type): \n",
    "    \n",
    "    sentences_index = []\n",
    "    \n",
    "    for sentence in sentences:\n",
    "        sentence_index = []\n",
    "        \n",
    "        if type == DECODER_INPUT:\n",
    "            sentence_index.extend([vocabulary[STA]])\n",
    "        \n",
    "        #print(sentence)\n",
    "        \n",
    "        for word in sentence.split():\n",
    "            if vocabulary.get(word) is not None:\n",
    "                sentence_index.extend([vocabulary[word]])\n",
    "            else:\n",
    "                sentence_index.extend([vocabulary[OOV]])\n",
    "\n",
    "        if type == DECODER_TARGET:\n",
    "            if len(sentence_index) >= max_sequences:\n",
    "                sentence_index = sentence_index[:max_sequences-1] + [vocabulary[END]]\n",
    "            else:\n",
    "                sentence_index += [vocabulary[END]]\n",
    "        else:\n",
    "            if len(sentence_index) > max_sequences:\n",
    "                sentence_index = sentence_index[:max_sequences]\n",
    "            \n",
    "        sentence_index += (max_sequences - len(sentence_index)) * [vocabulary[PAD]]\n",
    "        \n",
    "        sentences_index.append(sentence_index)\n",
    "\n",
    "    return np.asarray(sentences_index)"
   ]
  },
  {
   "cell_type": "code",
   "execution_count": 33,
   "metadata": {
    "ExecuteTime": {
     "end_time": "2020-12-15T10:34:18.407843Z",
     "start_time": "2020-12-15T10:34:18.395040Z"
    }
   },
   "outputs": [
    {
     "data": {
      "text/plain": [
       "array([2009, 1386,  221, 1208,  391,  145, 2216, 2320, 1450, 1217,  864,\n",
       "        666,  401, 2294, 1546,  762,  762, 1785, 1399, 2308, 2055, 1320,\n",
       "       1815,  491, 1984,  128,  759, 1799,    0,    0])"
      ]
     },
     "execution_count": 33,
     "metadata": {},
     "output_type": "execute_result"
    }
   ],
   "source": [
    "x_encoder = convert_text_to_index(question, word_to_index, ENCODER_INPUT)\n",
    "\n",
    "x_encoder[0]"
   ]
  },
  {
   "cell_type": "code",
   "execution_count": 34,
   "metadata": {
    "ExecuteTime": {
     "end_time": "2020-12-15T10:34:19.179882Z",
     "start_time": "2020-12-15T10:34:19.167688Z"
    }
   },
   "outputs": [
    {
     "data": {
      "text/plain": [
       "array([   1, 1194, 2184, 2300, 1018,  145, 1530, 1278, 1327, 2165, 1393,\n",
       "       1815, 1345,  208, 1394, 1054,  174, 1660, 1516,  530,  878,   23,\n",
       "       2300, 1018,  137, 1333, 1516, 1595,   35,  278])"
      ]
     },
     "execution_count": 34,
     "metadata": {},
     "output_type": "execute_result"
    }
   ],
   "source": [
    "x_decoder = convert_text_to_index(answer, word_to_index, DECODER_INPUT)\n",
    "\n",
    "x_decoder[0]"
   ]
  },
  {
   "cell_type": "code",
   "execution_count": 35,
   "metadata": {
    "ExecuteTime": {
     "end_time": "2020-12-15T10:34:19.819964Z",
     "start_time": "2020-12-15T10:34:19.809784Z"
    }
   },
   "outputs": [
    {
     "data": {
      "text/plain": [
       "array([1194, 2184, 2300, 1018,  145, 1530, 1278, 1327, 2165, 1393, 1815,\n",
       "       1345,  208, 1394, 1054,  174, 1660, 1516,  530,  878,   23, 2300,\n",
       "       1018,  137, 1333, 1516, 1595,   35,  278,    2])"
      ]
     },
     "execution_count": 35,
     "metadata": {},
     "output_type": "execute_result"
    }
   ],
   "source": [
    "y_decoder = convert_text_to_index(answer, word_to_index, DECODER_TARGET)\n",
    "\n",
    "y_decoder[0]"
   ]
  },
  {
   "cell_type": "code",
   "execution_count": 36,
   "metadata": {
    "ExecuteTime": {
     "end_time": "2020-12-15T10:34:20.651145Z",
     "start_time": "2020-12-15T10:34:20.610244Z"
    }
   },
   "outputs": [
    {
     "data": {
      "text/plain": [
       "array([[0., 0., 0., ..., 0., 0., 0.],\n",
       "       [0., 0., 0., ..., 0., 0., 0.],\n",
       "       [0., 0., 0., ..., 0., 0., 0.],\n",
       "       ...,\n",
       "       [0., 0., 0., ..., 0., 0., 0.],\n",
       "       [0., 0., 0., ..., 0., 0., 0.],\n",
       "       [0., 0., 1., ..., 0., 0., 0.]])"
      ]
     },
     "execution_count": 36,
     "metadata": {},
     "output_type": "execute_result"
    }
   ],
   "source": [
    "one_hot_data = np.zeros((len(y_decoder), max_sequences, len(words)))\n",
    "\n",
    "for i, sequence in enumerate(y_decoder):\n",
    "    for j, index in enumerate(sequence):\n",
    "        one_hot_data[i, j, index] = 1\n",
    "\n",
    "y_decoder = one_hot_data\n",
    "\n",
    "y_decoder[0]"
   ]
  },
  {
   "cell_type": "code",
   "execution_count": 42,
   "metadata": {
    "ExecuteTime": {
     "end_time": "2020-12-15T10:34:37.943807Z",
     "start_time": "2020-12-15T10:34:36.896240Z"
    }
   },
   "outputs": [],
   "source": [
    "encoder_inputs = layers.Input(shape=(None,))\n",
    "encoder_outputs = layers.Embedding(len(words), embedding_dim)(encoder_inputs)\n",
    "encoder_outputs, state_h, state_c = layers.LSTM(lstm_hidden_dim,\n",
    "                                                dropout=0.1,\n",
    "                                                recurrent_dropout=0.5,\n",
    "                                                return_state=True)(encoder_outputs)\n",
    "encoder_states = [state_h, state_c]"
   ]
  },
  {
   "cell_type": "code",
   "execution_count": 43,
   "metadata": {
    "ExecuteTime": {
     "end_time": "2020-12-15T10:34:39.496269Z",
     "start_time": "2020-12-15T10:34:38.662269Z"
    }
   },
   "outputs": [],
   "source": [
    "decoder_inputs = layers.Input(shape=(None,))\n",
    "decoder_embedding = layers.Embedding(len(words), embedding_dim)\n",
    "decoder_outputs = decoder_embedding(decoder_inputs)\n",
    "decoder_lstm = layers.LSTM(lstm_hidden_dim,\n",
    "                           dropout=0.1,\n",
    "                           recurrent_dropout=0.5,\n",
    "                           return_state=True,\n",
    "                           return_sequences=True)\n",
    "decoder_outputs, _, _ = decoder_lstm(decoder_outputs,\n",
    "                                     initial_state=encoder_states)\n",
    "decoder_dense = layers.Dense(len(words), activation='softmax')\n",
    "decoder_outputs = decoder_dense(decoder_outputs)"
   ]
  },
  {
   "cell_type": "code",
   "execution_count": 44,
   "metadata": {
    "ExecuteTime": {
     "end_time": "2020-12-15T10:34:40.323360Z",
     "start_time": "2020-12-15T10:34:40.220347Z"
    }
   },
   "outputs": [],
   "source": [
    "model = models.Model([encoder_inputs, decoder_inputs], decoder_outputs)\n",
    "\n",
    "model.compile(optimizer='rmsprop',\n",
    "              loss='categorical_crossentropy',\n",
    "              metrics=['accuracy'])"
   ]
  },
  {
   "cell_type": "code",
   "execution_count": 45,
   "metadata": {
    "ExecuteTime": {
     "end_time": "2020-12-15T10:34:41.600219Z",
     "start_time": "2020-12-15T10:34:41.080437Z"
    }
   },
   "outputs": [],
   "source": [
    "encoder_model = models.Model(encoder_inputs, encoder_states)\n",
    "\n",
    "decoder_state_input_h = layers.Input(shape=(lstm_hidden_dim,))\n",
    "decoder_state_input_c = layers.Input(shape=(lstm_hidden_dim,))\n",
    "decoder_states_inputs = [decoder_state_input_h, decoder_state_input_c]    \n",
    "\n",
    "decoder_outputs = decoder_embedding(decoder_inputs)\n",
    "decoder_outputs, state_h, state_c = decoder_lstm(decoder_outputs,\n",
    "                                                 initial_state=decoder_states_inputs)\n",
    "decoder_states = [state_h, state_c]\n",
    "decoder_outputs = decoder_dense(decoder_outputs)\n"
   ]
  },
  {
   "cell_type": "code",
   "execution_count": 46,
   "metadata": {
    "ExecuteTime": {
     "end_time": "2020-12-15T10:34:42.508410Z",
     "start_time": "2020-12-15T10:34:42.502756Z"
    }
   },
   "outputs": [],
   "source": [
    "decoder_model = models.Model([decoder_inputs] + decoder_states_inputs,\n",
    "                      [decoder_outputs] + decoder_states)"
   ]
  },
  {
   "cell_type": "code",
   "execution_count": 47,
   "metadata": {
    "ExecuteTime": {
     "end_time": "2020-12-15T10:34:43.359142Z",
     "start_time": "2020-12-15T10:34:43.351656Z"
    }
   },
   "outputs": [],
   "source": [
    "def convert_index_to_text(indexs, vocabulary):    \n",
    "    sentence = ''\n",
    "    \n",
    "    for index in indexs:\n",
    "        if index == END_INDEX:\n",
    "            break\n",
    "            \n",
    "        if vocabulary.get(index) is not None:\n",
    "            sentence += vocabulary[index]\n",
    "        else:\n",
    "            sentence.extend([vocabulary[OOV_INDEX]])\n",
    "            \n",
    "        sentence += ' '\n",
    "    return sentence"
   ]
  },
  {
   "cell_type": "code",
   "execution_count": 48,
   "metadata": {
    "ExecuteTime": {
     "end_time": "2020-12-15T10:34:44.098474Z",
     "start_time": "2020-12-15T10:34:44.083303Z"
    }
   },
   "outputs": [],
   "source": [
    "from keras_tqdm import TQDMNotebookCallback\n",
    "from keras.callbacks import EarlyStopping, ModelCheckpoint\n",
    "\n",
    "model_name = \"ticket_incident_description_model\"\n",
    "\n",
    "early_stopping = EarlyStopping(monitor='val_loss', patience=5, verbose=1, mode='min')\n",
    "mcp_save = ModelCheckpoint(model_name+'.h5', save_best_only=True, monitor='val_loss', verbose=1, mode='auto')"
   ]
  },
  {
   "cell_type": "code",
   "execution_count": 54,
   "metadata": {
    "ExecuteTime": {
     "end_time": "2020-12-15T10:53:05.719052Z",
     "start_time": "2020-12-15T10:42:58.964410Z"
    }
   },
   "outputs": [
    {
     "name": "stdout",
     "output_type": "stream",
     "text": [
      "Total Epoch : 1\n"
     ]
    },
    {
     "data": {
      "application/vnd.jupyter.widget-view+json": {
       "model_id": "d698a249e9e746c88958077bbcc76e48",
       "version_major": 2,
       "version_minor": 0
      },
      "text/plain": [
       "HBox(children=(IntProgress(value=0, description='Training', max=10, style=ProgressStyle(description_width='ini…"
      ]
     },
     "metadata": {},
     "output_type": "display_data"
    },
    {
     "data": {
      "application/vnd.jupyter.widget-view+json": {
       "model_id": "",
       "version_major": 2,
       "version_minor": 0
      },
      "text/plain": [
       "HBox(children=(IntProgress(value=0, description='Epoch 0', style=ProgressStyle(description_width='initial')), …"
      ]
     },
     "metadata": {},
     "output_type": "display_data"
    },
    {
     "data": {
      "application/vnd.jupyter.widget-view+json": {
       "model_id": "",
       "version_major": 2,
       "version_minor": 0
      },
      "text/plain": [
       "HBox(children=(IntProgress(value=0, description='Epoch 1', style=ProgressStyle(description_width='initial')), …"
      ]
     },
     "metadata": {},
     "output_type": "display_data"
    },
    {
     "data": {
      "application/vnd.jupyter.widget-view+json": {
       "model_id": "",
       "version_major": 2,
       "version_minor": 0
      },
      "text/plain": [
       "HBox(children=(IntProgress(value=0, description='Epoch 2', style=ProgressStyle(description_width='initial')), …"
      ]
     },
     "metadata": {},
     "output_type": "display_data"
    },
    {
     "data": {
      "application/vnd.jupyter.widget-view+json": {
       "model_id": "",
       "version_major": 2,
       "version_minor": 0
      },
      "text/plain": [
       "HBox(children=(IntProgress(value=0, description='Epoch 3', style=ProgressStyle(description_width='initial')), …"
      ]
     },
     "metadata": {},
     "output_type": "display_data"
    },
    {
     "data": {
      "application/vnd.jupyter.widget-view+json": {
       "model_id": "",
       "version_major": 2,
       "version_minor": 0
      },
      "text/plain": [
       "HBox(children=(IntProgress(value=0, description='Epoch 4', style=ProgressStyle(description_width='initial')), …"
      ]
     },
     "metadata": {},
     "output_type": "display_data"
    },
    {
     "data": {
      "application/vnd.jupyter.widget-view+json": {
       "model_id": "",
       "version_major": 2,
       "version_minor": 0
      },
      "text/plain": [
       "HBox(children=(IntProgress(value=0, description='Epoch 5', style=ProgressStyle(description_width='initial')), …"
      ]
     },
     "metadata": {},
     "output_type": "display_data"
    },
    {
     "data": {
      "application/vnd.jupyter.widget-view+json": {
       "model_id": "",
       "version_major": 2,
       "version_minor": 0
      },
      "text/plain": [
       "HBox(children=(IntProgress(value=0, description='Epoch 6', style=ProgressStyle(description_width='initial')), …"
      ]
     },
     "metadata": {},
     "output_type": "display_data"
    },
    {
     "data": {
      "application/vnd.jupyter.widget-view+json": {
       "model_id": "",
       "version_major": 2,
       "version_minor": 0
      },
      "text/plain": [
       "HBox(children=(IntProgress(value=0, description='Epoch 7', style=ProgressStyle(description_width='initial')), …"
      ]
     },
     "metadata": {},
     "output_type": "display_data"
    },
    {
     "data": {
      "application/vnd.jupyter.widget-view+json": {
       "model_id": "",
       "version_major": 2,
       "version_minor": 0
      },
      "text/plain": [
       "HBox(children=(IntProgress(value=0, description='Epoch 8', style=ProgressStyle(description_width='initial')), …"
      ]
     },
     "metadata": {},
     "output_type": "display_data"
    },
    {
     "data": {
      "application/vnd.jupyter.widget-view+json": {
       "model_id": "",
       "version_major": 2,
       "version_minor": 0
      },
      "text/plain": [
       "HBox(children=(IntProgress(value=0, description='Epoch 9', style=ProgressStyle(description_width='initial')), …"
      ]
     },
     "metadata": {},
     "output_type": "display_data"
    },
    {
     "name": "stdout",
     "output_type": "stream",
     "text": [
      "\n",
      "accuracy : 0.5033333325386047\n",
      "loss : 2.508437156677246\n",
      "Bonjour, Le clôture ce ticket ticket la la à le Cordialement, \n",
      "\n",
      "\n",
      "Total Epoch : 2\n"
     ]
    },
    {
     "data": {
      "application/vnd.jupyter.widget-view+json": {
       "model_id": "7d08acb75cd546adb18fde93a8efb382",
       "version_major": 2,
       "version_minor": 0
      },
      "text/plain": [
       "HBox(children=(IntProgress(value=0, description='Training', max=10, style=ProgressStyle(description_width='ini…"
      ]
     },
     "metadata": {},
     "output_type": "display_data"
    },
    {
     "data": {
      "application/vnd.jupyter.widget-view+json": {
       "model_id": "",
       "version_major": 2,
       "version_minor": 0
      },
      "text/plain": [
       "HBox(children=(IntProgress(value=0, description='Epoch 0', style=ProgressStyle(description_width='initial')), …"
      ]
     },
     "metadata": {},
     "output_type": "display_data"
    },
    {
     "data": {
      "application/vnd.jupyter.widget-view+json": {
       "model_id": "",
       "version_major": 2,
       "version_minor": 0
      },
      "text/plain": [
       "HBox(children=(IntProgress(value=0, description='Epoch 1', style=ProgressStyle(description_width='initial')), …"
      ]
     },
     "metadata": {},
     "output_type": "display_data"
    },
    {
     "data": {
      "application/vnd.jupyter.widget-view+json": {
       "model_id": "",
       "version_major": 2,
       "version_minor": 0
      },
      "text/plain": [
       "HBox(children=(IntProgress(value=0, description='Epoch 2', style=ProgressStyle(description_width='initial')), …"
      ]
     },
     "metadata": {},
     "output_type": "display_data"
    },
    {
     "data": {
      "application/vnd.jupyter.widget-view+json": {
       "model_id": "",
       "version_major": 2,
       "version_minor": 0
      },
      "text/plain": [
       "HBox(children=(IntProgress(value=0, description='Epoch 3', style=ProgressStyle(description_width='initial')), …"
      ]
     },
     "metadata": {},
     "output_type": "display_data"
    },
    {
     "data": {
      "application/vnd.jupyter.widget-view+json": {
       "model_id": "",
       "version_major": 2,
       "version_minor": 0
      },
      "text/plain": [
       "HBox(children=(IntProgress(value=0, description='Epoch 4', style=ProgressStyle(description_width='initial')), …"
      ]
     },
     "metadata": {},
     "output_type": "display_data"
    },
    {
     "data": {
      "application/vnd.jupyter.widget-view+json": {
       "model_id": "",
       "version_major": 2,
       "version_minor": 0
      },
      "text/plain": [
       "HBox(children=(IntProgress(value=0, description='Epoch 5', style=ProgressStyle(description_width='initial')), …"
      ]
     },
     "metadata": {},
     "output_type": "display_data"
    },
    {
     "data": {
      "application/vnd.jupyter.widget-view+json": {
       "model_id": "",
       "version_major": 2,
       "version_minor": 0
      },
      "text/plain": [
       "HBox(children=(IntProgress(value=0, description='Epoch 6', style=ProgressStyle(description_width='initial')), …"
      ]
     },
     "metadata": {},
     "output_type": "display_data"
    },
    {
     "data": {
      "application/vnd.jupyter.widget-view+json": {
       "model_id": "",
       "version_major": 2,
       "version_minor": 0
      },
      "text/plain": [
       "HBox(children=(IntProgress(value=0, description='Epoch 7', style=ProgressStyle(description_width='initial')), …"
      ]
     },
     "metadata": {},
     "output_type": "display_data"
    },
    {
     "data": {
      "application/vnd.jupyter.widget-view+json": {
       "model_id": "",
       "version_major": 2,
       "version_minor": 0
      },
      "text/plain": [
       "HBox(children=(IntProgress(value=0, description='Epoch 8', style=ProgressStyle(description_width='initial')), …"
      ]
     },
     "metadata": {},
     "output_type": "display_data"
    },
    {
     "data": {
      "application/vnd.jupyter.widget-view+json": {
       "model_id": "",
       "version_major": 2,
       "version_minor": 0
      },
      "text/plain": [
       "HBox(children=(IntProgress(value=0, description='Epoch 9', style=ProgressStyle(description_width='initial')), …"
      ]
     },
     "metadata": {},
     "output_type": "display_data"
    },
    {
     "name": "stdout",
     "output_type": "stream",
     "text": [
      "\n",
      "accuracy : 0.5149999952316284\n",
      "loss : 2.379551639556885\n",
      "Bonjour, Bonjour, clôture ce ticket ticket la la Travail le à à 21:29:04; \n",
      "\n",
      "\n",
      "Total Epoch : 3\n"
     ]
    },
    {
     "data": {
      "application/vnd.jupyter.widget-view+json": {
       "model_id": "9f6988cfdd7e41e7a487a140ea0d7f0b",
       "version_major": 2,
       "version_minor": 0
      },
      "text/plain": [
       "HBox(children=(IntProgress(value=0, description='Training', max=10, style=ProgressStyle(description_width='ini…"
      ]
     },
     "metadata": {},
     "output_type": "display_data"
    },
    {
     "data": {
      "application/vnd.jupyter.widget-view+json": {
       "model_id": "",
       "version_major": 2,
       "version_minor": 0
      },
      "text/plain": [
       "HBox(children=(IntProgress(value=0, description='Epoch 0', style=ProgressStyle(description_width='initial')), …"
      ]
     },
     "metadata": {},
     "output_type": "display_data"
    },
    {
     "data": {
      "application/vnd.jupyter.widget-view+json": {
       "model_id": "",
       "version_major": 2,
       "version_minor": 0
      },
      "text/plain": [
       "HBox(children=(IntProgress(value=0, description='Epoch 1', style=ProgressStyle(description_width='initial')), …"
      ]
     },
     "metadata": {},
     "output_type": "display_data"
    },
    {
     "data": {
      "application/vnd.jupyter.widget-view+json": {
       "model_id": "",
       "version_major": 2,
       "version_minor": 0
      },
      "text/plain": [
       "HBox(children=(IntProgress(value=0, description='Epoch 2', style=ProgressStyle(description_width='initial')), …"
      ]
     },
     "metadata": {},
     "output_type": "display_data"
    },
    {
     "data": {
      "application/vnd.jupyter.widget-view+json": {
       "model_id": "",
       "version_major": 2,
       "version_minor": 0
      },
      "text/plain": [
       "HBox(children=(IntProgress(value=0, description='Epoch 3', style=ProgressStyle(description_width='initial')), …"
      ]
     },
     "metadata": {},
     "output_type": "display_data"
    },
    {
     "data": {
      "application/vnd.jupyter.widget-view+json": {
       "model_id": "",
       "version_major": 2,
       "version_minor": 0
      },
      "text/plain": [
       "HBox(children=(IntProgress(value=0, description='Epoch 4', style=ProgressStyle(description_width='initial')), …"
      ]
     },
     "metadata": {},
     "output_type": "display_data"
    },
    {
     "data": {
      "application/vnd.jupyter.widget-view+json": {
       "model_id": "",
       "version_major": 2,
       "version_minor": 0
      },
      "text/plain": [
       "HBox(children=(IntProgress(value=0, description='Epoch 5', style=ProgressStyle(description_width='initial')), …"
      ]
     },
     "metadata": {},
     "output_type": "display_data"
    },
    {
     "data": {
      "application/vnd.jupyter.widget-view+json": {
       "model_id": "",
       "version_major": 2,
       "version_minor": 0
      },
      "text/plain": [
       "HBox(children=(IntProgress(value=0, description='Epoch 6', style=ProgressStyle(description_width='initial')), …"
      ]
     },
     "metadata": {},
     "output_type": "display_data"
    },
    {
     "data": {
      "application/vnd.jupyter.widget-view+json": {
       "model_id": "",
       "version_major": 2,
       "version_minor": 0
      },
      "text/plain": [
       "HBox(children=(IntProgress(value=0, description='Epoch 7', style=ProgressStyle(description_width='initial')), …"
      ]
     },
     "metadata": {},
     "output_type": "display_data"
    },
    {
     "data": {
      "application/vnd.jupyter.widget-view+json": {
       "model_id": "",
       "version_major": 2,
       "version_minor": 0
      },
      "text/plain": [
       "HBox(children=(IntProgress(value=0, description='Epoch 8', style=ProgressStyle(description_width='initial')), …"
      ]
     },
     "metadata": {},
     "output_type": "display_data"
    },
    {
     "data": {
      "application/vnd.jupyter.widget-view+json": {
       "model_id": "",
       "version_major": 2,
       "version_minor": 0
      },
      "text/plain": [
       "HBox(children=(IntProgress(value=0, description='Epoch 9', style=ProgressStyle(description_width='initial')), …"
      ]
     },
     "metadata": {},
     "output_type": "display_data"
    },
    {
     "name": "stdout",
     "output_type": "stream",
     "text": [
      "\n",
      "accuracy : 0.5336666917800903\n",
      "loss : 2.262759885787964\n",
      "Bonjour, Le clôture ce ticket ticket la la arrêté le 02/01/16 \n",
      "\n",
      "\n",
      "Total Epoch : 4\n"
     ]
    },
    {
     "data": {
      "application/vnd.jupyter.widget-view+json": {
       "model_id": "fc1d67a9dd18401697ef5fddd26ee9a8",
       "version_major": 2,
       "version_minor": 0
      },
      "text/plain": [
       "HBox(children=(IntProgress(value=0, description='Training', max=10, style=ProgressStyle(description_width='ini…"
      ]
     },
     "metadata": {},
     "output_type": "display_data"
    },
    {
     "data": {
      "application/vnd.jupyter.widget-view+json": {
       "model_id": "",
       "version_major": 2,
       "version_minor": 0
      },
      "text/plain": [
       "HBox(children=(IntProgress(value=0, description='Epoch 0', style=ProgressStyle(description_width='initial')), …"
      ]
     },
     "metadata": {},
     "output_type": "display_data"
    },
    {
     "data": {
      "application/vnd.jupyter.widget-view+json": {
       "model_id": "",
       "version_major": 2,
       "version_minor": 0
      },
      "text/plain": [
       "HBox(children=(IntProgress(value=0, description='Epoch 1', style=ProgressStyle(description_width='initial')), …"
      ]
     },
     "metadata": {},
     "output_type": "display_data"
    },
    {
     "data": {
      "application/vnd.jupyter.widget-view+json": {
       "model_id": "",
       "version_major": 2,
       "version_minor": 0
      },
      "text/plain": [
       "HBox(children=(IntProgress(value=0, description='Epoch 2', style=ProgressStyle(description_width='initial')), …"
      ]
     },
     "metadata": {},
     "output_type": "display_data"
    },
    {
     "data": {
      "application/vnd.jupyter.widget-view+json": {
       "model_id": "",
       "version_major": 2,
       "version_minor": 0
      },
      "text/plain": [
       "HBox(children=(IntProgress(value=0, description='Epoch 3', style=ProgressStyle(description_width='initial')), …"
      ]
     },
     "metadata": {},
     "output_type": "display_data"
    },
    {
     "data": {
      "application/vnd.jupyter.widget-view+json": {
       "model_id": "",
       "version_major": 2,
       "version_minor": 0
      },
      "text/plain": [
       "HBox(children=(IntProgress(value=0, description='Epoch 4', style=ProgressStyle(description_width='initial')), …"
      ]
     },
     "metadata": {},
     "output_type": "display_data"
    },
    {
     "data": {
      "application/vnd.jupyter.widget-view+json": {
       "model_id": "",
       "version_major": 2,
       "version_minor": 0
      },
      "text/plain": [
       "HBox(children=(IntProgress(value=0, description='Epoch 5', style=ProgressStyle(description_width='initial')), …"
      ]
     },
     "metadata": {},
     "output_type": "display_data"
    },
    {
     "data": {
      "application/vnd.jupyter.widget-view+json": {
       "model_id": "",
       "version_major": 2,
       "version_minor": 0
      },
      "text/plain": [
       "HBox(children=(IntProgress(value=0, description='Epoch 6', style=ProgressStyle(description_width='initial')), …"
      ]
     },
     "metadata": {},
     "output_type": "display_data"
    },
    {
     "data": {
      "application/vnd.jupyter.widget-view+json": {
       "model_id": "",
       "version_major": 2,
       "version_minor": 0
      },
      "text/plain": [
       "HBox(children=(IntProgress(value=0, description='Epoch 7', style=ProgressStyle(description_width='initial')), …"
      ]
     },
     "metadata": {},
     "output_type": "display_data"
    },
    {
     "data": {
      "application/vnd.jupyter.widget-view+json": {
       "model_id": "",
       "version_major": 2,
       "version_minor": 0
      },
      "text/plain": [
       "HBox(children=(IntProgress(value=0, description='Epoch 8', style=ProgressStyle(description_width='initial')), …"
      ]
     },
     "metadata": {},
     "output_type": "display_data"
    },
    {
     "data": {
      "application/vnd.jupyter.widget-view+json": {
       "model_id": "",
       "version_major": 2,
       "version_minor": 0
      },
      "text/plain": [
       "HBox(children=(IntProgress(value=0, description='Epoch 9', style=ProgressStyle(description_width='initial')), …"
      ]
     },
     "metadata": {},
     "output_type": "display_data"
    },
    {
     "name": "stdout",
     "output_type": "stream",
     "text": [
      "\n",
      "accuracy : 0.5473333501815796\n",
      "loss : 2.153023405075073\n",
      "Bonjour, Le clôture ce ticket ticket la la arrêté le 02/01/16 à 378531/SABEXPLOIT/RGZDWH \n",
      "\n",
      "\n",
      "Total Epoch : 5\n"
     ]
    },
    {
     "data": {
      "application/vnd.jupyter.widget-view+json": {
       "model_id": "ed08b61c1cd64a4ba8a8ed8c862dacba",
       "version_major": 2,
       "version_minor": 0
      },
      "text/plain": [
       "HBox(children=(IntProgress(value=0, description='Training', max=10, style=ProgressStyle(description_width='ini…"
      ]
     },
     "metadata": {},
     "output_type": "display_data"
    },
    {
     "data": {
      "application/vnd.jupyter.widget-view+json": {
       "model_id": "",
       "version_major": 2,
       "version_minor": 0
      },
      "text/plain": [
       "HBox(children=(IntProgress(value=0, description='Epoch 0', style=ProgressStyle(description_width='initial')), …"
      ]
     },
     "metadata": {},
     "output_type": "display_data"
    },
    {
     "data": {
      "application/vnd.jupyter.widget-view+json": {
       "model_id": "",
       "version_major": 2,
       "version_minor": 0
      },
      "text/plain": [
       "HBox(children=(IntProgress(value=0, description='Epoch 1', style=ProgressStyle(description_width='initial')), …"
      ]
     },
     "metadata": {},
     "output_type": "display_data"
    },
    {
     "data": {
      "application/vnd.jupyter.widget-view+json": {
       "model_id": "",
       "version_major": 2,
       "version_minor": 0
      },
      "text/plain": [
       "HBox(children=(IntProgress(value=0, description='Epoch 2', style=ProgressStyle(description_width='initial')), …"
      ]
     },
     "metadata": {},
     "output_type": "display_data"
    },
    {
     "data": {
      "application/vnd.jupyter.widget-view+json": {
       "model_id": "",
       "version_major": 2,
       "version_minor": 0
      },
      "text/plain": [
       "HBox(children=(IntProgress(value=0, description='Epoch 3', style=ProgressStyle(description_width='initial')), …"
      ]
     },
     "metadata": {},
     "output_type": "display_data"
    },
    {
     "data": {
      "application/vnd.jupyter.widget-view+json": {
       "model_id": "",
       "version_major": 2,
       "version_minor": 0
      },
      "text/plain": [
       "HBox(children=(IntProgress(value=0, description='Epoch 4', style=ProgressStyle(description_width='initial')), …"
      ]
     },
     "metadata": {},
     "output_type": "display_data"
    },
    {
     "data": {
      "application/vnd.jupyter.widget-view+json": {
       "model_id": "",
       "version_major": 2,
       "version_minor": 0
      },
      "text/plain": [
       "HBox(children=(IntProgress(value=0, description='Epoch 5', style=ProgressStyle(description_width='initial')), …"
      ]
     },
     "metadata": {},
     "output_type": "display_data"
    },
    {
     "data": {
      "application/vnd.jupyter.widget-view+json": {
       "model_id": "",
       "version_major": 2,
       "version_minor": 0
      },
      "text/plain": [
       "HBox(children=(IntProgress(value=0, description='Epoch 6', style=ProgressStyle(description_width='initial')), …"
      ]
     },
     "metadata": {},
     "output_type": "display_data"
    },
    {
     "data": {
      "application/vnd.jupyter.widget-view+json": {
       "model_id": "",
       "version_major": 2,
       "version_minor": 0
      },
      "text/plain": [
       "HBox(children=(IntProgress(value=0, description='Epoch 7', style=ProgressStyle(description_width='initial')), …"
      ]
     },
     "metadata": {},
     "output_type": "display_data"
    },
    {
     "data": {
      "application/vnd.jupyter.widget-view+json": {
       "model_id": "",
       "version_major": 2,
       "version_minor": 0
      },
      "text/plain": [
       "HBox(children=(IntProgress(value=0, description='Epoch 8', style=ProgressStyle(description_width='initial')), …"
      ]
     },
     "metadata": {},
     "output_type": "display_data"
    },
    {
     "data": {
      "application/vnd.jupyter.widget-view+json": {
       "model_id": "",
       "version_major": 2,
       "version_minor": 0
      },
      "text/plain": [
       "HBox(children=(IntProgress(value=0, description='Epoch 9', style=ProgressStyle(description_width='initial')), …"
      ]
     },
     "metadata": {},
     "output_type": "display_data"
    },
    {
     "name": "stdout",
     "output_type": "stream",
     "text": [
      "\n",
      "accuracy : 0.5639999961853027\n",
      "loss : 2.0422418403625486\n",
      "Bonjour, Le clôture ce ticket ticket la la arrêté le 02/01/16 à 378531/SABEXPLOIT/RGZDWH à \n",
      "\n",
      "\n",
      "Total Epoch : 6\n"
     ]
    },
    {
     "data": {
      "application/vnd.jupyter.widget-view+json": {
       "model_id": "ef1b87bec1aa4c24910724fdca3be556",
       "version_major": 2,
       "version_minor": 0
      },
      "text/plain": [
       "HBox(children=(IntProgress(value=0, description='Training', max=10, style=ProgressStyle(description_width='ini…"
      ]
     },
     "metadata": {},
     "output_type": "display_data"
    },
    {
     "data": {
      "application/vnd.jupyter.widget-view+json": {
       "model_id": "",
       "version_major": 2,
       "version_minor": 0
      },
      "text/plain": [
       "HBox(children=(IntProgress(value=0, description='Epoch 0', style=ProgressStyle(description_width='initial')), …"
      ]
     },
     "metadata": {},
     "output_type": "display_data"
    },
    {
     "data": {
      "application/vnd.jupyter.widget-view+json": {
       "model_id": "",
       "version_major": 2,
       "version_minor": 0
      },
      "text/plain": [
       "HBox(children=(IntProgress(value=0, description='Epoch 1', style=ProgressStyle(description_width='initial')), …"
      ]
     },
     "metadata": {},
     "output_type": "display_data"
    },
    {
     "data": {
      "application/vnd.jupyter.widget-view+json": {
       "model_id": "",
       "version_major": 2,
       "version_minor": 0
      },
      "text/plain": [
       "HBox(children=(IntProgress(value=0, description='Epoch 2', style=ProgressStyle(description_width='initial')), …"
      ]
     },
     "metadata": {},
     "output_type": "display_data"
    },
    {
     "data": {
      "application/vnd.jupyter.widget-view+json": {
       "model_id": "",
       "version_major": 2,
       "version_minor": 0
      },
      "text/plain": [
       "HBox(children=(IntProgress(value=0, description='Epoch 3', style=ProgressStyle(description_width='initial')), …"
      ]
     },
     "metadata": {},
     "output_type": "display_data"
    },
    {
     "data": {
      "application/vnd.jupyter.widget-view+json": {
       "model_id": "",
       "version_major": 2,
       "version_minor": 0
      },
      "text/plain": [
       "HBox(children=(IntProgress(value=0, description='Epoch 4', style=ProgressStyle(description_width='initial')), …"
      ]
     },
     "metadata": {},
     "output_type": "display_data"
    },
    {
     "data": {
      "application/vnd.jupyter.widget-view+json": {
       "model_id": "",
       "version_major": 2,
       "version_minor": 0
      },
      "text/plain": [
       "HBox(children=(IntProgress(value=0, description='Epoch 5', style=ProgressStyle(description_width='initial')), …"
      ]
     },
     "metadata": {},
     "output_type": "display_data"
    },
    {
     "data": {
      "application/vnd.jupyter.widget-view+json": {
       "model_id": "",
       "version_major": 2,
       "version_minor": 0
      },
      "text/plain": [
       "HBox(children=(IntProgress(value=0, description='Epoch 6', style=ProgressStyle(description_width='initial')), …"
      ]
     },
     "metadata": {},
     "output_type": "display_data"
    },
    {
     "data": {
      "application/vnd.jupyter.widget-view+json": {
       "model_id": "",
       "version_major": 2,
       "version_minor": 0
      },
      "text/plain": [
       "HBox(children=(IntProgress(value=0, description='Epoch 7', style=ProgressStyle(description_width='initial')), …"
      ]
     },
     "metadata": {},
     "output_type": "display_data"
    },
    {
     "data": {
      "application/vnd.jupyter.widget-view+json": {
       "model_id": "",
       "version_major": 2,
       "version_minor": 0
      },
      "text/plain": [
       "HBox(children=(IntProgress(value=0, description='Epoch 8', style=ProgressStyle(description_width='initial')), …"
      ]
     },
     "metadata": {},
     "output_type": "display_data"
    },
    {
     "data": {
      "application/vnd.jupyter.widget-view+json": {
       "model_id": "",
       "version_major": 2,
       "version_minor": 0
      },
      "text/plain": [
       "HBox(children=(IntProgress(value=0, description='Epoch 9', style=ProgressStyle(description_width='initial')), …"
      ]
     },
     "metadata": {},
     "output_type": "display_data"
    },
    {
     "name": "stdout",
     "output_type": "stream",
     "text": [
      "\n",
      "accuracy : 0.5900000095367431\n",
      "loss : 1.943652958869934\n",
      "Bonjour, Le clôture ce ticket ticket la Travail arrêté le 02/01/16 à 21:29:04; à Ph. Duval \n",
      "\n",
      "\n",
      "Total Epoch : 7\n"
     ]
    },
    {
     "data": {
      "application/vnd.jupyter.widget-view+json": {
       "model_id": "9e3e65c7547949b5a450d5579bc76324",
       "version_major": 2,
       "version_minor": 0
      },
      "text/plain": [
       "HBox(children=(IntProgress(value=0, description='Training', max=10, style=ProgressStyle(description_width='ini…"
      ]
     },
     "metadata": {},
     "output_type": "display_data"
    },
    {
     "data": {
      "application/vnd.jupyter.widget-view+json": {
       "model_id": "",
       "version_major": 2,
       "version_minor": 0
      },
      "text/plain": [
       "HBox(children=(IntProgress(value=0, description='Epoch 0', style=ProgressStyle(description_width='initial')), …"
      ]
     },
     "metadata": {},
     "output_type": "display_data"
    },
    {
     "data": {
      "application/vnd.jupyter.widget-view+json": {
       "model_id": "",
       "version_major": 2,
       "version_minor": 0
      },
      "text/plain": [
       "HBox(children=(IntProgress(value=0, description='Epoch 1', style=ProgressStyle(description_width='initial')), …"
      ]
     },
     "metadata": {},
     "output_type": "display_data"
    },
    {
     "data": {
      "application/vnd.jupyter.widget-view+json": {
       "model_id": "",
       "version_major": 2,
       "version_minor": 0
      },
      "text/plain": [
       "HBox(children=(IntProgress(value=0, description='Epoch 2', style=ProgressStyle(description_width='initial')), …"
      ]
     },
     "metadata": {},
     "output_type": "display_data"
    },
    {
     "data": {
      "application/vnd.jupyter.widget-view+json": {
       "model_id": "",
       "version_major": 2,
       "version_minor": 0
      },
      "text/plain": [
       "HBox(children=(IntProgress(value=0, description='Epoch 3', style=ProgressStyle(description_width='initial')), …"
      ]
     },
     "metadata": {},
     "output_type": "display_data"
    },
    {
     "data": {
      "application/vnd.jupyter.widget-view+json": {
       "model_id": "",
       "version_major": 2,
       "version_minor": 0
      },
      "text/plain": [
       "HBox(children=(IntProgress(value=0, description='Epoch 4', style=ProgressStyle(description_width='initial')), …"
      ]
     },
     "metadata": {},
     "output_type": "display_data"
    },
    {
     "data": {
      "application/vnd.jupyter.widget-view+json": {
       "model_id": "",
       "version_major": 2,
       "version_minor": 0
      },
      "text/plain": [
       "HBox(children=(IntProgress(value=0, description='Epoch 5', style=ProgressStyle(description_width='initial')), …"
      ]
     },
     "metadata": {},
     "output_type": "display_data"
    },
    {
     "data": {
      "application/vnd.jupyter.widget-view+json": {
       "model_id": "",
       "version_major": 2,
       "version_minor": 0
      },
      "text/plain": [
       "HBox(children=(IntProgress(value=0, description='Epoch 6', style=ProgressStyle(description_width='initial')), …"
      ]
     },
     "metadata": {},
     "output_type": "display_data"
    },
    {
     "data": {
      "application/vnd.jupyter.widget-view+json": {
       "model_id": "",
       "version_major": 2,
       "version_minor": 0
      },
      "text/plain": [
       "HBox(children=(IntProgress(value=0, description='Epoch 7', style=ProgressStyle(description_width='initial')), …"
      ]
     },
     "metadata": {},
     "output_type": "display_data"
    },
    {
     "data": {
      "application/vnd.jupyter.widget-view+json": {
       "model_id": "",
       "version_major": 2,
       "version_minor": 0
      },
      "text/plain": [
       "HBox(children=(IntProgress(value=0, description='Epoch 8', style=ProgressStyle(description_width='initial')), …"
      ]
     },
     "metadata": {},
     "output_type": "display_data"
    },
    {
     "data": {
      "application/vnd.jupyter.widget-view+json": {
       "model_id": "",
       "version_major": 2,
       "version_minor": 0
      },
      "text/plain": [
       "HBox(children=(IntProgress(value=0, description='Epoch 9', style=ProgressStyle(description_width='initial')), …"
      ]
     },
     "metadata": {},
     "output_type": "display_data"
    },
    {
     "name": "stdout",
     "output_type": "stream",
     "text": [
      "\n",
      "accuracy : 0.5979999923706054\n",
      "loss : 1.8412672233581544\n",
      "Bonjour, Le clôture ce ticket ticket Travail 469280/PTC8/ENVOIAP arrêté le 02/01/16 à 378531/SABEXPLOIT/RGZDWH \n",
      "\n",
      "\n",
      "Total Epoch : 8\n"
     ]
    },
    {
     "data": {
      "application/vnd.jupyter.widget-view+json": {
       "model_id": "f9e482a7af8b4442bb8109a6c7f4398e",
       "version_major": 2,
       "version_minor": 0
      },
      "text/plain": [
       "HBox(children=(IntProgress(value=0, description='Training', max=10, style=ProgressStyle(description_width='ini…"
      ]
     },
     "metadata": {},
     "output_type": "display_data"
    },
    {
     "data": {
      "application/vnd.jupyter.widget-view+json": {
       "model_id": "",
       "version_major": 2,
       "version_minor": 0
      },
      "text/plain": [
       "HBox(children=(IntProgress(value=0, description='Epoch 0', style=ProgressStyle(description_width='initial')), …"
      ]
     },
     "metadata": {},
     "output_type": "display_data"
    },
    {
     "data": {
      "application/vnd.jupyter.widget-view+json": {
       "model_id": "",
       "version_major": 2,
       "version_minor": 0
      },
      "text/plain": [
       "HBox(children=(IntProgress(value=0, description='Epoch 1', style=ProgressStyle(description_width='initial')), …"
      ]
     },
     "metadata": {},
     "output_type": "display_data"
    },
    {
     "data": {
      "application/vnd.jupyter.widget-view+json": {
       "model_id": "",
       "version_major": 2,
       "version_minor": 0
      },
      "text/plain": [
       "HBox(children=(IntProgress(value=0, description='Epoch 2', style=ProgressStyle(description_width='initial')), …"
      ]
     },
     "metadata": {},
     "output_type": "display_data"
    },
    {
     "data": {
      "application/vnd.jupyter.widget-view+json": {
       "model_id": "",
       "version_major": 2,
       "version_minor": 0
      },
      "text/plain": [
       "HBox(children=(IntProgress(value=0, description='Epoch 3', style=ProgressStyle(description_width='initial')), …"
      ]
     },
     "metadata": {},
     "output_type": "display_data"
    },
    {
     "data": {
      "application/vnd.jupyter.widget-view+json": {
       "model_id": "",
       "version_major": 2,
       "version_minor": 0
      },
      "text/plain": [
       "HBox(children=(IntProgress(value=0, description='Epoch 4', style=ProgressStyle(description_width='initial')), …"
      ]
     },
     "metadata": {},
     "output_type": "display_data"
    },
    {
     "data": {
      "application/vnd.jupyter.widget-view+json": {
       "model_id": "",
       "version_major": 2,
       "version_minor": 0
      },
      "text/plain": [
       "HBox(children=(IntProgress(value=0, description='Epoch 5', style=ProgressStyle(description_width='initial')), …"
      ]
     },
     "metadata": {},
     "output_type": "display_data"
    },
    {
     "data": {
      "application/vnd.jupyter.widget-view+json": {
       "model_id": "",
       "version_major": 2,
       "version_minor": 0
      },
      "text/plain": [
       "HBox(children=(IntProgress(value=0, description='Epoch 6', style=ProgressStyle(description_width='initial')), …"
      ]
     },
     "metadata": {},
     "output_type": "display_data"
    },
    {
     "data": {
      "application/vnd.jupyter.widget-view+json": {
       "model_id": "",
       "version_major": 2,
       "version_minor": 0
      },
      "text/plain": [
       "HBox(children=(IntProgress(value=0, description='Epoch 7', style=ProgressStyle(description_width='initial')), …"
      ]
     },
     "metadata": {},
     "output_type": "display_data"
    },
    {
     "data": {
      "application/vnd.jupyter.widget-view+json": {
       "model_id": "",
       "version_major": 2,
       "version_minor": 0
      },
      "text/plain": [
       "HBox(children=(IntProgress(value=0, description='Epoch 8', style=ProgressStyle(description_width='initial')), …"
      ]
     },
     "metadata": {},
     "output_type": "display_data"
    },
    {
     "data": {
      "application/vnd.jupyter.widget-view+json": {
       "model_id": "",
       "version_major": 2,
       "version_minor": 0
      },
      "text/plain": [
       "HBox(children=(IntProgress(value=0, description='Epoch 9', style=ProgressStyle(description_width='initial')), …"
      ]
     },
     "metadata": {},
     "output_type": "display_data"
    },
    {
     "name": "stdout",
     "output_type": "stream",
     "text": [
      "\n",
      "accuracy : 0.6203333353996277\n",
      "loss : 1.7434802293777465\n",
      "Bonjour, : clôture ce ticket ticket Travail 469280/PTC8/ENVOIAP arrêté le 02/01/16 à 378531/SABEXPLOIT/RGZDWH à Ph. Duval \n",
      "\n",
      "\n",
      "Total Epoch : 9\n"
     ]
    },
    {
     "data": {
      "application/vnd.jupyter.widget-view+json": {
       "model_id": "0170120ed627485497f319c34f01b766",
       "version_major": 2,
       "version_minor": 0
      },
      "text/plain": [
       "HBox(children=(IntProgress(value=0, description='Training', max=10, style=ProgressStyle(description_width='ini…"
      ]
     },
     "metadata": {},
     "output_type": "display_data"
    },
    {
     "data": {
      "application/vnd.jupyter.widget-view+json": {
       "model_id": "",
       "version_major": 2,
       "version_minor": 0
      },
      "text/plain": [
       "HBox(children=(IntProgress(value=0, description='Epoch 0', style=ProgressStyle(description_width='initial')), …"
      ]
     },
     "metadata": {},
     "output_type": "display_data"
    },
    {
     "data": {
      "application/vnd.jupyter.widget-view+json": {
       "model_id": "",
       "version_major": 2,
       "version_minor": 0
      },
      "text/plain": [
       "HBox(children=(IntProgress(value=0, description='Epoch 1', style=ProgressStyle(description_width='initial')), …"
      ]
     },
     "metadata": {},
     "output_type": "display_data"
    },
    {
     "data": {
      "application/vnd.jupyter.widget-view+json": {
       "model_id": "",
       "version_major": 2,
       "version_minor": 0
      },
      "text/plain": [
       "HBox(children=(IntProgress(value=0, description='Epoch 2', style=ProgressStyle(description_width='initial')), …"
      ]
     },
     "metadata": {},
     "output_type": "display_data"
    },
    {
     "data": {
      "application/vnd.jupyter.widget-view+json": {
       "model_id": "",
       "version_major": 2,
       "version_minor": 0
      },
      "text/plain": [
       "HBox(children=(IntProgress(value=0, description='Epoch 3', style=ProgressStyle(description_width='initial')), …"
      ]
     },
     "metadata": {},
     "output_type": "display_data"
    },
    {
     "data": {
      "application/vnd.jupyter.widget-view+json": {
       "model_id": "",
       "version_major": 2,
       "version_minor": 0
      },
      "text/plain": [
       "HBox(children=(IntProgress(value=0, description='Epoch 4', style=ProgressStyle(description_width='initial')), …"
      ]
     },
     "metadata": {},
     "output_type": "display_data"
    },
    {
     "data": {
      "application/vnd.jupyter.widget-view+json": {
       "model_id": "",
       "version_major": 2,
       "version_minor": 0
      },
      "text/plain": [
       "HBox(children=(IntProgress(value=0, description='Epoch 5', style=ProgressStyle(description_width='initial')), …"
      ]
     },
     "metadata": {},
     "output_type": "display_data"
    },
    {
     "data": {
      "application/vnd.jupyter.widget-view+json": {
       "model_id": "",
       "version_major": 2,
       "version_minor": 0
      },
      "text/plain": [
       "HBox(children=(IntProgress(value=0, description='Epoch 6', style=ProgressStyle(description_width='initial')), …"
      ]
     },
     "metadata": {},
     "output_type": "display_data"
    },
    {
     "data": {
      "application/vnd.jupyter.widget-view+json": {
       "model_id": "",
       "version_major": 2,
       "version_minor": 0
      },
      "text/plain": [
       "HBox(children=(IntProgress(value=0, description='Epoch 7', style=ProgressStyle(description_width='initial')), …"
      ]
     },
     "metadata": {},
     "output_type": "display_data"
    },
    {
     "data": {
      "application/vnd.jupyter.widget-view+json": {
       "model_id": "",
       "version_major": 2,
       "version_minor": 0
      },
      "text/plain": [
       "HBox(children=(IntProgress(value=0, description='Epoch 8', style=ProgressStyle(description_width='initial')), …"
      ]
     },
     "metadata": {},
     "output_type": "display_data"
    },
    {
     "data": {
      "application/vnd.jupyter.widget-view+json": {
       "model_id": "",
       "version_major": 2,
       "version_minor": 0
      },
      "text/plain": [
       "HBox(children=(IntProgress(value=0, description='Epoch 9', style=ProgressStyle(description_width='initial')), …"
      ]
     },
     "metadata": {},
     "output_type": "display_data"
    },
    {
     "name": "stdout",
     "output_type": "stream",
     "text": [
      "\n",
      "accuracy : 0.6353333473205567\n",
      "loss : 1.6472050619125367\n",
      "Bonjour, Le clôture ce ticket ticket Travail 469280/PTC8/ENVOIAP arrêté le 02/01/16 à 21:29:04; Cordialement. Ph. Duval \n",
      "\n",
      "\n",
      "Total Epoch : 10\n"
     ]
    },
    {
     "data": {
      "application/vnd.jupyter.widget-view+json": {
       "model_id": "6034b2b2867446d8bea072a1f7115af2",
       "version_major": 2,
       "version_minor": 0
      },
      "text/plain": [
       "HBox(children=(IntProgress(value=0, description='Training', max=10, style=ProgressStyle(description_width='ini…"
      ]
     },
     "metadata": {},
     "output_type": "display_data"
    },
    {
     "data": {
      "application/vnd.jupyter.widget-view+json": {
       "model_id": "",
       "version_major": 2,
       "version_minor": 0
      },
      "text/plain": [
       "HBox(children=(IntProgress(value=0, description='Epoch 0', style=ProgressStyle(description_width='initial')), …"
      ]
     },
     "metadata": {},
     "output_type": "display_data"
    },
    {
     "data": {
      "application/vnd.jupyter.widget-view+json": {
       "model_id": "",
       "version_major": 2,
       "version_minor": 0
      },
      "text/plain": [
       "HBox(children=(IntProgress(value=0, description='Epoch 1', style=ProgressStyle(description_width='initial')), …"
      ]
     },
     "metadata": {},
     "output_type": "display_data"
    },
    {
     "data": {
      "application/vnd.jupyter.widget-view+json": {
       "model_id": "",
       "version_major": 2,
       "version_minor": 0
      },
      "text/plain": [
       "HBox(children=(IntProgress(value=0, description='Epoch 2', style=ProgressStyle(description_width='initial')), …"
      ]
     },
     "metadata": {},
     "output_type": "display_data"
    },
    {
     "data": {
      "application/vnd.jupyter.widget-view+json": {
       "model_id": "",
       "version_major": 2,
       "version_minor": 0
      },
      "text/plain": [
       "HBox(children=(IntProgress(value=0, description='Epoch 3', style=ProgressStyle(description_width='initial')), …"
      ]
     },
     "metadata": {},
     "output_type": "display_data"
    },
    {
     "data": {
      "application/vnd.jupyter.widget-view+json": {
       "model_id": "",
       "version_major": 2,
       "version_minor": 0
      },
      "text/plain": [
       "HBox(children=(IntProgress(value=0, description='Epoch 4', style=ProgressStyle(description_width='initial')), …"
      ]
     },
     "metadata": {},
     "output_type": "display_data"
    },
    {
     "data": {
      "application/vnd.jupyter.widget-view+json": {
       "model_id": "",
       "version_major": 2,
       "version_minor": 0
      },
      "text/plain": [
       "HBox(children=(IntProgress(value=0, description='Epoch 5', style=ProgressStyle(description_width='initial')), …"
      ]
     },
     "metadata": {},
     "output_type": "display_data"
    },
    {
     "data": {
      "application/vnd.jupyter.widget-view+json": {
       "model_id": "",
       "version_major": 2,
       "version_minor": 0
      },
      "text/plain": [
       "HBox(children=(IntProgress(value=0, description='Epoch 6', style=ProgressStyle(description_width='initial')), …"
      ]
     },
     "metadata": {},
     "output_type": "display_data"
    },
    {
     "data": {
      "application/vnd.jupyter.widget-view+json": {
       "model_id": "",
       "version_major": 2,
       "version_minor": 0
      },
      "text/plain": [
       "HBox(children=(IntProgress(value=0, description='Epoch 7', style=ProgressStyle(description_width='initial')), …"
      ]
     },
     "metadata": {},
     "output_type": "display_data"
    },
    {
     "data": {
      "application/vnd.jupyter.widget-view+json": {
       "model_id": "",
       "version_major": 2,
       "version_minor": 0
      },
      "text/plain": [
       "HBox(children=(IntProgress(value=0, description='Epoch 8', style=ProgressStyle(description_width='initial')), …"
      ]
     },
     "metadata": {},
     "output_type": "display_data"
    },
    {
     "data": {
      "application/vnd.jupyter.widget-view+json": {
       "model_id": "",
       "version_major": 2,
       "version_minor": 0
      },
      "text/plain": [
       "HBox(children=(IntProgress(value=0, description='Epoch 9', style=ProgressStyle(description_width='initial')), …"
      ]
     },
     "metadata": {},
     "output_type": "display_data"
    },
    {
     "name": "stdout",
     "output_type": "stream",
     "text": [
      "\n",
      "accuracy : 0.6643333196640014\n",
      "loss : 1.560381474494934\n",
      "Bonjour, : clôture ce ticket : Travail 469280/PTC8/ENVOIAP arrêté le 02/01/16 à 21:29:04; Cordialement. Ph. Duval \n",
      "\n",
      "\n",
      "Total Epoch : 11\n"
     ]
    },
    {
     "data": {
      "application/vnd.jupyter.widget-view+json": {
       "model_id": "1c16c79117ca43959d34177e3b20b534",
       "version_major": 2,
       "version_minor": 0
      },
      "text/plain": [
       "HBox(children=(IntProgress(value=0, description='Training', max=10, style=ProgressStyle(description_width='ini…"
      ]
     },
     "metadata": {},
     "output_type": "display_data"
    },
    {
     "data": {
      "application/vnd.jupyter.widget-view+json": {
       "model_id": "",
       "version_major": 2,
       "version_minor": 0
      },
      "text/plain": [
       "HBox(children=(IntProgress(value=0, description='Epoch 0', style=ProgressStyle(description_width='initial')), …"
      ]
     },
     "metadata": {},
     "output_type": "display_data"
    },
    {
     "data": {
      "application/vnd.jupyter.widget-view+json": {
       "model_id": "",
       "version_major": 2,
       "version_minor": 0
      },
      "text/plain": [
       "HBox(children=(IntProgress(value=0, description='Epoch 1', style=ProgressStyle(description_width='initial')), …"
      ]
     },
     "metadata": {},
     "output_type": "display_data"
    },
    {
     "data": {
      "application/vnd.jupyter.widget-view+json": {
       "model_id": "",
       "version_major": 2,
       "version_minor": 0
      },
      "text/plain": [
       "HBox(children=(IntProgress(value=0, description='Epoch 2', style=ProgressStyle(description_width='initial')), …"
      ]
     },
     "metadata": {},
     "output_type": "display_data"
    },
    {
     "data": {
      "application/vnd.jupyter.widget-view+json": {
       "model_id": "",
       "version_major": 2,
       "version_minor": 0
      },
      "text/plain": [
       "HBox(children=(IntProgress(value=0, description='Epoch 3', style=ProgressStyle(description_width='initial')), …"
      ]
     },
     "metadata": {},
     "output_type": "display_data"
    },
    {
     "data": {
      "application/vnd.jupyter.widget-view+json": {
       "model_id": "",
       "version_major": 2,
       "version_minor": 0
      },
      "text/plain": [
       "HBox(children=(IntProgress(value=0, description='Epoch 4', style=ProgressStyle(description_width='initial')), …"
      ]
     },
     "metadata": {},
     "output_type": "display_data"
    },
    {
     "data": {
      "application/vnd.jupyter.widget-view+json": {
       "model_id": "",
       "version_major": 2,
       "version_minor": 0
      },
      "text/plain": [
       "HBox(children=(IntProgress(value=0, description='Epoch 5', style=ProgressStyle(description_width='initial')), …"
      ]
     },
     "metadata": {},
     "output_type": "display_data"
    },
    {
     "data": {
      "application/vnd.jupyter.widget-view+json": {
       "model_id": "",
       "version_major": 2,
       "version_minor": 0
      },
      "text/plain": [
       "HBox(children=(IntProgress(value=0, description='Epoch 6', style=ProgressStyle(description_width='initial')), …"
      ]
     },
     "metadata": {},
     "output_type": "display_data"
    },
    {
     "data": {
      "application/vnd.jupyter.widget-view+json": {
       "model_id": "",
       "version_major": 2,
       "version_minor": 0
      },
      "text/plain": [
       "HBox(children=(IntProgress(value=0, description='Epoch 7', style=ProgressStyle(description_width='initial')), …"
      ]
     },
     "metadata": {},
     "output_type": "display_data"
    },
    {
     "data": {
      "application/vnd.jupyter.widget-view+json": {
       "model_id": "",
       "version_major": 2,
       "version_minor": 0
      },
      "text/plain": [
       "HBox(children=(IntProgress(value=0, description='Epoch 8', style=ProgressStyle(description_width='initial')), …"
      ]
     },
     "metadata": {},
     "output_type": "display_data"
    },
    {
     "data": {
      "application/vnd.jupyter.widget-view+json": {
       "model_id": "",
       "version_major": 2,
       "version_minor": 0
      },
      "text/plain": [
       "HBox(children=(IntProgress(value=0, description='Epoch 9', style=ProgressStyle(description_width='initial')), …"
      ]
     },
     "metadata": {},
     "output_type": "display_data"
    },
    {
     "name": "stdout",
     "output_type": "stream",
     "text": [
      "\n",
      "accuracy : 0.679999988079071\n",
      "loss : 1.465651001930237\n",
      "Bonjour, Je clôture ce ticket : Travail 469280/PTC8/ENVOIAP arrêté le 02/01/16 à 21:29:04; Cordialement. Ph. Duval \n",
      "\n",
      "\n",
      "Total Epoch : 12\n"
     ]
    },
    {
     "data": {
      "application/vnd.jupyter.widget-view+json": {
       "model_id": "692b01c9113b4768bf2989195603b1db",
       "version_major": 2,
       "version_minor": 0
      },
      "text/plain": [
       "HBox(children=(IntProgress(value=0, description='Training', max=10, style=ProgressStyle(description_width='ini…"
      ]
     },
     "metadata": {},
     "output_type": "display_data"
    },
    {
     "data": {
      "application/vnd.jupyter.widget-view+json": {
       "model_id": "",
       "version_major": 2,
       "version_minor": 0
      },
      "text/plain": [
       "HBox(children=(IntProgress(value=0, description='Epoch 0', style=ProgressStyle(description_width='initial')), …"
      ]
     },
     "metadata": {},
     "output_type": "display_data"
    },
    {
     "data": {
      "application/vnd.jupyter.widget-view+json": {
       "model_id": "",
       "version_major": 2,
       "version_minor": 0
      },
      "text/plain": [
       "HBox(children=(IntProgress(value=0, description='Epoch 1', style=ProgressStyle(description_width='initial')), …"
      ]
     },
     "metadata": {},
     "output_type": "display_data"
    },
    {
     "data": {
      "application/vnd.jupyter.widget-view+json": {
       "model_id": "",
       "version_major": 2,
       "version_minor": 0
      },
      "text/plain": [
       "HBox(children=(IntProgress(value=0, description='Epoch 2', style=ProgressStyle(description_width='initial')), …"
      ]
     },
     "metadata": {},
     "output_type": "display_data"
    },
    {
     "data": {
      "application/vnd.jupyter.widget-view+json": {
       "model_id": "",
       "version_major": 2,
       "version_minor": 0
      },
      "text/plain": [
       "HBox(children=(IntProgress(value=0, description='Epoch 3', style=ProgressStyle(description_width='initial')), …"
      ]
     },
     "metadata": {},
     "output_type": "display_data"
    },
    {
     "data": {
      "application/vnd.jupyter.widget-view+json": {
       "model_id": "",
       "version_major": 2,
       "version_minor": 0
      },
      "text/plain": [
       "HBox(children=(IntProgress(value=0, description='Epoch 4', style=ProgressStyle(description_width='initial')), …"
      ]
     },
     "metadata": {},
     "output_type": "display_data"
    },
    {
     "data": {
      "application/vnd.jupyter.widget-view+json": {
       "model_id": "",
       "version_major": 2,
       "version_minor": 0
      },
      "text/plain": [
       "HBox(children=(IntProgress(value=0, description='Epoch 5', style=ProgressStyle(description_width='initial')), …"
      ]
     },
     "metadata": {},
     "output_type": "display_data"
    },
    {
     "data": {
      "application/vnd.jupyter.widget-view+json": {
       "model_id": "",
       "version_major": 2,
       "version_minor": 0
      },
      "text/plain": [
       "HBox(children=(IntProgress(value=0, description='Epoch 6', style=ProgressStyle(description_width='initial')), …"
      ]
     },
     "metadata": {},
     "output_type": "display_data"
    },
    {
     "data": {
      "application/vnd.jupyter.widget-view+json": {
       "model_id": "",
       "version_major": 2,
       "version_minor": 0
      },
      "text/plain": [
       "HBox(children=(IntProgress(value=0, description='Epoch 7', style=ProgressStyle(description_width='initial')), …"
      ]
     },
     "metadata": {},
     "output_type": "display_data"
    },
    {
     "data": {
      "application/vnd.jupyter.widget-view+json": {
       "model_id": "",
       "version_major": 2,
       "version_minor": 0
      },
      "text/plain": [
       "HBox(children=(IntProgress(value=0, description='Epoch 8', style=ProgressStyle(description_width='initial')), …"
      ]
     },
     "metadata": {},
     "output_type": "display_data"
    },
    {
     "data": {
      "application/vnd.jupyter.widget-view+json": {
       "model_id": "",
       "version_major": 2,
       "version_minor": 0
      },
      "text/plain": [
       "HBox(children=(IntProgress(value=0, description='Epoch 9', style=ProgressStyle(description_width='initial')), …"
      ]
     },
     "metadata": {},
     "output_type": "display_data"
    },
    {
     "name": "stdout",
     "output_type": "stream",
     "text": [
      "\n",
      "accuracy : 0.7103333449363709\n",
      "loss : 1.3743523359298706\n",
      "Bonjour, Je clôture ce ticket : Travail 091375/BBELLEGUE/RENUM.VAC arrêté le 02/01/16 à 21:29:04; Cordialement. Ph. Duval \n",
      "\n",
      "\n",
      "Total Epoch : 13\n"
     ]
    },
    {
     "data": {
      "application/vnd.jupyter.widget-view+json": {
       "model_id": "9383381296f049a4beab83ccae069e89",
       "version_major": 2,
       "version_minor": 0
      },
      "text/plain": [
       "HBox(children=(IntProgress(value=0, description='Training', max=10, style=ProgressStyle(description_width='ini…"
      ]
     },
     "metadata": {},
     "output_type": "display_data"
    },
    {
     "data": {
      "application/vnd.jupyter.widget-view+json": {
       "model_id": "",
       "version_major": 2,
       "version_minor": 0
      },
      "text/plain": [
       "HBox(children=(IntProgress(value=0, description='Epoch 0', style=ProgressStyle(description_width='initial')), …"
      ]
     },
     "metadata": {},
     "output_type": "display_data"
    },
    {
     "data": {
      "application/vnd.jupyter.widget-view+json": {
       "model_id": "",
       "version_major": 2,
       "version_minor": 0
      },
      "text/plain": [
       "HBox(children=(IntProgress(value=0, description='Epoch 1', style=ProgressStyle(description_width='initial')), …"
      ]
     },
     "metadata": {},
     "output_type": "display_data"
    },
    {
     "data": {
      "application/vnd.jupyter.widget-view+json": {
       "model_id": "",
       "version_major": 2,
       "version_minor": 0
      },
      "text/plain": [
       "HBox(children=(IntProgress(value=0, description='Epoch 2', style=ProgressStyle(description_width='initial')), …"
      ]
     },
     "metadata": {},
     "output_type": "display_data"
    },
    {
     "data": {
      "application/vnd.jupyter.widget-view+json": {
       "model_id": "",
       "version_major": 2,
       "version_minor": 0
      },
      "text/plain": [
       "HBox(children=(IntProgress(value=0, description='Epoch 3', style=ProgressStyle(description_width='initial')), …"
      ]
     },
     "metadata": {},
     "output_type": "display_data"
    },
    {
     "data": {
      "application/vnd.jupyter.widget-view+json": {
       "model_id": "",
       "version_major": 2,
       "version_minor": 0
      },
      "text/plain": [
       "HBox(children=(IntProgress(value=0, description='Epoch 4', style=ProgressStyle(description_width='initial')), …"
      ]
     },
     "metadata": {},
     "output_type": "display_data"
    },
    {
     "data": {
      "application/vnd.jupyter.widget-view+json": {
       "model_id": "",
       "version_major": 2,
       "version_minor": 0
      },
      "text/plain": [
       "HBox(children=(IntProgress(value=0, description='Epoch 5', style=ProgressStyle(description_width='initial')), …"
      ]
     },
     "metadata": {},
     "output_type": "display_data"
    },
    {
     "data": {
      "application/vnd.jupyter.widget-view+json": {
       "model_id": "",
       "version_major": 2,
       "version_minor": 0
      },
      "text/plain": [
       "HBox(children=(IntProgress(value=0, description='Epoch 6', style=ProgressStyle(description_width='initial')), …"
      ]
     },
     "metadata": {},
     "output_type": "display_data"
    },
    {
     "data": {
      "application/vnd.jupyter.widget-view+json": {
       "model_id": "",
       "version_major": 2,
       "version_minor": 0
      },
      "text/plain": [
       "HBox(children=(IntProgress(value=0, description='Epoch 7', style=ProgressStyle(description_width='initial')), …"
      ]
     },
     "metadata": {},
     "output_type": "display_data"
    },
    {
     "data": {
      "application/vnd.jupyter.widget-view+json": {
       "model_id": "",
       "version_major": 2,
       "version_minor": 0
      },
      "text/plain": [
       "HBox(children=(IntProgress(value=0, description='Epoch 8', style=ProgressStyle(description_width='initial')), …"
      ]
     },
     "metadata": {},
     "output_type": "display_data"
    },
    {
     "data": {
      "application/vnd.jupyter.widget-view+json": {
       "model_id": "",
       "version_major": 2,
       "version_minor": 0
      },
      "text/plain": [
       "HBox(children=(IntProgress(value=0, description='Epoch 9', style=ProgressStyle(description_width='initial')), …"
      ]
     },
     "metadata": {},
     "output_type": "display_data"
    },
    {
     "name": "stdout",
     "output_type": "stream",
     "text": [
      "\n",
      "accuracy : 0.7253333401679992\n",
      "loss : 1.2930629682540893\n",
      "Bonjour, Je clôture ce ticket : Travail 091375/BBELLEGUE/RENUM.VAC arrêté le 02/01/16 à 21:29:04; Cordialement. Ph. Duval \n",
      "\n",
      "\n",
      "Total Epoch : 14\n"
     ]
    },
    {
     "data": {
      "application/vnd.jupyter.widget-view+json": {
       "model_id": "b444f44545af4b57890854b2e0981a6b",
       "version_major": 2,
       "version_minor": 0
      },
      "text/plain": [
       "HBox(children=(IntProgress(value=0, description='Training', max=10, style=ProgressStyle(description_width='ini…"
      ]
     },
     "metadata": {},
     "output_type": "display_data"
    },
    {
     "data": {
      "application/vnd.jupyter.widget-view+json": {
       "model_id": "",
       "version_major": 2,
       "version_minor": 0
      },
      "text/plain": [
       "HBox(children=(IntProgress(value=0, description='Epoch 0', style=ProgressStyle(description_width='initial')), …"
      ]
     },
     "metadata": {},
     "output_type": "display_data"
    },
    {
     "data": {
      "application/vnd.jupyter.widget-view+json": {
       "model_id": "",
       "version_major": 2,
       "version_minor": 0
      },
      "text/plain": [
       "HBox(children=(IntProgress(value=0, description='Epoch 1', style=ProgressStyle(description_width='initial')), …"
      ]
     },
     "metadata": {},
     "output_type": "display_data"
    },
    {
     "data": {
      "application/vnd.jupyter.widget-view+json": {
       "model_id": "",
       "version_major": 2,
       "version_minor": 0
      },
      "text/plain": [
       "HBox(children=(IntProgress(value=0, description='Epoch 2', style=ProgressStyle(description_width='initial')), …"
      ]
     },
     "metadata": {},
     "output_type": "display_data"
    },
    {
     "data": {
      "application/vnd.jupyter.widget-view+json": {
       "model_id": "",
       "version_major": 2,
       "version_minor": 0
      },
      "text/plain": [
       "HBox(children=(IntProgress(value=0, description='Epoch 3', style=ProgressStyle(description_width='initial')), …"
      ]
     },
     "metadata": {},
     "output_type": "display_data"
    },
    {
     "data": {
      "application/vnd.jupyter.widget-view+json": {
       "model_id": "",
       "version_major": 2,
       "version_minor": 0
      },
      "text/plain": [
       "HBox(children=(IntProgress(value=0, description='Epoch 4', style=ProgressStyle(description_width='initial')), …"
      ]
     },
     "metadata": {},
     "output_type": "display_data"
    },
    {
     "data": {
      "application/vnd.jupyter.widget-view+json": {
       "model_id": "",
       "version_major": 2,
       "version_minor": 0
      },
      "text/plain": [
       "HBox(children=(IntProgress(value=0, description='Epoch 5', style=ProgressStyle(description_width='initial')), …"
      ]
     },
     "metadata": {},
     "output_type": "display_data"
    },
    {
     "data": {
      "application/vnd.jupyter.widget-view+json": {
       "model_id": "",
       "version_major": 2,
       "version_minor": 0
      },
      "text/plain": [
       "HBox(children=(IntProgress(value=0, description='Epoch 6', style=ProgressStyle(description_width='initial')), …"
      ]
     },
     "metadata": {},
     "output_type": "display_data"
    },
    {
     "data": {
      "application/vnd.jupyter.widget-view+json": {
       "model_id": "",
       "version_major": 2,
       "version_minor": 0
      },
      "text/plain": [
       "HBox(children=(IntProgress(value=0, description='Epoch 7', style=ProgressStyle(description_width='initial')), …"
      ]
     },
     "metadata": {},
     "output_type": "display_data"
    },
    {
     "data": {
      "application/vnd.jupyter.widget-view+json": {
       "model_id": "",
       "version_major": 2,
       "version_minor": 0
      },
      "text/plain": [
       "HBox(children=(IntProgress(value=0, description='Epoch 8', style=ProgressStyle(description_width='initial')), …"
      ]
     },
     "metadata": {},
     "output_type": "display_data"
    },
    {
     "data": {
      "application/vnd.jupyter.widget-view+json": {
       "model_id": "",
       "version_major": 2,
       "version_minor": 0
      },
      "text/plain": [
       "HBox(children=(IntProgress(value=0, description='Epoch 9', style=ProgressStyle(description_width='initial')), …"
      ]
     },
     "metadata": {},
     "output_type": "display_data"
    },
    {
     "name": "stdout",
     "output_type": "stream",
     "text": [
      "\n",
      "accuracy : 0.7440000128746033\n",
      "loss : 1.2171325540542604\n",
      "Bonjour, Je clôture ce ticket : Travail 091375/BBELLEGUE/RENUM.VAC arrêté le 02/01/16 à 21:29:04; Cordialement. Ph. Duval \n",
      "\n",
      "\n",
      "Total Epoch : 15\n"
     ]
    },
    {
     "data": {
      "application/vnd.jupyter.widget-view+json": {
       "model_id": "adde71eb46a24d2cb0d7acbc452ce2b0",
       "version_major": 2,
       "version_minor": 0
      },
      "text/plain": [
       "HBox(children=(IntProgress(value=0, description='Training', max=10, style=ProgressStyle(description_width='ini…"
      ]
     },
     "metadata": {},
     "output_type": "display_data"
    },
    {
     "data": {
      "application/vnd.jupyter.widget-view+json": {
       "model_id": "",
       "version_major": 2,
       "version_minor": 0
      },
      "text/plain": [
       "HBox(children=(IntProgress(value=0, description='Epoch 0', style=ProgressStyle(description_width='initial')), …"
      ]
     },
     "metadata": {},
     "output_type": "display_data"
    },
    {
     "data": {
      "application/vnd.jupyter.widget-view+json": {
       "model_id": "",
       "version_major": 2,
       "version_minor": 0
      },
      "text/plain": [
       "HBox(children=(IntProgress(value=0, description='Epoch 1', style=ProgressStyle(description_width='initial')), …"
      ]
     },
     "metadata": {},
     "output_type": "display_data"
    },
    {
     "data": {
      "application/vnd.jupyter.widget-view+json": {
       "model_id": "",
       "version_major": 2,
       "version_minor": 0
      },
      "text/plain": [
       "HBox(children=(IntProgress(value=0, description='Epoch 2', style=ProgressStyle(description_width='initial')), …"
      ]
     },
     "metadata": {},
     "output_type": "display_data"
    },
    {
     "data": {
      "application/vnd.jupyter.widget-view+json": {
       "model_id": "",
       "version_major": 2,
       "version_minor": 0
      },
      "text/plain": [
       "HBox(children=(IntProgress(value=0, description='Epoch 3', style=ProgressStyle(description_width='initial')), …"
      ]
     },
     "metadata": {},
     "output_type": "display_data"
    },
    {
     "data": {
      "application/vnd.jupyter.widget-view+json": {
       "model_id": "",
       "version_major": 2,
       "version_minor": 0
      },
      "text/plain": [
       "HBox(children=(IntProgress(value=0, description='Epoch 4', style=ProgressStyle(description_width='initial')), …"
      ]
     },
     "metadata": {},
     "output_type": "display_data"
    },
    {
     "data": {
      "application/vnd.jupyter.widget-view+json": {
       "model_id": "",
       "version_major": 2,
       "version_minor": 0
      },
      "text/plain": [
       "HBox(children=(IntProgress(value=0, description='Epoch 5', style=ProgressStyle(description_width='initial')), …"
      ]
     },
     "metadata": {},
     "output_type": "display_data"
    },
    {
     "data": {
      "application/vnd.jupyter.widget-view+json": {
       "model_id": "",
       "version_major": 2,
       "version_minor": 0
      },
      "text/plain": [
       "HBox(children=(IntProgress(value=0, description='Epoch 6', style=ProgressStyle(description_width='initial')), …"
      ]
     },
     "metadata": {},
     "output_type": "display_data"
    },
    {
     "data": {
      "application/vnd.jupyter.widget-view+json": {
       "model_id": "",
       "version_major": 2,
       "version_minor": 0
      },
      "text/plain": [
       "HBox(children=(IntProgress(value=0, description='Epoch 7', style=ProgressStyle(description_width='initial')), …"
      ]
     },
     "metadata": {},
     "output_type": "display_data"
    },
    {
     "data": {
      "application/vnd.jupyter.widget-view+json": {
       "model_id": "",
       "version_major": 2,
       "version_minor": 0
      },
      "text/plain": [
       "HBox(children=(IntProgress(value=0, description='Epoch 8', style=ProgressStyle(description_width='initial')), …"
      ]
     },
     "metadata": {},
     "output_type": "display_data"
    },
    {
     "data": {
      "application/vnd.jupyter.widget-view+json": {
       "model_id": "",
       "version_major": 2,
       "version_minor": 0
      },
      "text/plain": [
       "HBox(children=(IntProgress(value=0, description='Epoch 9', style=ProgressStyle(description_width='initial')), …"
      ]
     },
     "metadata": {},
     "output_type": "display_data"
    },
    {
     "name": "stdout",
     "output_type": "stream",
     "text": [
      "\n",
      "accuracy : 0.7729999852180481\n",
      "loss : 1.1317723989486694\n",
      "Bonjour, Je clôture ce ticket : Travail 091375/BBELLEGUE/RENUM.VAC arrêté le 02/01/16 à 21:29:04; Cordialement. Ph. Duval \n",
      "\n",
      "\n",
      "Total Epoch : 16\n"
     ]
    },
    {
     "data": {
      "application/vnd.jupyter.widget-view+json": {
       "model_id": "cb0e00ade1eb48789a080d91003c89df",
       "version_major": 2,
       "version_minor": 0
      },
      "text/plain": [
       "HBox(children=(IntProgress(value=0, description='Training', max=10, style=ProgressStyle(description_width='ini…"
      ]
     },
     "metadata": {},
     "output_type": "display_data"
    },
    {
     "data": {
      "application/vnd.jupyter.widget-view+json": {
       "model_id": "",
       "version_major": 2,
       "version_minor": 0
      },
      "text/plain": [
       "HBox(children=(IntProgress(value=0, description='Epoch 0', style=ProgressStyle(description_width='initial')), …"
      ]
     },
     "metadata": {},
     "output_type": "display_data"
    },
    {
     "data": {
      "application/vnd.jupyter.widget-view+json": {
       "model_id": "",
       "version_major": 2,
       "version_minor": 0
      },
      "text/plain": [
       "HBox(children=(IntProgress(value=0, description='Epoch 1', style=ProgressStyle(description_width='initial')), …"
      ]
     },
     "metadata": {},
     "output_type": "display_data"
    },
    {
     "data": {
      "application/vnd.jupyter.widget-view+json": {
       "model_id": "",
       "version_major": 2,
       "version_minor": 0
      },
      "text/plain": [
       "HBox(children=(IntProgress(value=0, description='Epoch 2', style=ProgressStyle(description_width='initial')), …"
      ]
     },
     "metadata": {},
     "output_type": "display_data"
    },
    {
     "data": {
      "application/vnd.jupyter.widget-view+json": {
       "model_id": "",
       "version_major": 2,
       "version_minor": 0
      },
      "text/plain": [
       "HBox(children=(IntProgress(value=0, description='Epoch 3', style=ProgressStyle(description_width='initial')), …"
      ]
     },
     "metadata": {},
     "output_type": "display_data"
    },
    {
     "data": {
      "application/vnd.jupyter.widget-view+json": {
       "model_id": "",
       "version_major": 2,
       "version_minor": 0
      },
      "text/plain": [
       "HBox(children=(IntProgress(value=0, description='Epoch 4', style=ProgressStyle(description_width='initial')), …"
      ]
     },
     "metadata": {},
     "output_type": "display_data"
    },
    {
     "data": {
      "application/vnd.jupyter.widget-view+json": {
       "model_id": "",
       "version_major": 2,
       "version_minor": 0
      },
      "text/plain": [
       "HBox(children=(IntProgress(value=0, description='Epoch 5', style=ProgressStyle(description_width='initial')), …"
      ]
     },
     "metadata": {},
     "output_type": "display_data"
    },
    {
     "data": {
      "application/vnd.jupyter.widget-view+json": {
       "model_id": "",
       "version_major": 2,
       "version_minor": 0
      },
      "text/plain": [
       "HBox(children=(IntProgress(value=0, description='Epoch 6', style=ProgressStyle(description_width='initial')), …"
      ]
     },
     "metadata": {},
     "output_type": "display_data"
    },
    {
     "data": {
      "application/vnd.jupyter.widget-view+json": {
       "model_id": "",
       "version_major": 2,
       "version_minor": 0
      },
      "text/plain": [
       "HBox(children=(IntProgress(value=0, description='Epoch 7', style=ProgressStyle(description_width='initial')), …"
      ]
     },
     "metadata": {},
     "output_type": "display_data"
    },
    {
     "data": {
      "application/vnd.jupyter.widget-view+json": {
       "model_id": "",
       "version_major": 2,
       "version_minor": 0
      },
      "text/plain": [
       "HBox(children=(IntProgress(value=0, description='Epoch 8', style=ProgressStyle(description_width='initial')), …"
      ]
     },
     "metadata": {},
     "output_type": "display_data"
    },
    {
     "data": {
      "application/vnd.jupyter.widget-view+json": {
       "model_id": "",
       "version_major": 2,
       "version_minor": 0
      },
      "text/plain": [
       "HBox(children=(IntProgress(value=0, description='Epoch 9', style=ProgressStyle(description_width='initial')), …"
      ]
     },
     "metadata": {},
     "output_type": "display_data"
    },
    {
     "name": "stdout",
     "output_type": "stream",
     "text": [
      "\n",
      "accuracy : 0.7910000038146973\n",
      "loss : 1.0698613834381103\n",
      "Bonjour, Je clôture ce ticket : Travail 091375/BBELLEGUE/RENUM.VAC arrêté le 02/01/16 à 02:09:0 Cordialement. Ph. Duval \n",
      "\n",
      "\n",
      "Total Epoch : 17\n"
     ]
    },
    {
     "data": {
      "application/vnd.jupyter.widget-view+json": {
       "model_id": "07982887516e45c3903d3780778393c1",
       "version_major": 2,
       "version_minor": 0
      },
      "text/plain": [
       "HBox(children=(IntProgress(value=0, description='Training', max=10, style=ProgressStyle(description_width='ini…"
      ]
     },
     "metadata": {},
     "output_type": "display_data"
    },
    {
     "data": {
      "application/vnd.jupyter.widget-view+json": {
       "model_id": "",
       "version_major": 2,
       "version_minor": 0
      },
      "text/plain": [
       "HBox(children=(IntProgress(value=0, description='Epoch 0', style=ProgressStyle(description_width='initial')), …"
      ]
     },
     "metadata": {},
     "output_type": "display_data"
    },
    {
     "data": {
      "application/vnd.jupyter.widget-view+json": {
       "model_id": "",
       "version_major": 2,
       "version_minor": 0
      },
      "text/plain": [
       "HBox(children=(IntProgress(value=0, description='Epoch 1', style=ProgressStyle(description_width='initial')), …"
      ]
     },
     "metadata": {},
     "output_type": "display_data"
    },
    {
     "data": {
      "application/vnd.jupyter.widget-view+json": {
       "model_id": "",
       "version_major": 2,
       "version_minor": 0
      },
      "text/plain": [
       "HBox(children=(IntProgress(value=0, description='Epoch 2', style=ProgressStyle(description_width='initial')), …"
      ]
     },
     "metadata": {},
     "output_type": "display_data"
    },
    {
     "data": {
      "application/vnd.jupyter.widget-view+json": {
       "model_id": "",
       "version_major": 2,
       "version_minor": 0
      },
      "text/plain": [
       "HBox(children=(IntProgress(value=0, description='Epoch 3', style=ProgressStyle(description_width='initial')), …"
      ]
     },
     "metadata": {},
     "output_type": "display_data"
    },
    {
     "data": {
      "application/vnd.jupyter.widget-view+json": {
       "model_id": "",
       "version_major": 2,
       "version_minor": 0
      },
      "text/plain": [
       "HBox(children=(IntProgress(value=0, description='Epoch 4', style=ProgressStyle(description_width='initial')), …"
      ]
     },
     "metadata": {},
     "output_type": "display_data"
    },
    {
     "data": {
      "application/vnd.jupyter.widget-view+json": {
       "model_id": "",
       "version_major": 2,
       "version_minor": 0
      },
      "text/plain": [
       "HBox(children=(IntProgress(value=0, description='Epoch 5', style=ProgressStyle(description_width='initial')), …"
      ]
     },
     "metadata": {},
     "output_type": "display_data"
    },
    {
     "data": {
      "application/vnd.jupyter.widget-view+json": {
       "model_id": "",
       "version_major": 2,
       "version_minor": 0
      },
      "text/plain": [
       "HBox(children=(IntProgress(value=0, description='Epoch 6', style=ProgressStyle(description_width='initial')), …"
      ]
     },
     "metadata": {},
     "output_type": "display_data"
    },
    {
     "data": {
      "application/vnd.jupyter.widget-view+json": {
       "model_id": "",
       "version_major": 2,
       "version_minor": 0
      },
      "text/plain": [
       "HBox(children=(IntProgress(value=0, description='Epoch 7', style=ProgressStyle(description_width='initial')), …"
      ]
     },
     "metadata": {},
     "output_type": "display_data"
    },
    {
     "data": {
      "application/vnd.jupyter.widget-view+json": {
       "model_id": "",
       "version_major": 2,
       "version_minor": 0
      },
      "text/plain": [
       "HBox(children=(IntProgress(value=0, description='Epoch 8', style=ProgressStyle(description_width='initial')), …"
      ]
     },
     "metadata": {},
     "output_type": "display_data"
    },
    {
     "data": {
      "application/vnd.jupyter.widget-view+json": {
       "model_id": "",
       "version_major": 2,
       "version_minor": 0
      },
      "text/plain": [
       "HBox(children=(IntProgress(value=0, description='Epoch 9', style=ProgressStyle(description_width='initial')), …"
      ]
     },
     "metadata": {},
     "output_type": "display_data"
    },
    {
     "name": "stdout",
     "output_type": "stream",
     "text": [
      "\n",
      "accuracy : 0.8110000157356262\n",
      "loss : 1.0016341638565063\n",
      "Bonjour, Je clôture ce ticket : Travail 091375/BBELLEGUE/RENUM.VAC arrêté le 02/01/16 à 21:29:04; Cordialement. Ph. Duval \n",
      "\n",
      "\n",
      "Total Epoch : 18\n"
     ]
    },
    {
     "data": {
      "application/vnd.jupyter.widget-view+json": {
       "model_id": "6dbd410341cb4b9ca5ade35b177c8cf9",
       "version_major": 2,
       "version_minor": 0
      },
      "text/plain": [
       "HBox(children=(IntProgress(value=0, description='Training', max=10, style=ProgressStyle(description_width='ini…"
      ]
     },
     "metadata": {},
     "output_type": "display_data"
    },
    {
     "data": {
      "application/vnd.jupyter.widget-view+json": {
       "model_id": "",
       "version_major": 2,
       "version_minor": 0
      },
      "text/plain": [
       "HBox(children=(IntProgress(value=0, description='Epoch 0', style=ProgressStyle(description_width='initial')), …"
      ]
     },
     "metadata": {},
     "output_type": "display_data"
    },
    {
     "data": {
      "application/vnd.jupyter.widget-view+json": {
       "model_id": "",
       "version_major": 2,
       "version_minor": 0
      },
      "text/plain": [
       "HBox(children=(IntProgress(value=0, description='Epoch 1', style=ProgressStyle(description_width='initial')), …"
      ]
     },
     "metadata": {},
     "output_type": "display_data"
    },
    {
     "data": {
      "application/vnd.jupyter.widget-view+json": {
       "model_id": "",
       "version_major": 2,
       "version_minor": 0
      },
      "text/plain": [
       "HBox(children=(IntProgress(value=0, description='Epoch 2', style=ProgressStyle(description_width='initial')), …"
      ]
     },
     "metadata": {},
     "output_type": "display_data"
    },
    {
     "data": {
      "application/vnd.jupyter.widget-view+json": {
       "model_id": "",
       "version_major": 2,
       "version_minor": 0
      },
      "text/plain": [
       "HBox(children=(IntProgress(value=0, description='Epoch 3', style=ProgressStyle(description_width='initial')), …"
      ]
     },
     "metadata": {},
     "output_type": "display_data"
    },
    {
     "data": {
      "application/vnd.jupyter.widget-view+json": {
       "model_id": "",
       "version_major": 2,
       "version_minor": 0
      },
      "text/plain": [
       "HBox(children=(IntProgress(value=0, description='Epoch 4', style=ProgressStyle(description_width='initial')), …"
      ]
     },
     "metadata": {},
     "output_type": "display_data"
    },
    {
     "data": {
      "application/vnd.jupyter.widget-view+json": {
       "model_id": "",
       "version_major": 2,
       "version_minor": 0
      },
      "text/plain": [
       "HBox(children=(IntProgress(value=0, description='Epoch 5', style=ProgressStyle(description_width='initial')), …"
      ]
     },
     "metadata": {},
     "output_type": "display_data"
    },
    {
     "data": {
      "application/vnd.jupyter.widget-view+json": {
       "model_id": "",
       "version_major": 2,
       "version_minor": 0
      },
      "text/plain": [
       "HBox(children=(IntProgress(value=0, description='Epoch 6', style=ProgressStyle(description_width='initial')), …"
      ]
     },
     "metadata": {},
     "output_type": "display_data"
    },
    {
     "data": {
      "application/vnd.jupyter.widget-view+json": {
       "model_id": "",
       "version_major": 2,
       "version_minor": 0
      },
      "text/plain": [
       "HBox(children=(IntProgress(value=0, description='Epoch 7', style=ProgressStyle(description_width='initial')), …"
      ]
     },
     "metadata": {},
     "output_type": "display_data"
    },
    {
     "data": {
      "application/vnd.jupyter.widget-view+json": {
       "model_id": "",
       "version_major": 2,
       "version_minor": 0
      },
      "text/plain": [
       "HBox(children=(IntProgress(value=0, description='Epoch 8', style=ProgressStyle(description_width='initial')), …"
      ]
     },
     "metadata": {},
     "output_type": "display_data"
    },
    {
     "data": {
      "application/vnd.jupyter.widget-view+json": {
       "model_id": "",
       "version_major": 2,
       "version_minor": 0
      },
      "text/plain": [
       "HBox(children=(IntProgress(value=0, description='Epoch 9', style=ProgressStyle(description_width='initial')), …"
      ]
     },
     "metadata": {},
     "output_type": "display_data"
    },
    {
     "name": "stdout",
     "output_type": "stream",
     "text": [
      "\n",
      "accuracy : 0.8200000095367431\n",
      "loss : 0.9323320436477661\n",
      "Bonjour, Je clôture ce ticket : Travail 091375/BBELLEGUE/RENUM.VAC arrêté le 02/01/16 à 02:09:0 Cordialement. Ph. Duval \n",
      "\n",
      "\n",
      "Total Epoch : 19\n"
     ]
    },
    {
     "data": {
      "application/vnd.jupyter.widget-view+json": {
       "model_id": "f36bbe783df7446fabefe7b730c22fea",
       "version_major": 2,
       "version_minor": 0
      },
      "text/plain": [
       "HBox(children=(IntProgress(value=0, description='Training', max=10, style=ProgressStyle(description_width='ini…"
      ]
     },
     "metadata": {},
     "output_type": "display_data"
    },
    {
     "data": {
      "application/vnd.jupyter.widget-view+json": {
       "model_id": "",
       "version_major": 2,
       "version_minor": 0
      },
      "text/plain": [
       "HBox(children=(IntProgress(value=0, description='Epoch 0', style=ProgressStyle(description_width='initial')), …"
      ]
     },
     "metadata": {},
     "output_type": "display_data"
    },
    {
     "data": {
      "application/vnd.jupyter.widget-view+json": {
       "model_id": "",
       "version_major": 2,
       "version_minor": 0
      },
      "text/plain": [
       "HBox(children=(IntProgress(value=0, description='Epoch 1', style=ProgressStyle(description_width='initial')), …"
      ]
     },
     "metadata": {},
     "output_type": "display_data"
    },
    {
     "data": {
      "application/vnd.jupyter.widget-view+json": {
       "model_id": "",
       "version_major": 2,
       "version_minor": 0
      },
      "text/plain": [
       "HBox(children=(IntProgress(value=0, description='Epoch 2', style=ProgressStyle(description_width='initial')), …"
      ]
     },
     "metadata": {},
     "output_type": "display_data"
    },
    {
     "data": {
      "application/vnd.jupyter.widget-view+json": {
       "model_id": "",
       "version_major": 2,
       "version_minor": 0
      },
      "text/plain": [
       "HBox(children=(IntProgress(value=0, description='Epoch 3', style=ProgressStyle(description_width='initial')), …"
      ]
     },
     "metadata": {},
     "output_type": "display_data"
    },
    {
     "data": {
      "application/vnd.jupyter.widget-view+json": {
       "model_id": "",
       "version_major": 2,
       "version_minor": 0
      },
      "text/plain": [
       "HBox(children=(IntProgress(value=0, description='Epoch 4', style=ProgressStyle(description_width='initial')), …"
      ]
     },
     "metadata": {},
     "output_type": "display_data"
    },
    {
     "data": {
      "application/vnd.jupyter.widget-view+json": {
       "model_id": "",
       "version_major": 2,
       "version_minor": 0
      },
      "text/plain": [
       "HBox(children=(IntProgress(value=0, description='Epoch 5', style=ProgressStyle(description_width='initial')), …"
      ]
     },
     "metadata": {},
     "output_type": "display_data"
    },
    {
     "data": {
      "application/vnd.jupyter.widget-view+json": {
       "model_id": "",
       "version_major": 2,
       "version_minor": 0
      },
      "text/plain": [
       "HBox(children=(IntProgress(value=0, description='Epoch 6', style=ProgressStyle(description_width='initial')), …"
      ]
     },
     "metadata": {},
     "output_type": "display_data"
    },
    {
     "data": {
      "application/vnd.jupyter.widget-view+json": {
       "model_id": "",
       "version_major": 2,
       "version_minor": 0
      },
      "text/plain": [
       "HBox(children=(IntProgress(value=0, description='Epoch 7', style=ProgressStyle(description_width='initial')), …"
      ]
     },
     "metadata": {},
     "output_type": "display_data"
    },
    {
     "data": {
      "application/vnd.jupyter.widget-view+json": {
       "model_id": "",
       "version_major": 2,
       "version_minor": 0
      },
      "text/plain": [
       "HBox(children=(IntProgress(value=0, description='Epoch 8', style=ProgressStyle(description_width='initial')), …"
      ]
     },
     "metadata": {},
     "output_type": "display_data"
    },
    {
     "data": {
      "application/vnd.jupyter.widget-view+json": {
       "model_id": "",
       "version_major": 2,
       "version_minor": 0
      },
      "text/plain": [
       "HBox(children=(IntProgress(value=0, description='Epoch 9', style=ProgressStyle(description_width='initial')), …"
      ]
     },
     "metadata": {},
     "output_type": "display_data"
    },
    {
     "name": "stdout",
     "output_type": "stream",
     "text": [
      "\n",
      "accuracy : 0.8423333382606506\n",
      "loss : 0.8670664024353028\n",
      "Bonjour, Je clôture ce ticket : Travail 091375/BBELLEGUE/RENUM.VAC arrêté le 02/01/16 à 21:29:04; Cordialement. Ph. Duval \n",
      "\n",
      "\n",
      "Total Epoch : 20\n"
     ]
    },
    {
     "data": {
      "application/vnd.jupyter.widget-view+json": {
       "model_id": "6b8c3dcc8c0a42039c4af3d29b331666",
       "version_major": 2,
       "version_minor": 0
      },
      "text/plain": [
       "HBox(children=(IntProgress(value=0, description='Training', max=10, style=ProgressStyle(description_width='ini…"
      ]
     },
     "metadata": {},
     "output_type": "display_data"
    },
    {
     "data": {
      "application/vnd.jupyter.widget-view+json": {
       "model_id": "",
       "version_major": 2,
       "version_minor": 0
      },
      "text/plain": [
       "HBox(children=(IntProgress(value=0, description='Epoch 0', style=ProgressStyle(description_width='initial')), …"
      ]
     },
     "metadata": {},
     "output_type": "display_data"
    },
    {
     "data": {
      "application/vnd.jupyter.widget-view+json": {
       "model_id": "",
       "version_major": 2,
       "version_minor": 0
      },
      "text/plain": [
       "HBox(children=(IntProgress(value=0, description='Epoch 1', style=ProgressStyle(description_width='initial')), …"
      ]
     },
     "metadata": {},
     "output_type": "display_data"
    },
    {
     "data": {
      "application/vnd.jupyter.widget-view+json": {
       "model_id": "",
       "version_major": 2,
       "version_minor": 0
      },
      "text/plain": [
       "HBox(children=(IntProgress(value=0, description='Epoch 2', style=ProgressStyle(description_width='initial')), …"
      ]
     },
     "metadata": {},
     "output_type": "display_data"
    },
    {
     "data": {
      "application/vnd.jupyter.widget-view+json": {
       "model_id": "",
       "version_major": 2,
       "version_minor": 0
      },
      "text/plain": [
       "HBox(children=(IntProgress(value=0, description='Epoch 3', style=ProgressStyle(description_width='initial')), …"
      ]
     },
     "metadata": {},
     "output_type": "display_data"
    },
    {
     "data": {
      "application/vnd.jupyter.widget-view+json": {
       "model_id": "",
       "version_major": 2,
       "version_minor": 0
      },
      "text/plain": [
       "HBox(children=(IntProgress(value=0, description='Epoch 4', style=ProgressStyle(description_width='initial')), …"
      ]
     },
     "metadata": {},
     "output_type": "display_data"
    },
    {
     "data": {
      "application/vnd.jupyter.widget-view+json": {
       "model_id": "",
       "version_major": 2,
       "version_minor": 0
      },
      "text/plain": [
       "HBox(children=(IntProgress(value=0, description='Epoch 5', style=ProgressStyle(description_width='initial')), …"
      ]
     },
     "metadata": {},
     "output_type": "display_data"
    },
    {
     "data": {
      "application/vnd.jupyter.widget-view+json": {
       "model_id": "",
       "version_major": 2,
       "version_minor": 0
      },
      "text/plain": [
       "HBox(children=(IntProgress(value=0, description='Epoch 6', style=ProgressStyle(description_width='initial')), …"
      ]
     },
     "metadata": {},
     "output_type": "display_data"
    },
    {
     "data": {
      "application/vnd.jupyter.widget-view+json": {
       "model_id": "",
       "version_major": 2,
       "version_minor": 0
      },
      "text/plain": [
       "HBox(children=(IntProgress(value=0, description='Epoch 7', style=ProgressStyle(description_width='initial')), …"
      ]
     },
     "metadata": {},
     "output_type": "display_data"
    },
    {
     "data": {
      "application/vnd.jupyter.widget-view+json": {
       "model_id": "",
       "version_major": 2,
       "version_minor": 0
      },
      "text/plain": [
       "HBox(children=(IntProgress(value=0, description='Epoch 8', style=ProgressStyle(description_width='initial')), …"
      ]
     },
     "metadata": {},
     "output_type": "display_data"
    },
    {
     "data": {
      "application/vnd.jupyter.widget-view+json": {
       "model_id": "",
       "version_major": 2,
       "version_minor": 0
      },
      "text/plain": [
       "HBox(children=(IntProgress(value=0, description='Epoch 9', style=ProgressStyle(description_width='initial')), …"
      ]
     },
     "metadata": {},
     "output_type": "display_data"
    },
    {
     "name": "stdout",
     "output_type": "stream",
     "text": [
      "\n",
      "accuracy : 0.8529999852180481\n",
      "loss : 0.8186961603164673\n",
      "Bonjour, Je clôture ce ticket : Travail 469280/PTC8/ENVOIAP arrêté le 02/01/16 à 19:00:31 Cordialement. Ph. Duval \n",
      "\n",
      "\n"
     ]
    }
   ],
   "source": [
    "for epoch in range(20):\n",
    "    print('Total Epoch :', epoch + 1)\n",
    "    history = model.fit([x_encoder, x_decoder],\n",
    "                        y_decoder,\n",
    "                        epochs=10,\n",
    "                        batch_size=64,\n",
    "                        verbose=0,\n",
    "                        callbacks=[early_stopping, mcp_save, TQDMNotebookCallback()])\n",
    "    \n",
    "    print('accuracy :', history.history['acc'][-1])\n",
    "    print('loss :', history.history['loss'][-1])\n",
    "    \n",
    "    input_encoder = x_encoder[2].reshape(1, x_encoder[2].shape[0])\n",
    "    input_decoder = x_decoder[2].reshape(1, x_decoder[2].shape[0])\n",
    "    results = model.predict([input_encoder, input_decoder])\n",
    "    \n",
    "    indexs = np.argmax(results[0], 1) \n",
    "    \n",
    "    sentence = convert_index_to_text(indexs, index_to_word)\n",
    "    print(sentence)\n",
    "    print(\"\\n\")"
   ]
  },
  {
   "cell_type": "code",
   "execution_count": 58,
   "metadata": {
    "ExecuteTime": {
     "end_time": "2020-12-15T10:53:46.556457Z",
     "start_time": "2020-12-15T10:53:46.433185Z"
    }
   },
   "outputs": [],
   "source": [
    "model.save(model_name+'.h5')  "
   ]
  },
  {
   "cell_type": "code",
   "execution_count": 59,
   "metadata": {
    "ExecuteTime": {
     "end_time": "2020-12-15T10:53:47.510871Z",
     "start_time": "2020-12-15T10:53:47.504803Z"
    }
   },
   "outputs": [],
   "source": [
    "def make_predict_input(sentence):\n",
    "\n",
    "    sentences = []\n",
    "    sentences.append(sentence)\n",
    "    input_seq = convert_text_to_index(sentences, word_to_index, ENCODER_INPUT)\n",
    "    \n",
    "    return input_seq"
   ]
  },
  {
   "cell_type": "code",
   "execution_count": 60,
   "metadata": {
    "ExecuteTime": {
     "end_time": "2020-12-15T10:53:48.310494Z",
     "start_time": "2020-12-15T10:53:48.298670Z"
    }
   },
   "outputs": [],
   "source": [
    "def generate_text(input_seq):\n",
    "    \n",
    "    states = encoder_model.predict(input_seq)\n",
    "    target_seq = np.zeros((1, 1))    \n",
    "    target_seq[0, 0] = STA_INDEX\n",
    "    indexs = []\n",
    "    while True:        \n",
    "        decoder_outputs, state_h, state_c = decoder_model.predict(\n",
    "                                                [target_seq] + states)       \n",
    "        index = np.argmax(decoder_outputs[0, 0, :])\n",
    "        indexs.append(index)\n",
    "                \n",
    "        if index == END_INDEX or len(indexs) >= max_sequences:\n",
    "            break       \n",
    "        target_seq = np.zeros((1, 1))\n",
    "        target_seq[0, 0] = index\n",
    "        \n",
    "        states = [state_h, state_c]\n",
    "        \n",
    "    sentence = convert_index_to_text(indexs, index_to_word)        \n",
    "    return sentence"
   ]
  },
  {
   "cell_type": "code",
   "execution_count": 62,
   "metadata": {
    "ExecuteTime": {
     "end_time": "2020-12-15T10:53:57.885011Z",
     "start_time": "2020-12-15T10:53:57.863632Z"
    }
   },
   "outputs": [
    {
     "data": {
      "text/plain": [
       "array([[2009, 1386,  221, 1208,  391,  145, 2216, 2320, 1450, 1217,  864,\n",
       "         666,  401, 2294, 1546,  762,  762, 1785, 1399, 2308, 2055, 1320,\n",
       "        1815,  491, 1984,  128,  759, 1799,    0,    0]])"
      ]
     },
     "execution_count": 62,
     "metadata": {},
     "output_type": "execute_result"
    }
   ],
   "source": [
    "input_seq = make_predict_input(description_df['Incident-Subject'].iloc[0])\n",
    "input_seq"
   ]
  },
  {
   "cell_type": "code",
   "execution_count": 63,
   "metadata": {
    "ExecuteTime": {
     "end_time": "2020-12-15T10:53:59.903848Z",
     "start_time": "2020-12-15T10:53:59.739688Z"
    }
   },
   "outputs": [
    {
     "data": {
      "text/plain": [
       "'Bonjour, Le service est bien dans OPCON, je clôture ce ticket Bien cordialement, CAMARA Bilaly '"
      ]
     },
     "execution_count": 63,
     "metadata": {},
     "output_type": "execute_result"
    }
   ],
   "source": [
    "sentence = generate_text(input_seq)\n",
    "sentence"
   ]
  },
  {
   "cell_type": "code",
   "execution_count": null,
   "metadata": {},
   "outputs": [],
   "source": []
  }
 ],
 "metadata": {
  "accelerator": "GPU",
  "colab": {
   "collapsed_sections": [],
   "name": "Challange1.ipynb",
   "provenance": []
  },
  "kernelspec": {
   "display_name": "Python 3",
   "language": "python",
   "name": "python3"
  },
  "language_info": {
   "codemirror_mode": {
    "name": "ipython",
    "version": 3
   },
   "file_extension": ".py",
   "mimetype": "text/x-python",
   "name": "python",
   "nbconvert_exporter": "python",
   "pygments_lexer": "ipython3",
   "version": "3.6.9"
  },
  "toc": {
   "base_numbering": 1,
   "nav_menu": {},
   "number_sections": true,
   "sideBar": true,
   "skip_h1_title": false,
   "title_cell": "Table of Contents",
   "title_sidebar": "Contents",
   "toc_cell": false,
   "toc_position": {},
   "toc_section_display": true,
   "toc_window_display": false
  },
  "varInspector": {
   "cols": {
    "lenName": 16,
    "lenType": 16,
    "lenVar": 40
   },
   "kernels_config": {
    "python": {
     "delete_cmd_postfix": "",
     "delete_cmd_prefix": "del ",
     "library": "var_list.py",
     "varRefreshCmd": "print(var_dic_list())"
    },
    "r": {
     "delete_cmd_postfix": ") ",
     "delete_cmd_prefix": "rm(",
     "library": "var_list.r",
     "varRefreshCmd": "cat(var_dic_list()) "
    }
   },
   "types_to_exclude": [
    "module",
    "function",
    "builtin_function_or_method",
    "instance",
    "_Feature"
   ],
   "window_display": false
  }
 },
 "nbformat": 4,
 "nbformat_minor": 1
}
